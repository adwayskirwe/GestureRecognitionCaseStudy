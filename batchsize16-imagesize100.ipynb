{
 "cells": [
  {
   "cell_type": "markdown",
   "metadata": {},
   "source": [
    "# Gesture Recognition\n",
    "In this group project, you are going to build a 3D Conv model that will be able to predict the 5 gestures correctly. Please import the following libraries to get started. Once you have completed the code you can download the notebook for making a submission."
   ]
  },
  {
   "cell_type": "code",
   "execution_count": 1,
   "metadata": {},
   "outputs": [],
   "source": [
    "import numpy as np\n",
    "import matplotlib.pyplot as plt\n",
    "import seaborn as sns\n",
    "import os\n",
    "from imageio import imread\n",
    "from skimage.transform import resize\n",
    "import datetime\n",
    "import os\n",
    "import cv2\n",
    "from tensorflow.keras.models import Sequential,Model\n",
    "from tensorflow.keras.layers import Dense, GRU, Dropout, Flatten, BatchNormalization, Activation, Conv3D, MaxPooling3D, TimeDistributed,Conv2D,MaxPooling2D,LSTM, Input,GlobalAveragePooling2D\n",
    "from tensorflow.keras.callbacks import ModelCheckpoint, ReduceLROnPlateau, EarlyStopping\n",
    "from tensorflow.keras import optimizers\n",
    "from tensorflow.keras.applications import ResNet50\n",
    "from keras.applications.vgg16 import VGG16\n",
    "from tensorflow.keras.optimizers import Nadam, Adam, SGD"
   ]
  },
  {
   "cell_type": "markdown",
   "metadata": {},
   "source": [
    "We set the random seed so that the results don't vary drastically."
   ]
  },
  {
   "cell_type": "code",
   "execution_count": 2,
   "metadata": {},
   "outputs": [],
   "source": [
    "np.random.seed(30)\n",
    "import random as rn\n",
    "rn.seed(30)\n",
    "from tensorflow import keras\n",
    "import tensorflow as tf\n",
    "tf.random.set_seed(30)"
   ]
  },
  {
   "cell_type": "markdown",
   "metadata": {},
   "source": [
    "In this block, you read the folder names for training and validation. You also set the `batch_size` here. Note that you set the batch size in such a way that you are able to use the GPU in full capacity. You keep increasing the batch size until the machine throws an error."
   ]
  },
  {
   "cell_type": "markdown",
   "metadata": {},
   "source": [
    "**data path: /home/datasets/Project_data**"
   ]
  },
  {
   "cell_type": "code",
   "execution_count": 3,
   "metadata": {},
   "outputs": [],
   "source": [
    "train_doc = np.random.permutation(open('/home/datasets/Project_data/train.csv').readlines())\n",
    "val_doc = np.random.permutation(open('/home/datasets/Project_data/val.csv').readlines())\n",
    "batch_size = 16"
   ]
  },
  {
   "cell_type": "markdown",
   "metadata": {},
   "source": [
    "## Generator\n",
    "This is one of the most important part of the code. The overall structure of the generator has been given. In the generator, you are going to preprocess the images as you have images of 2 different dimensions as well as create a batch of video frames. You have to experiment with `img_idx`, `y`,`z` and normalization such that you get high accuracy."
   ]
  },
  {
   "cell_type": "code",
   "execution_count": 4,
   "metadata": {},
   "outputs": [],
   "source": [
    "def generator(source_path, folder_list, batch_size):\n",
    "    print( 'Source path = ', source_path, '; batch size =', batch_size)\n",
    "    img_idx = [0,1,2,4,6,8,10,12,14,16,18,20,22,24,26,27,28,29]\n",
    "    while True:\n",
    "        t = np.random.permutation(folder_list)\n",
    "        num_batches = int(len(t)/batch_size)\n",
    "        for batch in range(num_batches):\n",
    "            batch_data = np.zeros((batch_size,18,100,100,3))\n",
    "            batch_labels = np.zeros((batch_size,5))\n",
    "            for folder in range(batch_size):\n",
    "                imgs = os.listdir(source_path+'/'+ t[folder + (batch*batch_size)].split(';')[0])\n",
    "                for idx,item in enumerate(img_idx):\n",
    "                    image = imread(source_path+'/'+ t[folder + (batch*batch_size)].strip().split(';')[0]+'/'+imgs[item]).astype(np.float32)\n",
    "                    if image.shape[1] == 160:\n",
    "                        image = cv2.resize(image[:,20:140,:],(100,100)).astype(np.float32)\n",
    "                    else:\n",
    "                        image = cv2.resize(image,(100,100)).astype(np.float32)\n",
    "                    \n",
    "                    batch_data[folder,idx,:,:,0] = image[:,:,0]-104\n",
    "                    batch_data[folder,idx,:,:,1] = image[:,:,1]-117\n",
    "                    batch_data[folder,idx,:,:,2] = image[:,:,2]-123\n",
    "                    \n",
    "                batch_labels[folder, int(t[folder + (batch*batch_size)].strip().split(';')[2])] = 1\n",
    "            yield batch_data, batch_labels\n",
    "\n",
    "        if (len(t)%batch_size) != 0:\n",
    "            batch_data = np.zeros((len(t)%batch_size,18,100,100,3))\n",
    "            batch_labels = np.zeros((len(t)%batch_size,5))\n",
    "            for folder in range(len(t)%batch_size):\n",
    "                imgs = os.listdir(source_path+'/'+ t[folder + (num_batches*batch_size)].split(';')[0])\n",
    "                for idx,item in enumerate(img_idx):\n",
    "                    image = imread(source_path+'/'+ t[folder + (num_batches*batch_size)].strip().split(';')[0]+'/'+imgs[item]).astype(np.float32)\n",
    "                    if image.shape[1] == 160:\n",
    "                        image = cv2.resize(image[:,20:140,:],(100,100)).astype(np.float32)\n",
    "                    else:\n",
    "                        image = cv2.resize(image,(100,100)).astype(np.float32)\n",
    "\n",
    "                    batch_data[folder,idx,:,:,0] = image[:,:,0]-104\n",
    "                    batch_data[folder,idx,:,:,1] = image[:,:,1]-117\n",
    "                    batch_data[folder,idx,:,:,2] = image[:,:,2]-123\n",
    "\n",
    "                batch_labels[folder, int(t[folder + (num_batches*batch_size)].strip().split(';')[2])] = 1\n",
    "\n",
    "            yield batch_data, batch_labels"
   ]
  },
  {
   "cell_type": "markdown",
   "metadata": {},
   "source": [
    "Note here that a video is represented above in the generator as (number of images, height, width, number of channels). Take this into consideration while creating the model architecture."
   ]
  },
  {
   "cell_type": "code",
   "execution_count": 5,
   "metadata": {},
   "outputs": [
    {
     "name": "stdout",
     "output_type": "stream",
     "text": [
      "# training sequences = 663\n",
      "# validation sequences = 100\n",
      "# epochs = 15\n"
     ]
    }
   ],
   "source": [
    "curr_dt_time = datetime.datetime.now()\n",
    "train_path = '/home/datasets/Project_data/train'\n",
    "val_path = '/home/datasets/Project_data/val'\n",
    "num_train_sequences = len(train_doc)\n",
    "print('# training sequences =', num_train_sequences)\n",
    "num_val_sequences = len(val_doc)\n",
    "print('# validation sequences =', num_val_sequences)\n",
    "num_epochs = 15\n",
    "print ('# epochs =', num_epochs)"
   ]
  },
  {
   "cell_type": "markdown",
   "metadata": {},
   "source": [
    "Let us create the `train_generator` and the `val_generator` which will be used in `.fit_generator`."
   ]
  },
  {
   "cell_type": "code",
   "execution_count": 6,
   "metadata": {},
   "outputs": [],
   "source": [
    "train_generator = generator(train_path, train_doc, batch_size)\n",
    "val_generator = generator(val_path, val_doc, batch_size)"
   ]
  },
  {
   "cell_type": "code",
   "execution_count": 7,
   "metadata": {},
   "outputs": [
    {
     "name": "stdout",
     "output_type": "stream",
     "text": [
      "WARNING:tensorflow:`period` argument is deprecated. Please use `save_freq` to specify the frequency in number of batches seen.\n"
     ]
    }
   ],
   "source": [
    "model_name = 'model_init' + '_' + str(curr_dt_time).replace(' ','').replace(':','_') + '/'\n",
    "    \n",
    "if not os.path.exists(model_name):\n",
    "    os.mkdir(model_name)\n",
    "        \n",
    "filepath = model_name + 'model-{epoch:05d}-{loss:.5f}-{categorical_accuracy:.5f}-{val_loss:.5f}-{val_categorical_accuracy:.5f}.h5'\n",
    "#filepath = model_name + 'model.h5'\n",
    "\n",
    "checkpoint = ModelCheckpoint(filepath, monitor='val_loss', verbose=1, save_best_only=True, save_weights_only=True, mode='auto',period=3)\n",
    "\n",
    "LR = ReduceLROnPlateau(monitor='val_loss', factor=0.2, verbose=1, patience=4)\n",
    "\n",
    "es = EarlyStopping(patience=10, restore_best_weights=True)\n",
    "\n",
    "callbacks_list = [checkpoint, LR, es]"
   ]
  },
  {
   "cell_type": "markdown",
   "metadata": {},
   "source": [
    "The `steps_per_epoch` and `validation_steps` are used by `fit` method to decide the number of next() calls it need to make."
   ]
  },
  {
   "cell_type": "code",
   "execution_count": 8,
   "metadata": {},
   "outputs": [],
   "source": [
    "if (num_train_sequences%batch_size) == 0:\n",
    "    steps_per_epoch = int(num_train_sequences/batch_size)\n",
    "else:\n",
    "    steps_per_epoch = (num_train_sequences//batch_size) + 1\n",
    "\n",
    "if (num_val_sequences%batch_size) == 0:\n",
    "    validation_steps = int(num_val_sequences/batch_size)\n",
    "else:\n",
    "    validation_steps = (num_val_sequences//batch_size) + 1"
   ]
  },
  {
   "cell_type": "markdown",
   "metadata": {},
   "source": [
    "## Model\n",
    "Here you make the model using different functionalities that Keras provides. Remember to use `Conv3D` and `MaxPooling3D` and not `Conv2D` and `Maxpooling2D` for a 3D convolution model. You would want to use `TimeDistributed` while building a Conv2D + RNN model. Also remember that the last layer is the softmax. Design the network in such a way that the model is able to give good accuracy on the least number of parameters so that it can fit in the memory of the webcam."
   ]
  },
  {
   "cell_type": "code",
   "execution_count": 9,
   "metadata": {},
   "outputs": [
    {
     "data": {
      "text/plain": [
       "'\\nbase_model = Sequential()\\nbase_model.add(TimeDistributed(Conv2D(32, (7, 7), strides=(2, 2), activation=\\'relu\\', padding=\\'same\\'), input_shape=(18,84,84,3)))\\nbase_model.add(TimeDistributed(Conv2D(32, (3,3), kernel_initializer=\"he_normal\", activation=\\'relu\\')))\\nbase_model.add(TimeDistributed(MaxPooling2D((2, 2), strides=(2, 2))))\\n \\nbase_model.add(TimeDistributed(Conv2D(64, (3,3), padding=\\'same\\', activation=\\'relu\\')))\\nbase_model.add(TimeDistributed(Conv2D(64, (3,3), padding=\\'same\\', activation=\\'relu\\')))\\nbase_model.add(TimeDistributed(MaxPooling2D((2, 2), strides=(2, 2))))\\n \\nbase_model.add(TimeDistributed(Conv2D(128, (3,3), padding=\\'same\\', activation=\\'relu\\')))\\nbase_model.add(TimeDistributed(Conv2D(128, (3,3), padding=\\'same\\', activation=\\'relu\\')))\\nbase_model.add(TimeDistributed(MaxPooling2D((2, 2), strides=(2, 2))))\\n \\nbase_model.add(TimeDistributed(Conv2D(256, (3,3), padding=\\'same\\', activation=\\'relu\\')))\\nbase_model.add(TimeDistributed(Conv2D(256, (3,3), padding=\\'same\\', activation=\\'relu\\')))\\nbase_model.add(TimeDistributed(MaxPooling2D((2, 2), strides=(2, 2))))\\n \\nbase_model.add(TimeDistributed(Conv2D(512, (3,3), padding=\\'same\\', activation=\\'relu\\')))\\nbase_model.add(TimeDistributed(Conv2D(512, (3,3), padding=\\'same\\', activation=\\'relu\\')))\\nbase_model.add(TimeDistributed(MaxPooling2D((2, 2), strides=(2, 2))))\\n \\nbase_model.add(TimeDistributed(Flatten()))\\n \\nbase_model.add(Dropout(0.5))\\nbase_model.add(LSTM(2048, return_sequences=True, dropout=0.3))\\nbase_model.add(LSTM(1024, return_sequences=True, dropout=0.3))\\nbase_model.add(LSTM(512, return_sequences=False, dropout=0.3))\\nbase_model.add(Dense(128))\\nbase_model.add(Dense(5, activation=\\'softmax\\'))\\nbase_model.summary()\\n'"
      ]
     },
     "execution_count": 9,
     "metadata": {},
     "output_type": "execute_result"
    }
   ],
   "source": [
    "## This model gave about 20% accuracy after 7 epochs using below architecture (No Transfer Learning)\n",
    "'''\n",
    "base_model = Sequential()\n",
    "base_model.add(TimeDistributed(Conv2D(32, (7, 7), strides=(2, 2), activation='relu', padding='same'), input_shape=(18,84,84,3)))\n",
    "base_model.add(TimeDistributed(Conv2D(32, (3,3), kernel_initializer=\"he_normal\", activation='relu')))\n",
    "base_model.add(TimeDistributed(MaxPooling2D((2, 2), strides=(2, 2))))\n",
    " \n",
    "base_model.add(TimeDistributed(Conv2D(64, (3,3), padding='same', activation='relu')))\n",
    "base_model.add(TimeDistributed(Conv2D(64, (3,3), padding='same', activation='relu')))\n",
    "base_model.add(TimeDistributed(MaxPooling2D((2, 2), strides=(2, 2))))\n",
    " \n",
    "base_model.add(TimeDistributed(Conv2D(128, (3,3), padding='same', activation='relu')))\n",
    "base_model.add(TimeDistributed(Conv2D(128, (3,3), padding='same', activation='relu')))\n",
    "base_model.add(TimeDistributed(MaxPooling2D((2, 2), strides=(2, 2))))\n",
    " \n",
    "base_model.add(TimeDistributed(Conv2D(256, (3,3), padding='same', activation='relu')))\n",
    "base_model.add(TimeDistributed(Conv2D(256, (3,3), padding='same', activation='relu')))\n",
    "base_model.add(TimeDistributed(MaxPooling2D((2, 2), strides=(2, 2))))\n",
    " \n",
    "base_model.add(TimeDistributed(Conv2D(512, (3,3), padding='same', activation='relu')))\n",
    "base_model.add(TimeDistributed(Conv2D(512, (3,3), padding='same', activation='relu')))\n",
    "base_model.add(TimeDistributed(MaxPooling2D((2, 2), strides=(2, 2))))\n",
    " \n",
    "base_model.add(TimeDistributed(Flatten()))\n",
    " \n",
    "base_model.add(Dropout(0.5))\n",
    "base_model.add(LSTM(2048, return_sequences=True, dropout=0.3))\n",
    "base_model.add(LSTM(1024, return_sequences=True, dropout=0.3))\n",
    "base_model.add(LSTM(512, return_sequences=False, dropout=0.3))\n",
    "base_model.add(Dense(128))\n",
    "base_model.add(Dense(5, activation='softmax'))\n",
    "base_model.summary()\n",
    "'''"
   ]
  },
  {
   "cell_type": "markdown",
   "metadata": {},
   "source": [
    "Now that you have written the model, the next step is to `compile` the model. When you print the `summary` of the model, you'll see the total number of parameters you have to train."
   ]
  },
  {
   "cell_type": "code",
   "execution_count": 10,
   "metadata": {},
   "outputs": [
    {
     "data": {
      "text/plain": [
       "\"\\noptimiser = Adam()\\nbase_model.compile(optimizer=optimiser, loss='categorical_crossentropy', metrics=['categorical_accuracy'])\\nprint (base_model.summary())\\n\""
      ]
     },
     "execution_count": 10,
     "metadata": {},
     "output_type": "execute_result"
    }
   ],
   "source": [
    "'''\n",
    "optimiser = Adam()\n",
    "base_model.compile(optimizer=optimiser, loss='categorical_crossentropy', metrics=['categorical_accuracy'])\n",
    "print (base_model.summary())\n",
    "'''"
   ]
  },
  {
   "cell_type": "markdown",
   "metadata": {},
   "source": [
    "Let us now fit the model. This will start training the model and with the help of the checkpoints, you'll be able to save the model at the end of each epoch."
   ]
  },
  {
   "cell_type": "code",
   "execution_count": 11,
   "metadata": {},
   "outputs": [
    {
     "data": {
      "text/plain": [
       "'\\nhistory = base_model.fit(train_generator, steps_per_epoch=steps_per_epoch, epochs=num_epochs, verbose=1, \\n                    callbacks=callbacks_list, validation_data=val_generator, \\n                    validation_steps=validation_steps, class_weight=None, workers=1, initial_epoch=0)\\n'"
      ]
     },
     "execution_count": 11,
     "metadata": {},
     "output_type": "execute_result"
    }
   ],
   "source": [
    "'''\n",
    "history = base_model.fit(train_generator, steps_per_epoch=steps_per_epoch, epochs=num_epochs, verbose=1, \n",
    "                    callbacks=callbacks_list, validation_data=val_generator, \n",
    "                    validation_steps=validation_steps, class_weight=None, workers=1, initial_epoch=0)\n",
    "'''"
   ]
  },
  {
   "cell_type": "code",
   "execution_count": 12,
   "metadata": {},
   "outputs": [
    {
     "data": {
      "text/plain": [
       "\"\\n# summarize history for accuracy\\nplt.plot(history.history['categorical_accuracy'])\\nplt.plot(history.history['val_categorical_accuracy'])\\nplt.title('Base CNN_LSTM Model (without Transfer Learning) accuracy')\\nplt.ylabel('Categorical accuracy')\\nplt.xlabel('epoch')\\nplt.legend(['train', 'test'], loc='upper left')\\nplt.show()\\n# summarize history for loss\\nplt.plot(history.history['loss'])\\nplt.plot(history.history['val_loss'])\\nplt.title('model loss')\\nplt.ylabel('loss')\\nplt.xlabel('epoch')\\nplt.legend(['train', 'test'], loc='upper left')\\nplt.show()\\n\""
      ]
     },
     "execution_count": 12,
     "metadata": {},
     "output_type": "execute_result"
    }
   ],
   "source": [
    "'''\n",
    "# summarize history for accuracy\n",
    "plt.plot(history.history['categorical_accuracy'])\n",
    "plt.plot(history.history['val_categorical_accuracy'])\n",
    "plt.title('Base CNN_LSTM Model (without Transfer Learning) accuracy')\n",
    "plt.ylabel('Categorical accuracy')\n",
    "plt.xlabel('epoch')\n",
    "plt.legend(['train', 'test'], loc='upper left')\n",
    "plt.show()\n",
    "# summarize history for loss\n",
    "plt.plot(history.history['loss'])\n",
    "plt.plot(history.history['val_loss'])\n",
    "plt.title('model loss')\n",
    "plt.ylabel('loss')\n",
    "plt.xlabel('epoch')\n",
    "plt.legend(['train', 'test'], loc='upper left')\n",
    "plt.show()\n",
    "'''"
   ]
  },
  {
   "cell_type": "code",
   "execution_count": 13,
   "metadata": {},
   "outputs": [
    {
     "name": "stderr",
     "output_type": "stream",
     "text": [
      "2022-05-17 13:45:32.725350: W tensorflow/core/common_runtime/gpu/gpu_bfc_allocator.cc:39] Overriding allow_growth setting because the TF_FORCE_GPU_ALLOW_GROWTH environment variable is set. Original config value was 0.\n",
      "2022-05-17 13:45:32.725415: I tensorflow/core/common_runtime/gpu/gpu_device.cc:1525] Created device /job:localhost/replica:0/task:0/device:GPU:0 with 14803 MB memory:  -> device: 0, name: Quadro RTX 5000, pci bus id: 0000:3f:00.0, compute capability: 7.5\n"
     ]
    }
   ],
   "source": [
    "# Commenting out this model as I only want to run 3D CNN for now //remember to uncomment\n",
    "\n",
    "video = Input(shape=(18,\n",
    "                     100,\n",
    "                     100,\n",
    "                     3))\n",
    "cnn_base = ResNet50(input_shape=(100,\n",
    "                              100,\n",
    "                              3),\n",
    "                 weights=\"imagenet\",\n",
    "                 include_top=False)\n",
    "\n",
    "##Commented below after suggestion from Harshul\n",
    "cnn_out = GlobalAveragePooling2D()(cnn_base.output)\n",
    "cnn = Model(cnn_base.input,cnn_out)\n",
    "\n",
    "\n",
    "#cnn.trainable = False\n",
    "split_at = 140\n",
    "for layer in cnn.layers[:split_at]: layer.trainable = False\n",
    "for layer in cnn.layers[split_at:]: layer.trainable = True\n",
    "\n",
    "\n",
    "encoded_frames = TimeDistributed(cnn)(video)\n",
    "##Added below after suggestion from Harshul\n",
    "\n",
    "#cnn.add(TimeDistributed(BatchNormalization()))\n",
    "#cnn.add(TimeDistributed(MaxPooling2D((2, 2))))\n",
    "encoded_frames1 = TimeDistributed(Flatten())(encoded_frames)\n",
    "##########\n",
    "encoded_sequence = LSTM(4028, return_sequences=True)(encoded_frames1)\n",
    "encoded_sequence1 = LSTM(2024,return_sequences=True)(encoded_sequence)\n",
    "encoded_sequence2 = LSTM(1012)(encoded_sequence1)\n",
    "hidden_layer = Dense(units=1024, activation=\"relu\")(encoded_sequence2)\n",
    "outputs = Dense(units=5, activation=\"softmax\")(hidden_layer)\n",
    "tl_cnn_lstm = Model([video], outputs)\n"
   ]
  },
  {
   "cell_type": "code",
   "execution_count": 14,
   "metadata": {},
   "outputs": [
    {
     "name": "stdout",
     "output_type": "stream",
     "text": [
      "Model: \"model_1\"\n",
      "_________________________________________________________________\n",
      " Layer (type)                Output Shape              Param #   \n",
      "=================================================================\n",
      " input_1 (InputLayer)        [(None, 18, 100, 100, 3)  0         \n",
      "                             ]                                   \n",
      "                                                                 \n",
      " time_distributed (TimeDistr  (None, 18, 2048)         23587712  \n",
      " ibuted)                                                         \n",
      "                                                                 \n",
      " time_distributed_1 (TimeDis  (None, 18, 2048)         0         \n",
      " tributed)                                                       \n",
      "                                                                 \n",
      " lstm (LSTM)                 (None, 18, 4028)          97912624  \n",
      "                                                                 \n",
      " lstm_1 (LSTM)               (None, 18, 2024)          49005088  \n",
      "                                                                 \n",
      " lstm_2 (LSTM)               (None, 1012)              12293776  \n",
      "                                                                 \n",
      " dense (Dense)               (None, 1024)              1037312   \n",
      "                                                                 \n",
      " dense_1 (Dense)             (None, 5)                 5125      \n",
      "                                                                 \n",
      "=================================================================\n",
      "Total params: 183,841,637\n",
      "Trainable params: 175,231,973\n",
      "Non-trainable params: 8,609,664\n",
      "_________________________________________________________________\n",
      "None\n"
     ]
    }
   ],
   "source": [
    "optimiser = Adam()                 \n",
    "tl_cnn_lstm.compile(optimizer=optimiser, loss='categorical_crossentropy', metrics=['categorical_accuracy'])\n",
    "print (tl_cnn_lstm.summary())"
   ]
  },
  {
   "cell_type": "code",
   "execution_count": 15,
   "metadata": {},
   "outputs": [
    {
     "name": "stdout",
     "output_type": "stream",
     "text": [
      "Source path =  /home/datasets/Project_data/train ; batch size = 16\n",
      "Epoch 1/15\n"
     ]
    },
    {
     "name": "stderr",
     "output_type": "stream",
     "text": [
      "2022-05-17 13:46:43.764060: I tensorflow/stream_executor/cuda/cuda_dnn.cc:377] Loaded cuDNN version 8302\n"
     ]
    },
    {
     "name": "stdout",
     "output_type": "stream",
     "text": [
      "42/42 [==============================] - ETA: 0s - loss: 1.7956 - categorical_accuracy: 0.1961Source path =  /home/datasets/Project_data/val ; batch size = 16\n",
      "42/42 [==============================] - 55s 1s/step - loss: 1.7956 - categorical_accuracy: 0.1961 - val_loss: 1.6079 - val_categorical_accuracy: 0.2100 - lr: 0.0010\n",
      "Epoch 2/15\n",
      "42/42 [==============================] - 40s 959ms/step - loss: 1.6122 - categorical_accuracy: 0.2112 - val_loss: 1.5846 - val_categorical_accuracy: 0.3000 - lr: 0.0010\n",
      "Epoch 3/15\n",
      "42/42 [==============================] - ETA: 0s - loss: 1.4679 - categorical_accuracy: 0.3152\n",
      "Epoch 00003: val_loss improved from inf to 2.23852, saving model to model_init_2022-05-1713_45_31.789019/model-00003-1.46787-0.31523-2.23852-0.24000.h5\n",
      "42/42 [==============================] - 40s 962ms/step - loss: 1.4679 - categorical_accuracy: 0.3152 - val_loss: 2.2385 - val_categorical_accuracy: 0.2400 - lr: 0.0010\n",
      "Epoch 4/15\n",
      "42/42 [==============================] - 39s 944ms/step - loss: 1.3690 - categorical_accuracy: 0.3529 - val_loss: 1.3173 - val_categorical_accuracy: 0.3900 - lr: 0.0010\n",
      "Epoch 5/15\n",
      "42/42 [==============================] - 39s 937ms/step - loss: 1.2460 - categorical_accuracy: 0.3605 - val_loss: 1.2196 - val_categorical_accuracy: 0.3000 - lr: 0.0010\n",
      "Epoch 6/15\n",
      "42/42 [==============================] - ETA: 0s - loss: 1.2345 - categorical_accuracy: 0.3650\n",
      "Epoch 00006: val_loss improved from 2.23852 to 1.21439, saving model to model_init_2022-05-1713_45_31.789019/model-00006-1.23447-0.36501-1.21439-0.43000.h5\n",
      "42/42 [==============================] - 40s 974ms/step - loss: 1.2345 - categorical_accuracy: 0.3650 - val_loss: 1.2144 - val_categorical_accuracy: 0.4300 - lr: 0.0010\n",
      "Epoch 7/15\n",
      "42/42 [==============================] - 40s 969ms/step - loss: 1.1755 - categorical_accuracy: 0.4178 - val_loss: 1.1603 - val_categorical_accuracy: 0.3200 - lr: 0.0010\n",
      "Epoch 8/15\n",
      "42/42 [==============================] - 39s 952ms/step - loss: 0.9500 - categorical_accuracy: 0.5445 - val_loss: 1.0861 - val_categorical_accuracy: 0.4300 - lr: 0.0010\n",
      "Epoch 9/15\n",
      "42/42 [==============================] - ETA: 0s - loss: 0.8296 - categorical_accuracy: 0.5641\n",
      "Epoch 00009: val_loss improved from 1.21439 to 1.06765, saving model to model_init_2022-05-1713_45_31.789019/model-00009-0.82964-0.56410-1.06765-0.53000.h5\n",
      "42/42 [==============================] - 40s 964ms/step - loss: 0.8296 - categorical_accuracy: 0.5641 - val_loss: 1.0677 - val_categorical_accuracy: 0.5300 - lr: 0.0010\n",
      "Epoch 10/15\n",
      "42/42 [==============================] - 38s 922ms/step - loss: 0.7906 - categorical_accuracy: 0.6048 - val_loss: 1.4636 - val_categorical_accuracy: 0.3800 - lr: 0.0010\n",
      "Epoch 11/15\n",
      "42/42 [==============================] - 37s 901ms/step - loss: 0.8498 - categorical_accuracy: 0.6244 - val_loss: 1.0811 - val_categorical_accuracy: 0.3200 - lr: 0.0010\n",
      "Epoch 12/15\n",
      "42/42 [==============================] - ETA: 0s - loss: 0.7453 - categorical_accuracy: 0.6591\n",
      "Epoch 00012: val_loss improved from 1.06765 to 0.99695, saving model to model_init_2022-05-1713_45_31.789019/model-00012-0.74532-0.65913-0.99695-0.59000.h5\n",
      "42/42 [==============================] - 40s 971ms/step - loss: 0.7453 - categorical_accuracy: 0.6591 - val_loss: 0.9969 - val_categorical_accuracy: 0.5900 - lr: 0.0010\n",
      "Epoch 13/15\n",
      "42/42 [==============================] - 39s 942ms/step - loss: 0.6184 - categorical_accuracy: 0.7164 - val_loss: 0.9267 - val_categorical_accuracy: 0.5800 - lr: 0.0010\n",
      "Epoch 14/15\n",
      "42/42 [==============================] - 40s 964ms/step - loss: 0.6475 - categorical_accuracy: 0.6908 - val_loss: 0.9751 - val_categorical_accuracy: 0.6500 - lr: 0.0010\n",
      "Epoch 15/15\n",
      "42/42 [==============================] - ETA: 0s - loss: 0.5846 - categorical_accuracy: 0.7134\n",
      "Epoch 00015: val_loss did not improve from 0.99695\n",
      "42/42 [==============================] - 40s 963ms/step - loss: 0.5846 - categorical_accuracy: 0.7134 - val_loss: 1.0347 - val_categorical_accuracy: 0.5900 - lr: 0.0010\n"
     ]
    }
   ],
   "source": [
    "# Commenting out this model as I only want to run 3D CNN for now //remember to uncomment\n",
    "history = tl_cnn_lstm.fit(train_generator, steps_per_epoch=steps_per_epoch, epochs=num_epochs, verbose=1, \n",
    "                    callbacks=callbacks_list, validation_data=val_generator, \n",
    "                    validation_steps=validation_steps, class_weight=None, workers=1, initial_epoch=0)"
   ]
  },
  {
   "cell_type": "markdown",
   "metadata": {},
   "source": [
    "#######################"
   ]
  },
  {
   "cell_type": "code",
   "execution_count": 16,
   "metadata": {},
   "outputs": [
    {
     "data": {
      "image/png": "[encoded data removed]",
      "text/plain": [
       "<Figure size 432x288 with 1 Axes>"
      ]
     },
     "metadata": {
      "needs_background": "light"
     },
     "output_type": "display_data"
    },
    {
     "data": {
      "image/png": "[encoded data removed]",
      "text/plain": [
       "<Figure size 432x288 with 1 Axes>"
      ]
     },
     "metadata": {
      "needs_background": "light"
     },
     "output_type": "display_data"
    }
   ],
   "source": [
    "# summarize history for accuracy\n",
    "plt.plot(history.history['categorical_accuracy'])\n",
    "plt.plot(history.history['val_categorical_accuracy'])\n",
    "plt.title(' CNN_LSTM Model (ResNet50 Transfer Learning) accuracy')\n",
    "plt.ylabel('Categorical accuracy')\n",
    "plt.xlabel('epoch')\n",
    "plt.legend(['train', 'test'], loc='upper left')\n",
    "plt.show()\n",
    "# summarize history for loss\n",
    "plt.plot(history.history['loss'])\n",
    "plt.plot(history.history['val_loss'])\n",
    "plt.title('model loss')\n",
    "plt.ylabel('loss')\n",
    "plt.xlabel('epoch')\n",
    "plt.legend(['train', 'test'], loc='upper left')\n",
    "plt.show()"
   ]
  },
  {
   "cell_type": "code",
   "execution_count": 17,
   "metadata": {},
   "outputs": [],
   "source": [
    "\n",
    "#write your model here\n",
    "\n",
    "threeD_cnn_model = Sequential()\n",
    "\n",
    "threeD_cnn_model.add(Conv3D(16, (3,3,3), padding='same',input_shape=(18,100,100,3)))\n",
    "threeD_cnn_model.add(BatchNormalization())\n",
    "threeD_cnn_model.add(Activation('relu'))\n",
    "threeD_cnn_model.add(MaxPooling3D(pool_size=(2,2,2)))\n",
    "threeD_cnn_model.add(Dropout(0.3))\n",
    "\n",
    "threeD_cnn_model.add(Conv3D(32, (3,3,3), padding='same'))\n",
    "threeD_cnn_model.add(BatchNormalization())\n",
    "threeD_cnn_model.add(Activation('relu'))\n",
    "threeD_cnn_model.add(MaxPooling3D(pool_size=(2,2,2)))\n",
    "threeD_cnn_model.add(Dropout(0.3))\n",
    "\n",
    "\n",
    "threeD_cnn_model.add(Conv3D(64, (3,3,3), padding='same'))\n",
    "threeD_cnn_model.add(BatchNormalization())\n",
    "threeD_cnn_model.add(Activation('relu'))\n",
    "threeD_cnn_model.add(MaxPooling3D(pool_size=(2,2,2)))\n",
    "threeD_cnn_model.add(Dropout(0.3))\n",
    "\n",
    "\n",
    "threeD_cnn_model.add(Conv3D(128, (3,3,3), padding='same'))\n",
    "threeD_cnn_model.add(BatchNormalization())\n",
    "threeD_cnn_model.add(Activation('relu'))\n",
    "threeD_cnn_model.add(MaxPooling3D(pool_size=(2,2,2)))\n",
    "threeD_cnn_model.add(Dropout(0.3))\n",
    "\n",
    "\n",
    "threeD_cnn_model.add(Flatten())\n",
    "threeD_cnn_model.add(Dropout(0.3))\n",
    "threeD_cnn_model.add(Dense(256, activation='relu'))\n",
    "threeD_cnn_model.add(Dropout(0.2))\n",
    "threeD_cnn_model.add(Dense(5, activation='softmax'))"
   ]
  },
  {
   "cell_type": "code",
   "execution_count": 18,
   "metadata": {},
   "outputs": [
    {
     "name": "stdout",
     "output_type": "stream",
     "text": [
      "Model: \"sequential\"\n",
      "_________________________________________________________________\n",
      " Layer (type)                Output Shape              Param #   \n",
      "=================================================================\n",
      " conv3d (Conv3D)             (None, 18, 100, 100, 16)  1312      \n",
      "                                                                 \n",
      " batch_normalization (BatchN  (None, 18, 100, 100, 16)  64       \n",
      " ormalization)                                                   \n",
      "                                                                 \n",
      " activation (Activation)     (None, 18, 100, 100, 16)  0         \n",
      "                                                                 \n",
      " max_pooling3d (MaxPooling3D  (None, 9, 50, 50, 16)    0         \n",
      " )                                                               \n",
      "                                                                 \n",
      " dropout (Dropout)           (None, 9, 50, 50, 16)     0         \n",
      "                                                                 \n",
      " conv3d_1 (Conv3D)           (None, 9, 50, 50, 32)     13856     \n",
      "                                                                 \n",
      " batch_normalization_1 (Batc  (None, 9, 50, 50, 32)    128       \n",
      " hNormalization)                                                 \n",
      "                                                                 \n",
      " activation_1 (Activation)   (None, 9, 50, 50, 32)     0         \n",
      "                                                                 \n",
      " max_pooling3d_1 (MaxPooling  (None, 4, 25, 25, 32)    0         \n",
      " 3D)                                                             \n",
      "                                                                 \n",
      " dropout_1 (Dropout)         (None, 4, 25, 25, 32)     0         \n",
      "                                                                 \n",
      " conv3d_2 (Conv3D)           (None, 4, 25, 25, 64)     55360     \n",
      "                                                                 \n",
      " batch_normalization_2 (Batc  (None, 4, 25, 25, 64)    256       \n",
      " hNormalization)                                                 \n",
      "                                                                 \n",
      " activation_2 (Activation)   (None, 4, 25, 25, 64)     0         \n",
      "                                                                 \n",
      " max_pooling3d_2 (MaxPooling  (None, 2, 12, 12, 64)    0         \n",
      " 3D)                                                             \n",
      "                                                                 \n",
      " dropout_2 (Dropout)         (None, 2, 12, 12, 64)     0         \n",
      "                                                                 \n",
      " conv3d_3 (Conv3D)           (None, 2, 12, 12, 128)    221312    \n",
      "                                                                 \n",
      " batch_normalization_3 (Batc  (None, 2, 12, 12, 128)   512       \n",
      " hNormalization)                                                 \n",
      "                                                                 \n",
      " activation_3 (Activation)   (None, 2, 12, 12, 128)    0         \n",
      "                                                                 \n",
      " max_pooling3d_3 (MaxPooling  (None, 1, 6, 6, 128)     0         \n",
      " 3D)                                                             \n",
      "                                                                 \n",
      " dropout_3 (Dropout)         (None, 1, 6, 6, 128)      0         \n",
      "                                                                 \n",
      " flatten_1 (Flatten)         (None, 4608)              0         \n",
      "                                                                 \n",
      " dropout_4 (Dropout)         (None, 4608)              0         \n",
      "                                                                 \n",
      " dense_2 (Dense)             (None, 256)               1179904   \n",
      "                                                                 \n",
      " dropout_5 (Dropout)         (None, 256)               0         \n",
      "                                                                 \n",
      " dense_3 (Dense)             (None, 5)                 1285      \n",
      "                                                                 \n",
      "=================================================================\n",
      "Total params: 1,473,989\n",
      "Trainable params: 1,473,509\n",
      "Non-trainable params: 480\n",
      "_________________________________________________________________\n",
      "None\n"
     ]
    }
   ],
   "source": [
    "optimiser = Adam()\n",
    "\n",
    "threeD_cnn_model.compile(optimizer=optimiser, loss='categorical_crossentropy', metrics=['categorical_accuracy'])\n",
    "print (threeD_cnn_model.summary())"
   ]
  },
  {
   "cell_type": "code",
   "execution_count": 19,
   "metadata": {},
   "outputs": [
    {
     "name": "stdout",
     "output_type": "stream",
     "text": [
      "Epoch 1/15\n",
      "42/42 [==============================] - 39s 913ms/step - loss: 3.3626 - categorical_accuracy: 0.2926 - val_loss: 19.7779 - val_categorical_accuracy: 0.2400 - lr: 0.0010\n",
      "Epoch 2/15\n",
      "42/42 [==============================] - 41s 1s/step - loss: 1.3733 - categorical_accuracy: 0.3937 - val_loss: 5.9809 - val_categorical_accuracy: 0.2700 - lr: 0.0010\n",
      "Epoch 3/15\n",
      "42/42 [==============================] - ETA: 0s - loss: 1.3066 - categorical_accuracy: 0.4253\n",
      "Epoch 00003: val_loss did not improve from 0.99695\n",
      "42/42 [==============================] - 41s 1s/step - loss: 1.3066 - categorical_accuracy: 0.4253 - val_loss: 1.4172 - val_categorical_accuracy: 0.3400 - lr: 0.0010\n",
      "Epoch 4/15\n",
      "42/42 [==============================] - 38s 933ms/step - loss: 1.2491 - categorical_accuracy: 0.4163 - val_loss: 1.0047 - val_categorical_accuracy: 0.6000 - lr: 0.0010\n",
      "Epoch 5/15\n",
      "42/42 [==============================] - 38s 925ms/step - loss: 1.1972 - categorical_accuracy: 0.4872 - val_loss: 1.2257 - val_categorical_accuracy: 0.5000 - lr: 0.0010\n",
      "Epoch 6/15\n",
      "42/42 [==============================] - ETA: 0s - loss: 1.0720 - categorical_accuracy: 0.5339\n",
      "Epoch 00006: val_loss did not improve from 0.99695\n",
      "42/42 [==============================] - 38s 927ms/step - loss: 1.0720 - categorical_accuracy: 0.5339 - val_loss: 1.4862 - val_categorical_accuracy: 0.4100 - lr: 0.0010\n",
      "Epoch 7/15\n",
      "42/42 [==============================] - 40s 962ms/step - loss: 0.9830 - categorical_accuracy: 0.5732 - val_loss: 1.6511 - val_categorical_accuracy: 0.3000 - lr: 0.0010\n",
      "Epoch 8/15\n",
      "42/42 [==============================] - ETA: 0s - loss: 0.8728 - categorical_accuracy: 0.6365\n",
      "Epoch 00008: ReduceLROnPlateau reducing learning rate to 0.00020000000949949026.\n",
      "42/42 [==============================] - 41s 991ms/step - loss: 0.8728 - categorical_accuracy: 0.6365 - val_loss: 1.8445 - val_categorical_accuracy: 0.3400 - lr: 0.0010\n",
      "Epoch 9/15\n",
      "42/42 [==============================] - ETA: 0s - loss: 0.7182 - categorical_accuracy: 0.7195\n",
      "Epoch 00009: val_loss did not improve from 0.99695\n",
      "42/42 [==============================] - 41s 992ms/step - loss: 0.7182 - categorical_accuracy: 0.7195 - val_loss: 1.7266 - val_categorical_accuracy: 0.3300 - lr: 2.0000e-04\n",
      "Epoch 10/15\n",
      "42/42 [==============================] - 38s 923ms/step - loss: 0.6417 - categorical_accuracy: 0.7391 - val_loss: 1.3063 - val_categorical_accuracy: 0.4500 - lr: 2.0000e-04\n",
      "Epoch 11/15\n",
      "42/42 [==============================] - 37s 911ms/step - loss: 0.6328 - categorical_accuracy: 0.7496 - val_loss: 1.5103 - val_categorical_accuracy: 0.5100 - lr: 2.0000e-04\n",
      "Epoch 12/15\n",
      "42/42 [==============================] - ETA: 0s - loss: 0.5744 - categorical_accuracy: 0.7783\n",
      "Epoch 00012: val_loss did not improve from 0.99695\n",
      "\n",
      "Epoch 00012: ReduceLROnPlateau reducing learning rate to 4.0000001899898055e-05.\n",
      "42/42 [==============================] - 39s 953ms/step - loss: 0.5744 - categorical_accuracy: 0.7783 - val_loss: 1.4911 - val_categorical_accuracy: 0.4700 - lr: 2.0000e-04\n",
      "Epoch 13/15\n",
      "42/42 [==============================] - 41s 991ms/step - loss: 0.5695 - categorical_accuracy: 0.7677 - val_loss: 1.2394 - val_categorical_accuracy: 0.5200 - lr: 4.0000e-05\n",
      "Epoch 14/15\n",
      "42/42 [==============================] - 40s 962ms/step - loss: 0.5686 - categorical_accuracy: 0.7692 - val_loss: 1.2829 - val_categorical_accuracy: 0.5500 - lr: 4.0000e-05\n"
     ]
    }
   ],
   "source": [
    "history = threeD_cnn_model.fit(train_generator, steps_per_epoch=steps_per_epoch, epochs=num_epochs, verbose=1, \n",
    "                    callbacks=callbacks_list, validation_data=val_generator, \n",
    "                    validation_steps=validation_steps, class_weight=None, workers=1, initial_epoch=0)"
   ]
  },
  {
   "cell_type": "code",
   "execution_count": 20,
   "metadata": {},
   "outputs": [
    {
     "data": {
      "image/png": "[encoded data removed]",
      "text/plain": [
       "<Figure size 432x288 with 1 Axes>"
      ]
     },
     "metadata": {
      "needs_background": "light"
     },
     "output_type": "display_data"
    },
    {
     "data": {
      "image/png": "[encoded data removed]",
      "text/plain": [
       "<Figure size 432x288 with 1 Axes>"
      ]
     },
     "metadata": {
      "needs_background": "light"
     },
     "output_type": "display_data"
    }
   ],
   "source": [
    "plt.plot(history.history['categorical_accuracy'])\n",
    "plt.plot(history.history['val_categorical_accuracy'])\n",
    "plt.title('3D CNN model accuracy')\n",
    "plt.ylabel('accuracy')\n",
    "plt.xlabel('epoch')\n",
    "plt.legend(['train', 'test'], loc='upper left')\n",
    "plt.show()\n",
    "# summarize history for loss\n",
    "plt.plot(history.history['loss'])\n",
    "plt.plot(history.history['val_loss'])\n",
    "plt.title('model loss')\n",
    "plt.ylabel('loss')\n",
    "plt.xlabel('epoch')\n",
    "plt.legend(['train', 'test'], loc='upper left')\n",
    "plt.show()"
   ]
  },
  {
   "cell_type": "code",
   "execution_count": null,
   "metadata": {},
   "outputs": [],
   "source": []
  }
 ],
 "metadata": {
  "kernelspec": {
   "display_name": "Python 3",
   "language": "python",
   "name": "python3"
  },
  "language_info": {
   "codemirror_mode": {
    "name": "ipython",
    "version": 3
   },
   "file_extension": ".py",
   "mimetype": "text/x-python",
   "name": "python",
   "nbconvert_exporter": "python",
   "pygments_lexer": "ipython3",
   "version": "3.6.10"
  }
 },
 "nbformat": 4,
 "nbformat_minor": 4
}
