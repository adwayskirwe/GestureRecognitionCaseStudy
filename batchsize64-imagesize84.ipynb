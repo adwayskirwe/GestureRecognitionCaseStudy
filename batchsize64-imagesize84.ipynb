{
 "cells": [
  {
   "cell_type": "markdown",
   "metadata": {},
   "source": [
    "# Gesture Recognition\n",
    "In this group project, you are going to build a 3D Conv model that will be able to predict the 5 gestures correctly. Please import the following libraries to get started. Once you have completed the code you can download the notebook for making a submission."
   ]
  },
  {
   "cell_type": "code",
   "execution_count": 1,
   "metadata": {},
   "outputs": [],
   "source": [
    "import numpy as np\n",
    "import matplotlib.pyplot as plt\n",
    "import seaborn as sns\n",
    "import os\n",
    "from imageio import imread\n",
    "from skimage.transform import resize\n",
    "import datetime\n",
    "import os\n",
    "import cv2\n",
    "from tensorflow.keras.models import Sequential,Model\n",
    "from tensorflow.keras.layers import Dense, GRU, Dropout, Flatten, BatchNormalization, Activation, Conv3D, MaxPooling3D, TimeDistributed,Conv2D,MaxPooling2D,LSTM, Input,GlobalAveragePooling2D\n",
    "from tensorflow.keras.callbacks import ModelCheckpoint, ReduceLROnPlateau, EarlyStopping\n",
    "from tensorflow.keras import optimizers\n",
    "from tensorflow.keras.applications import ResNet50\n",
    "from keras.applications.vgg16 import VGG16\n",
    "from tensorflow.keras.optimizers import Nadam, Adam, SGD"
   ]
  },
  {
   "cell_type": "markdown",
   "metadata": {},
   "source": [
    "We set the random seed so that the results don't vary drastically."
   ]
  },
  {
   "cell_type": "code",
   "execution_count": 2,
   "metadata": {},
   "outputs": [],
   "source": [
    "np.random.seed(30)\n",
    "import random as rn\n",
    "rn.seed(30)\n",
    "from tensorflow import keras\n",
    "import tensorflow as tf\n",
    "tf.random.set_seed(30)"
   ]
  },
  {
   "cell_type": "markdown",
   "metadata": {},
   "source": [
    "In this block, you read the folder names for training and validation. You also set the `batch_size` here. Note that you set the batch size in such a way that you are able to use the GPU in full capacity. You keep increasing the batch size until the machine throws an error."
   ]
  },
  {
   "cell_type": "markdown",
   "metadata": {},
   "source": [
    "**data path: /home/datasets/Project_data**"
   ]
  },
  {
   "cell_type": "code",
   "execution_count": 3,
   "metadata": {},
   "outputs": [],
   "source": [
    "train_doc = np.random.permutation(open('/home/datasets/Project_data/train.csv').readlines())\n",
    "val_doc = np.random.permutation(open('/home/datasets/Project_data/val.csv').readlines())\n",
    "batch_size = 64"
   ]
  },
  {
   "cell_type": "markdown",
   "metadata": {},
   "source": [
    "## Generator\n",
    "This is one of the most important part of the code. The overall structure of the generator has been given. In the generator, you are going to preprocess the images as you have images of 2 different dimensions as well as create a batch of video frames. You have to experiment with `img_idx`, `y`,`z` and normalization such that you get high accuracy."
   ]
  },
  {
   "cell_type": "code",
   "execution_count": 4,
   "metadata": {},
   "outputs": [],
   "source": [
    "def generator(source_path, folder_list, batch_size):\n",
    "    print( 'Source path = ', source_path, '; batch size =', batch_size)\n",
    "    img_idx = [0,1,2,4,6,8,10,12,14,16,18,20,22,24,26,27,28,29]\n",
    "    while True:\n",
    "        t = np.random.permutation(folder_list)\n",
    "        num_batches = int(len(t)/batch_size)\n",
    "        for batch in range(num_batches):\n",
    "            batch_data = np.zeros((batch_size,18,84,84,3))\n",
    "            batch_labels = np.zeros((batch_size,5))\n",
    "            for folder in range(batch_size):\n",
    "                imgs = os.listdir(source_path+'/'+ t[folder + (batch*batch_size)].split(';')[0])\n",
    "                for idx,item in enumerate(img_idx):\n",
    "                    image = imread(source_path+'/'+ t[folder + (batch*batch_size)].strip().split(';')[0]+'/'+imgs[item]).astype(np.float32)\n",
    "                    if image.shape[1] == 160:\n",
    "                        image = cv2.resize(image[:,20:140,:],(84,84)).astype(np.float32)\n",
    "                    else:\n",
    "                        image = cv2.resize(image,(84,84)).astype(np.float32)\n",
    "                    \n",
    "                    batch_data[folder,idx,:,:,0] = image[:,:,0]-104\n",
    "                    batch_data[folder,idx,:,:,1] = image[:,:,1]-117\n",
    "                    batch_data[folder,idx,:,:,2] = image[:,:,2]-123\n",
    "                    \n",
    "                batch_labels[folder, int(t[folder + (batch*batch_size)].strip().split(';')[2])] = 1\n",
    "            yield batch_data, batch_labels\n",
    "\n",
    "        if (len(t)%batch_size) != 0:\n",
    "            batch_data = np.zeros((len(t)%batch_size,18,84,84,3))\n",
    "            batch_labels = np.zeros((len(t)%batch_size,5))\n",
    "            for folder in range(len(t)%batch_size):\n",
    "                imgs = os.listdir(source_path+'/'+ t[folder + (num_batches*batch_size)].split(';')[0])\n",
    "                for idx,item in enumerate(img_idx):\n",
    "                    image = imread(source_path+'/'+ t[folder + (num_batches*batch_size)].strip().split(';')[0]+'/'+imgs[item]).astype(np.float32)\n",
    "                    if image.shape[1] == 160:\n",
    "                        image = cv2.resize(image[:,20:140,:],(84,84)).astype(np.float32)\n",
    "                    else:\n",
    "                        image = cv2.resize(image,(84,84)).astype(np.float32)\n",
    "\n",
    "                    batch_data[folder,idx,:,:,0] = image[:,:,0]-104\n",
    "                    batch_data[folder,idx,:,:,1] = image[:,:,1]-117\n",
    "                    batch_data[folder,idx,:,:,2] = image[:,:,2]-123\n",
    "\n",
    "                batch_labels[folder, int(t[folder + (num_batches*batch_size)].strip().split(';')[2])] = 1\n",
    "\n",
    "            yield batch_data, batch_labels"
   ]
  },
  {
   "cell_type": "markdown",
   "metadata": {},
   "source": [
    "Note here that a video is represented above in the generator as (number of images, height, width, number of channels). Take this into consideration while creating the model architecture."
   ]
  },
  {
   "cell_type": "code",
   "execution_count": 5,
   "metadata": {},
   "outputs": [
    {
     "name": "stdout",
     "output_type": "stream",
     "text": [
      "# training sequences = 663\n",
      "# validation sequences = 100\n",
      "# epochs = 15\n"
     ]
    }
   ],
   "source": [
    "curr_dt_time = datetime.datetime.now()\n",
    "train_path = '/home/datasets/Project_data/train'\n",
    "val_path = '/home/datasets/Project_data/val'\n",
    "num_train_sequences = len(train_doc)\n",
    "print('# training sequences =', num_train_sequences)\n",
    "num_val_sequences = len(val_doc)\n",
    "print('# validation sequences =', num_val_sequences)\n",
    "num_epochs = 15\n",
    "print ('# epochs =', num_epochs)"
   ]
  },
  {
   "cell_type": "markdown",
   "metadata": {},
   "source": [
    "Let us create the `train_generator` and the `val_generator` which will be used in `.fit_generator`."
   ]
  },
  {
   "cell_type": "code",
   "execution_count": 6,
   "metadata": {},
   "outputs": [],
   "source": [
    "train_generator = generator(train_path, train_doc, batch_size)\n",
    "val_generator = generator(val_path, val_doc, batch_size)"
   ]
  },
  {
   "cell_type": "code",
   "execution_count": 7,
   "metadata": {},
   "outputs": [
    {
     "name": "stdout",
     "output_type": "stream",
     "text": [
      "WARNING:tensorflow:`period` argument is deprecated. Please use `save_freq` to specify the frequency in number of batches seen.\n"
     ]
    }
   ],
   "source": [
    "model_name = 'model_init' + '_' + str(curr_dt_time).replace(' ','').replace(':','_') + '/'\n",
    "    \n",
    "if not os.path.exists(model_name):\n",
    "    os.mkdir(model_name)\n",
    "        \n",
    "filepath = model_name + 'model-{epoch:05d}-{loss:.5f}-{categorical_accuracy:.5f}-{val_loss:.5f}-{val_categorical_accuracy:.5f}.h5'\n",
    "#filepath = model_name + 'model.h5'\n",
    "\n",
    "checkpoint = ModelCheckpoint(filepath, monitor='val_loss', verbose=1, save_best_only=True, save_weights_only=True, mode='auto',period=3)\n",
    "\n",
    "LR = ReduceLROnPlateau(monitor='val_loss', factor=0.2, verbose=1, patience=4)\n",
    "\n",
    "es = EarlyStopping(patience=10, restore_best_weights=True)\n",
    "\n",
    "callbacks_list = [checkpoint, LR, es]"
   ]
  },
  {
   "cell_type": "markdown",
   "metadata": {},
   "source": [
    "The `steps_per_epoch` and `validation_steps` are used by `fit` method to decide the number of next() calls it need to make."
   ]
  },
  {
   "cell_type": "code",
   "execution_count": 8,
   "metadata": {},
   "outputs": [],
   "source": [
    "if (num_train_sequences%batch_size) == 0:\n",
    "    steps_per_epoch = int(num_train_sequences/batch_size)\n",
    "else:\n",
    "    steps_per_epoch = (num_train_sequences//batch_size) + 1\n",
    "\n",
    "if (num_val_sequences%batch_size) == 0:\n",
    "    validation_steps = int(num_val_sequences/batch_size)\n",
    "else:\n",
    "    validation_steps = (num_val_sequences//batch_size) + 1"
   ]
  },
  {
   "cell_type": "markdown",
   "metadata": {},
   "source": [
    "## Model\n",
    "Here you make the model using different functionalities that Keras provides. Remember to use `Conv3D` and `MaxPooling3D` and not `Conv2D` and `Maxpooling2D` for a 3D convolution model. You would want to use `TimeDistributed` while building a Conv2D + RNN model. Also remember that the last layer is the softmax. Design the network in such a way that the model is able to give good accuracy on the least number of parameters so that it can fit in the memory of the webcam."
   ]
  },
  {
   "cell_type": "code",
   "execution_count": 9,
   "metadata": {},
   "outputs": [
    {
     "name": "stderr",
     "output_type": "stream",
     "text": [
      "2022-05-17 11:02:33.368984: W tensorflow/core/common_runtime/gpu/gpu_bfc_allocator.cc:39] Overriding allow_growth setting because the TF_FORCE_GPU_ALLOW_GROWTH environment variable is set. Original config value was 0.\n",
      "2022-05-17 11:02:33.369068: I tensorflow/core/common_runtime/gpu/gpu_device.cc:1525] Created device /job:localhost/replica:0/task:0/device:GPU:0 with 14803 MB memory:  -> device: 0, name: Quadro RTX 5000, pci bus id: 0000:1d:00.0, compute capability: 7.5\n"
     ]
    },
    {
     "name": "stdout",
     "output_type": "stream",
     "text": [
      "Model: \"sequential\"\n",
      "_________________________________________________________________\n",
      " Layer (type)                Output Shape              Param #   \n",
      "=================================================================\n",
      " time_distributed (TimeDistr  (None, 18, 42, 42, 32)   4736      \n",
      " ibuted)                                                         \n",
      "                                                                 \n",
      " time_distributed_1 (TimeDis  (None, 18, 40, 40, 32)   9248      \n",
      " tributed)                                                       \n",
      "                                                                 \n",
      " time_distributed_2 (TimeDis  (None, 18, 20, 20, 32)   0         \n",
      " tributed)                                                       \n",
      "                                                                 \n",
      " time_distributed_3 (TimeDis  (None, 18, 20, 20, 64)   18496     \n",
      " tributed)                                                       \n",
      "                                                                 \n",
      " time_distributed_4 (TimeDis  (None, 18, 20, 20, 64)   36928     \n",
      " tributed)                                                       \n",
      "                                                                 \n",
      " time_distributed_5 (TimeDis  (None, 18, 10, 10, 64)   0         \n",
      " tributed)                                                       \n",
      "                                                                 \n",
      " time_distributed_6 (TimeDis  (None, 18, 10, 10, 128)  73856     \n",
      " tributed)                                                       \n",
      "                                                                 \n",
      " time_distributed_7 (TimeDis  (None, 18, 10, 10, 128)  147584    \n",
      " tributed)                                                       \n",
      "                                                                 \n",
      " time_distributed_8 (TimeDis  (None, 18, 5, 5, 128)    0         \n",
      " tributed)                                                       \n",
      "                                                                 \n",
      " time_distributed_9 (TimeDis  (None, 18, 5, 5, 256)    295168    \n",
      " tributed)                                                       \n",
      "                                                                 \n",
      " time_distributed_10 (TimeDi  (None, 18, 5, 5, 256)    590080    \n",
      " stributed)                                                      \n",
      "                                                                 \n",
      " time_distributed_11 (TimeDi  (None, 18, 2, 2, 256)    0         \n",
      " stributed)                                                      \n",
      "                                                                 \n",
      " time_distributed_12 (TimeDi  (None, 18, 2, 2, 512)    1180160   \n",
      " stributed)                                                      \n",
      "                                                                 \n",
      " time_distributed_13 (TimeDi  (None, 18, 2, 2, 512)    2359808   \n",
      " stributed)                                                      \n",
      "                                                                 \n",
      " time_distributed_14 (TimeDi  (None, 18, 1, 1, 512)    0         \n",
      " stributed)                                                      \n",
      "                                                                 \n",
      " time_distributed_15 (TimeDi  (None, 18, 512)          0         \n",
      " stributed)                                                      \n",
      "                                                                 \n",
      " dropout (Dropout)           (None, 18, 512)           0         \n",
      "                                                                 \n",
      " lstm (LSTM)                 (None, 18, 2048)          20979712  \n",
      "                                                                 \n",
      " lstm_1 (LSTM)               (None, 18, 1024)          12587008  \n",
      "                                                                 \n",
      " lstm_2 (LSTM)               (None, 512)               3147776   \n",
      "                                                                 \n",
      " dense (Dense)               (None, 128)               65664     \n",
      "                                                                 \n",
      " dense_1 (Dense)             (None, 5)                 645       \n",
      "                                                                 \n",
      "=================================================================\n",
      "Total params: 41,496,869\n",
      "Trainable params: 41,496,869\n",
      "Non-trainable params: 0\n",
      "_________________________________________________________________\n"
     ]
    }
   ],
   "source": [
    "## This model gave about 20% accuracy after 7 epochs using below architecture (No Transfer Learning)\n",
    "\n",
    "base_model = Sequential()\n",
    "base_model.add(TimeDistributed(Conv2D(32, (7, 7), strides=(2, 2), activation='relu', padding='same'), input_shape=(18,84,84,3)))\n",
    "base_model.add(TimeDistributed(Conv2D(32, (3,3), kernel_initializer=\"he_normal\", activation='relu')))\n",
    "base_model.add(TimeDistributed(MaxPooling2D((2, 2), strides=(2, 2))))\n",
    " \n",
    "base_model.add(TimeDistributed(Conv2D(64, (3,3), padding='same', activation='relu')))\n",
    "base_model.add(TimeDistributed(Conv2D(64, (3,3), padding='same', activation='relu')))\n",
    "base_model.add(TimeDistributed(MaxPooling2D((2, 2), strides=(2, 2))))\n",
    " \n",
    "base_model.add(TimeDistributed(Conv2D(128, (3,3), padding='same', activation='relu')))\n",
    "base_model.add(TimeDistributed(Conv2D(128, (3,3), padding='same', activation='relu')))\n",
    "base_model.add(TimeDistributed(MaxPooling2D((2, 2), strides=(2, 2))))\n",
    " \n",
    "base_model.add(TimeDistributed(Conv2D(256, (3,3), padding='same', activation='relu')))\n",
    "base_model.add(TimeDistributed(Conv2D(256, (3,3), padding='same', activation='relu')))\n",
    "base_model.add(TimeDistributed(MaxPooling2D((2, 2), strides=(2, 2))))\n",
    " \n",
    "base_model.add(TimeDistributed(Conv2D(512, (3,3), padding='same', activation='relu')))\n",
    "base_model.add(TimeDistributed(Conv2D(512, (3,3), padding='same', activation='relu')))\n",
    "base_model.add(TimeDistributed(MaxPooling2D((2, 2), strides=(2, 2))))\n",
    " \n",
    "base_model.add(TimeDistributed(Flatten()))\n",
    " \n",
    "base_model.add(Dropout(0.5))\n",
    "base_model.add(LSTM(2048, return_sequences=True, dropout=0.3))\n",
    "base_model.add(LSTM(1024, return_sequences=True, dropout=0.3))\n",
    "base_model.add(LSTM(512, return_sequences=False, dropout=0.3))\n",
    "base_model.add(Dense(128))\n",
    "base_model.add(Dense(5, activation='softmax'))\n",
    "base_model.summary()"
   ]
  },
  {
   "cell_type": "markdown",
   "metadata": {},
   "source": [
    "Now that you have written the model, the next step is to `compile` the model. When you print the `summary` of the model, you'll see the total number of parameters you have to train."
   ]
  },
  {
   "cell_type": "code",
   "execution_count": 10,
   "metadata": {},
   "outputs": [
    {
     "name": "stdout",
     "output_type": "stream",
     "text": [
      "Model: \"sequential\"\n",
      "_________________________________________________________________\n",
      " Layer (type)                Output Shape              Param #   \n",
      "=================================================================\n",
      " time_distributed (TimeDistr  (None, 18, 42, 42, 32)   4736      \n",
      " ibuted)                                                         \n",
      "                                                                 \n",
      " time_distributed_1 (TimeDis  (None, 18, 40, 40, 32)   9248      \n",
      " tributed)                                                       \n",
      "                                                                 \n",
      " time_distributed_2 (TimeDis  (None, 18, 20, 20, 32)   0         \n",
      " tributed)                                                       \n",
      "                                                                 \n",
      " time_distributed_3 (TimeDis  (None, 18, 20, 20, 64)   18496     \n",
      " tributed)                                                       \n",
      "                                                                 \n",
      " time_distributed_4 (TimeDis  (None, 18, 20, 20, 64)   36928     \n",
      " tributed)                                                       \n",
      "                                                                 \n",
      " time_distributed_5 (TimeDis  (None, 18, 10, 10, 64)   0         \n",
      " tributed)                                                       \n",
      "                                                                 \n",
      " time_distributed_6 (TimeDis  (None, 18, 10, 10, 128)  73856     \n",
      " tributed)                                                       \n",
      "                                                                 \n",
      " time_distributed_7 (TimeDis  (None, 18, 10, 10, 128)  147584    \n",
      " tributed)                                                       \n",
      "                                                                 \n",
      " time_distributed_8 (TimeDis  (None, 18, 5, 5, 128)    0         \n",
      " tributed)                                                       \n",
      "                                                                 \n",
      " time_distributed_9 (TimeDis  (None, 18, 5, 5, 256)    295168    \n",
      " tributed)                                                       \n",
      "                                                                 \n",
      " time_distributed_10 (TimeDi  (None, 18, 5, 5, 256)    590080    \n",
      " stributed)                                                      \n",
      "                                                                 \n",
      " time_distributed_11 (TimeDi  (None, 18, 2, 2, 256)    0         \n",
      " stributed)                                                      \n",
      "                                                                 \n",
      " time_distributed_12 (TimeDi  (None, 18, 2, 2, 512)    1180160   \n",
      " stributed)                                                      \n",
      "                                                                 \n",
      " time_distributed_13 (TimeDi  (None, 18, 2, 2, 512)    2359808   \n",
      " stributed)                                                      \n",
      "                                                                 \n",
      " time_distributed_14 (TimeDi  (None, 18, 1, 1, 512)    0         \n",
      " stributed)                                                      \n",
      "                                                                 \n",
      " time_distributed_15 (TimeDi  (None, 18, 512)          0         \n",
      " stributed)                                                      \n",
      "                                                                 \n",
      " dropout (Dropout)           (None, 18, 512)           0         \n",
      "                                                                 \n",
      " lstm (LSTM)                 (None, 18, 2048)          20979712  \n",
      "                                                                 \n",
      " lstm_1 (LSTM)               (None, 18, 1024)          12587008  \n",
      "                                                                 \n",
      " lstm_2 (LSTM)               (None, 512)               3147776   \n",
      "                                                                 \n",
      " dense (Dense)               (None, 128)               65664     \n",
      "                                                                 \n",
      " dense_1 (Dense)             (None, 5)                 645       \n",
      "                                                                 \n",
      "=================================================================\n",
      "Total params: 41,496,869\n",
      "Trainable params: 41,496,869\n",
      "Non-trainable params: 0\n",
      "_________________________________________________________________\n",
      "None\n"
     ]
    }
   ],
   "source": [
    "optimiser = Adam()\n",
    "base_model.compile(optimizer=optimiser, loss='categorical_crossentropy', metrics=['categorical_accuracy'])\n",
    "print (base_model.summary())"
   ]
  },
  {
   "cell_type": "markdown",
   "metadata": {},
   "source": [
    "Let us now fit the model. This will start training the model and with the help of the checkpoints, you'll be able to save the model at the end of each epoch."
   ]
  },
  {
   "cell_type": "code",
   "execution_count": 11,
   "metadata": {},
   "outputs": [
    {
     "name": "stdout",
     "output_type": "stream",
     "text": [
      "Source path =  /home/datasets/Project_data/train ; batch size = 64\n",
      "Epoch 1/15\n"
     ]
    },
    {
     "name": "stderr",
     "output_type": "stream",
     "text": [
      "2022-05-17 11:02:50.083864: I tensorflow/stream_executor/cuda/cuda_dnn.cc:377] Loaded cuDNN version 8302\n"
     ]
    },
    {
     "name": "stdout",
     "output_type": "stream",
     "text": [
      "11/11 [==============================] - ETA: 0s - loss: 2.5317 - categorical_accuracy: 0.2036Source path =  /home/datasets/Project_data/val ; batch size = 64\n",
      "11/11 [==============================] - 43s 3s/step - loss: 2.5317 - categorical_accuracy: 0.2036 - val_loss: 1.7637 - val_categorical_accuracy: 0.2200 - lr: 0.0010\n",
      "Epoch 2/15\n",
      "11/11 [==============================] - 35s 3s/step - loss: 1.7050 - categorical_accuracy: 0.1674 - val_loss: 1.6943 - val_categorical_accuracy: 0.2000 - lr: 0.0010\n",
      "Epoch 3/15\n",
      "11/11 [==============================] - ETA: 0s - loss: 1.6311 - categorical_accuracy: 0.2112\n",
      "Epoch 00003: val_loss improved from inf to 1.61509, saving model to model_init_2022-05-1711_02_32.572078/model-00003-1.63110-0.21116-1.61509-0.18000.h5\n",
      "11/11 [==============================] - 36s 4s/step - loss: 1.6311 - categorical_accuracy: 0.2112 - val_loss: 1.6151 - val_categorical_accuracy: 0.1800 - lr: 0.0010\n",
      "Epoch 4/15\n",
      "11/11 [==============================] - 34s 3s/step - loss: 1.6225 - categorical_accuracy: 0.1825 - val_loss: 1.6026 - val_categorical_accuracy: 0.2200 - lr: 0.0010\n",
      "Epoch 5/15\n",
      "11/11 [==============================] - 35s 4s/step - loss: 1.6251 - categorical_accuracy: 0.1855 - val_loss: 1.6087 - val_categorical_accuracy: 0.2300 - lr: 0.0010\n",
      "Epoch 6/15\n",
      "11/11 [==============================] - ETA: 0s - loss: 1.6235 - categorical_accuracy: 0.2066\n",
      "Epoch 00006: val_loss improved from 1.61509 to 1.61152, saving model to model_init_2022-05-1711_02_32.572078/model-00006-1.62354-0.20664-1.61152-0.22000.h5\n",
      "11/11 [==============================] - 34s 3s/step - loss: 1.6235 - categorical_accuracy: 0.2066 - val_loss: 1.6115 - val_categorical_accuracy: 0.2200 - lr: 0.0010\n",
      "Epoch 7/15\n",
      "11/11 [==============================] - 35s 4s/step - loss: 1.6155 - categorical_accuracy: 0.2081 - val_loss: 1.6059 - val_categorical_accuracy: 0.2100 - lr: 0.0010\n",
      "Epoch 8/15\n",
      "11/11 [==============================] - 34s 3s/step - loss: 1.6095 - categorical_accuracy: 0.2353 - val_loss: 1.5967 - val_categorical_accuracy: 0.2700 - lr: 0.0010\n",
      "Epoch 9/15\n",
      "11/11 [==============================] - 34s 3s/step - loss: 1.6149 - categorical_accuracy: 0.1855 - val_loss: 1.6063 - val_categorical_accuracy: 0.2300 - lr: 0.0010\n",
      "Epoch 11/15\n",
      "11/11 [==============================] - 35s 3s/step - loss: 1.6096 - categorical_accuracy: 0.1976 - val_loss: 1.6074 - val_categorical_accuracy: 0.2100 - lr: 0.0010\n",
      "Epoch 12/15\n",
      "11/11 [==============================] - ETA: 0s - loss: 1.6109 - categorical_accuracy: 0.1976\n",
      "Epoch 00012: val_loss did not improve from 1.61152\n",
      "\n",
      "Epoch 00012: ReduceLROnPlateau reducing learning rate to 0.00020000000949949026.\n",
      "11/11 [==============================] - 34s 3s/step - loss: 1.6109 - categorical_accuracy: 0.1976 - val_loss: 1.6122 - val_categorical_accuracy: 0.2200 - lr: 0.0010\n",
      "Epoch 13/15\n",
      "11/11 [==============================] - 36s 4s/step - loss: 1.6100 - categorical_accuracy: 0.2081 - val_loss: 1.6081 - val_categorical_accuracy: 0.2100 - lr: 2.0000e-04\n",
      "Epoch 14/15\n",
      "11/11 [==============================] - 34s 3s/step - loss: 1.6102 - categorical_accuracy: 0.1931 - val_loss: 1.6043 - val_categorical_accuracy: 0.2700 - lr: 2.0000e-04\n",
      "Epoch 15/15\n",
      "11/11 [==============================] - ETA: 0s - loss: 1.6095 - categorical_accuracy: 0.2051\n",
      "Epoch 00015: val_loss improved from 1.61152 to 1.60704, saving model to model_init_2022-05-1711_02_32.572078/model-00015-1.60947-0.20513-1.60704-0.23000.h5\n",
      "11/11 [==============================] - 35s 3s/step - loss: 1.6095 - categorical_accuracy: 0.2051 - val_loss: 1.6070 - val_categorical_accuracy: 0.2300 - lr: 2.0000e-04\n"
     ]
    }
   ],
   "source": [
    "history = base_model.fit(train_generator, steps_per_epoch=steps_per_epoch, epochs=num_epochs, verbose=1, \n",
    "                    callbacks=callbacks_list, validation_data=val_generator, \n",
    "                    validation_steps=validation_steps, class_weight=None, workers=1, initial_epoch=0)"
   ]
  },
  {
   "cell_type": "code",
   "execution_count": 12,
   "metadata": {},
   "outputs": [
    {
     "data": {
      "image/png": "[encoded data removed]",
      "text/plain": [
       "<Figure size 432x288 with 1 Axes>"
      ]
     },
     "metadata": {
      "needs_background": "light"
     },
     "output_type": "display_data"
    },
    {
     "data": {
      "image/png": "[encoded data removed]",
      "text/plain": [
       "<Figure size 432x288 with 1 Axes>"
      ]
     },
     "metadata": {
      "needs_background": "light"
     },
     "output_type": "display_data"
    }
   ],
   "source": [
    "# summarize history for accuracy\n",
    "plt.plot(history.history['categorical_accuracy'])\n",
    "plt.plot(history.history['val_categorical_accuracy'])\n",
    "plt.title('Base CNN_LSTM Model (without Transfer Learning) accuracy')\n",
    "plt.ylabel('Categorical accuracy')\n",
    "plt.xlabel('epoch')\n",
    "plt.legend(['train', 'test'], loc='upper left')\n",
    "plt.show()\n",
    "# summarize history for loss\n",
    "plt.plot(history.history['loss'])\n",
    "plt.plot(history.history['val_loss'])\n",
    "plt.title('model loss')\n",
    "plt.ylabel('loss')\n",
    "plt.xlabel('epoch')\n",
    "plt.legend(['train', 'test'], loc='upper left')\n",
    "plt.show()"
   ]
  },
  {
   "cell_type": "code",
   "execution_count": 13,
   "metadata": {},
   "outputs": [],
   "source": [
    "# Commenting out this model as I only want to run 3D CNN for now //remember to uncomment\n",
    "\n",
    "video = Input(shape=(18,\n",
    "                     84,\n",
    "                     84,\n",
    "                     3))\n",
    "cnn_base = ResNet50(input_shape=(84,\n",
    "                              84,\n",
    "                              3),\n",
    "                 weights=\"imagenet\",\n",
    "                 include_top=False)\n",
    "\n",
    "##Commented below after suggestion from Harshul\n",
    "cnn_out = GlobalAveragePooling2D()(cnn_base.output)\n",
    "cnn = Model(cnn_base.input,cnn_out)\n",
    "\n",
    "\n",
    "#cnn.trainable = False\n",
    "split_at = 140\n",
    "for layer in cnn.layers[:split_at]: layer.trainable = False\n",
    "for layer in cnn.layers[split_at:]: layer.trainable = True\n",
    "\n",
    "\n",
    "encoded_frames = TimeDistributed(cnn)(video)\n",
    "##Added below after suggestion from Harshul\n",
    "\n",
    "#cnn.add(TimeDistributed(BatchNormalization()))\n",
    "#cnn.add(TimeDistributed(MaxPooling2D((2, 2))))\n",
    "encoded_frames1 = TimeDistributed(Flatten())(encoded_frames)\n",
    "##########\n",
    "encoded_sequence = LSTM(4028, return_sequences=True)(encoded_frames1)\n",
    "encoded_sequence1 = LSTM(2024,return_sequences=True)(encoded_sequence)\n",
    "encoded_sequence2 = LSTM(1012)(encoded_sequence1)\n",
    "hidden_layer = Dense(units=1024, activation=\"relu\")(encoded_sequence2)\n",
    "outputs = Dense(units=5, activation=\"softmax\")(hidden_layer)\n",
    "tl_cnn_lstm = Model([video], outputs)\n"
   ]
  },
  {
   "cell_type": "code",
   "execution_count": 14,
   "metadata": {},
   "outputs": [
    {
     "name": "stdout",
     "output_type": "stream",
     "text": [
      "Model: \"model_1\"\n",
      "_________________________________________________________________\n",
      " Layer (type)                Output Shape              Param #   \n",
      "=================================================================\n",
      " input_1 (InputLayer)        [(None, 18, 84, 84, 3)]   0         \n",
      "                                                                 \n",
      " time_distributed_16 (TimeDi  (None, 18, 2048)         23587712  \n",
      " stributed)                                                      \n",
      "                                                                 \n",
      " time_distributed_17 (TimeDi  (None, 18, 2048)         0         \n",
      " stributed)                                                      \n",
      "                                                                 \n",
      " lstm_3 (LSTM)               (None, 18, 4028)          97912624  \n",
      "                                                                 \n",
      " lstm_4 (LSTM)               (None, 18, 2024)          49005088  \n",
      "                                                                 \n",
      " lstm_5 (LSTM)               (None, 1012)              12293776  \n",
      "                                                                 \n",
      " dense_2 (Dense)             (None, 1024)              1037312   \n",
      "                                                                 \n",
      " dense_3 (Dense)             (None, 5)                 5125      \n",
      "                                                                 \n",
      "=================================================================\n",
      "Total params: 183,841,637\n",
      "Trainable params: 175,231,973\n",
      "Non-trainable params: 8,609,664\n",
      "_________________________________________________________________\n",
      "None\n"
     ]
    }
   ],
   "source": [
    "optimiser = Adam()                 \n",
    "tl_cnn_lstm.compile(optimizer=optimiser, loss='categorical_crossentropy', metrics=['categorical_accuracy'])\n",
    "print (tl_cnn_lstm.summary())"
   ]
  },
  {
   "cell_type": "code",
   "execution_count": null,
   "metadata": {},
   "outputs": [
    {
     "name": "stdout",
     "output_type": "stream",
     "text": [
      "Epoch 1/15\n",
      "11/11 [==============================] - 50s 4s/step - loss: 2.0158 - categorical_accuracy: 0.2413 - val_loss: 1.6267 - val_categorical_accuracy: 0.2400 - lr: 0.0010\n",
      "Epoch 2/15\n",
      "11/11 [==============================] - 38s 4s/step - loss: 1.6255 - categorical_accuracy: 0.2081 - val_loss: 1.5604 - val_categorical_accuracy: 0.2100 - lr: 0.0010\n",
      "Epoch 3/15\n",
      "11/11 [==============================] - ETA: 0s - loss: 1.3117 - categorical_accuracy: 0.3560\n",
      "Epoch 00003: val_loss improved from 1.60704 to 1.12719, saving model to model_init_2022-05-1711_02_32.572078/model-00003-1.31171-0.35596-1.12719-0.48000.h5\n",
      "11/11 [==============================] - 38s 4s/step - loss: 1.3117 - categorical_accuracy: 0.3560 - val_loss: 1.1272 - val_categorical_accuracy: 0.4800 - lr: 0.0010\n",
      "Epoch 4/15\n",
      "11/11 [==============================] - 37s 4s/step - loss: 1.1128 - categorical_accuracy: 0.3605 - val_loss: 1.0540 - val_categorical_accuracy: 0.5500 - lr: 0.0010\n",
      "Epoch 5/15\n",
      "11/11 [==============================] - 36s 3s/step - loss: 1.0050 - categorical_accuracy: 0.4827 - val_loss: 1.1182 - val_categorical_accuracy: 0.5300 - lr: 0.0010\n",
      "Epoch 6/15\n",
      "11/11 [==============================] - ETA: 0s - loss: 0.9638 - categorical_accuracy: 0.5385\n",
      "Epoch 00006: val_loss did not improve from 1.12719\n",
      "11/11 [==============================] - 36s 3s/step - loss: 0.9638 - categorical_accuracy: 0.5385 - val_loss: 1.8958 - val_categorical_accuracy: 0.3300 - lr: 0.0010\n",
      "Epoch 7/15\n",
      "11/11 [==============================] - 35s 3s/step - loss: 0.7675 - categorical_accuracy: 0.5566 - val_loss: 2.4483 - val_categorical_accuracy: 0.4000 - lr: 0.0010\n",
      "Epoch 8/15\n",
      "11/11 [==============================] - ETA: 0s - loss: 0.6674 - categorical_accuracy: 0.6018\n",
      "Epoch 00008: ReduceLROnPlateau reducing learning rate to 0.00020000000949949026.\n",
      "11/11 [==============================] - 38s 4s/step - loss: 0.6674 - categorical_accuracy: 0.6018 - val_loss: 2.1391 - val_categorical_accuracy: 0.4900 - lr: 0.0010\n",
      "Epoch 9/15\n",
      "11/11 [==============================] - ETA: 0s - loss: 0.6366 - categorical_accuracy: 0.5973\n",
      "Epoch 00009: val_loss did not improve from 1.12719\n",
      "11/11 [==============================] - 35s 3s/step - loss: 0.6366 - categorical_accuracy: 0.5973 - val_loss: 1.7623 - val_categorical_accuracy: 0.5400 - lr: 2.0000e-04\n",
      "Epoch 10/15\n",
      "11/11 [==============================] - 36s 4s/step - loss: 0.5829 - categorical_accuracy: 0.6259 - val_loss: 1.2985 - val_categorical_accuracy: 0.6300 - lr: 2.0000e-04\n",
      "Epoch 11/15\n",
      "11/11 [==============================] - 36s 4s/step - loss: 0.5890 - categorical_accuracy: 0.6290 - val_loss: 1.2103 - val_categorical_accuracy: 0.5600 - lr: 2.0000e-04\n",
      "Epoch 12/15\n",
      "11/11 [==============================] - ETA: 0s - loss: 0.5739 - categorical_accuracy: 0.6471\n",
      "Epoch 00012: val_loss improved from 1.12719 to 1.00907, saving model to model_init_2022-05-1711_02_32.572078/model-00012-0.57390-0.64706-1.00907-0.64000.h5\n",
      "11/11 [==============================] - 41s 4s/step - loss: 0.5739 - categorical_accuracy: 0.6471 - val_loss: 1.0091 - val_categorical_accuracy: 0.6400 - lr: 2.0000e-04\n",
      "Epoch 13/15\n",
      "11/11 [==============================] - 37s 4s/step - loss: 0.5515 - categorical_accuracy: 0.7210 - val_loss: 0.9694 - val_categorical_accuracy: 0.5900 - lr: 2.0000e-04\n",
      "Epoch 14/15\n",
      "11/11 [==============================] - 38s 4s/step - loss: 0.5474 - categorical_accuracy: 0.7195 - val_loss: 0.7659 - val_categorical_accuracy: 0.7000 - lr: 2.0000e-04\n",
      "Epoch 15/15\n",
      "11/11 [==============================] - ETA: 0s - loss: 0.4921 - categorical_accuracy: 0.8084\n",
      "Epoch 00015: val_loss improved from 1.00907 to 0.71507, saving model to model_init_2022-05-1711_02_32.572078/model-00015-0.49208-0.80845-0.71507-0.81000.h5\n",
      "11/11 [==============================] - 38s 4s/step - loss: 0.4921 - categorical_accuracy: 0.8084 - val_loss: 0.7151 - val_categorical_accuracy: 0.8100 - lr: 2.0000e-04\n"
     ]
    }
   ],
   "source": [
    "# Commenting out this model as I only want to run 3D CNN for now //remember to uncomment\n",
    "history = tl_cnn_lstm.fit(train_generator, steps_per_epoch=steps_per_epoch, epochs=num_epochs, verbose=1, \n",
    "                    callbacks=callbacks_list, validation_data=val_generator, \n",
    "                    validation_steps=validation_steps, class_weight=None, workers=1, initial_epoch=0)"
   ]
  },
  {
   "cell_type": "markdown",
   "metadata": {},
   "source": [
    "#######################"
   ]
  },
  {
   "cell_type": "code",
   "execution_count": null,
   "metadata": {},
   "outputs": [
    {
     "data": {
      "image/png": "[encoded data removed]",
      "text/plain": [
       "<Figure size 432x288 with 1 Axes>"
      ]
     },
     "metadata": {
      "needs_background": "light"
     },
     "output_type": "display_data"
    },
    {
     "data": {
      "image/png": "[encoded data removed]",
      "text/plain": [
       "<Figure size 432x288 with 1 Axes>"
      ]
     },
     "metadata": {
      "needs_background": "light"
     },
     "output_type": "display_data"
    }
   ],
   "source": [
    "# summarize history for accuracy\n",
    "plt.plot(history.history['categorical_accuracy'])\n",
    "plt.plot(history.history['val_categorical_accuracy'])\n",
    "plt.title(' CNN_LSTM Model (ResNet50 Transfer Learning) accuracy')\n",
    "plt.ylabel('Categorical accuracy')\n",
    "plt.xlabel('epoch')\n",
    "plt.legend(['train', 'test'], loc='upper left')\n",
    "plt.show()\n",
    "# summarize history for loss\n",
    "plt.plot(history.history['loss'])\n",
    "plt.plot(history.history['val_loss'])\n",
    "plt.title('model loss')\n",
    "plt.ylabel('loss')\n",
    "plt.xlabel('epoch')\n",
    "plt.legend(['train', 'test'], loc='upper left')\n",
    "plt.show()"
   ]
  },
  {
   "cell_type": "code",
   "execution_count": null,
   "metadata": {},
   "outputs": [],
   "source": [
    "\n",
    "#write your model here\n",
    "\n",
    "threeD_cnn_model = Sequential()\n",
    "\n",
    "threeD_cnn_model.add(Conv3D(16, (3,3,3), padding='same',input_shape=(18,84,84,3)))\n",
    "threeD_cnn_model.add(BatchNormalization())\n",
    "threeD_cnn_model.add(Activation('relu'))\n",
    "threeD_cnn_model.add(MaxPooling3D(pool_size=(2,2,2)))\n",
    "threeD_cnn_model.add(Dropout(0.3))\n",
    "\n",
    "threeD_cnn_model.add(Conv3D(32, (3,3,3), padding='same'))\n",
    "threeD_cnn_model.add(BatchNormalization())\n",
    "threeD_cnn_model.add(Activation('relu'))\n",
    "threeD_cnn_model.add(MaxPooling3D(pool_size=(2,2,2)))\n",
    "threeD_cnn_model.add(Dropout(0.3))\n",
    "\n",
    "\n",
    "threeD_cnn_model.add(Conv3D(64, (3,3,3), padding='same'))\n",
    "threeD_cnn_model.add(BatchNormalization())\n",
    "threeD_cnn_model.add(Activation('relu'))\n",
    "threeD_cnn_model.add(MaxPooling3D(pool_size=(2,2,2)))\n",
    "threeD_cnn_model.add(Dropout(0.3))\n",
    "\n",
    "\n",
    "threeD_cnn_model.add(Conv3D(128, (3,3,3), padding='same'))\n",
    "threeD_cnn_model.add(BatchNormalization())\n",
    "threeD_cnn_model.add(Activation('relu'))\n",
    "threeD_cnn_model.add(MaxPooling3D(pool_size=(2,2,2)))\n",
    "threeD_cnn_model.add(Dropout(0.3))\n",
    "\n",
    "\n",
    "threeD_cnn_model.add(Flatten())\n",
    "threeD_cnn_model.add(Dropout(0.3))\n",
    "threeD_cnn_model.add(Dense(256, activation='relu'))\n",
    "threeD_cnn_model.add(Dropout(0.2))\n",
    "threeD_cnn_model.add(Dense(5, activation='softmax'))"
   ]
  },
  {
   "cell_type": "code",
   "execution_count": null,
   "metadata": {},
   "outputs": [
    {
     "name": "stdout",
     "output_type": "stream",
     "text": [
      "Model: \"sequential_1\"\n",
      "_________________________________________________________________\n",
      " Layer (type)                Output Shape              Param #   \n",
      "=================================================================\n",
      " conv3d (Conv3D)             (None, 18, 84, 84, 16)    1312      \n",
      "                                                                 \n",
      " batch_normalization (BatchN  (None, 18, 84, 84, 16)   64        \n",
      " ormalization)                                                   \n",
      "                                                                 \n",
      " activation (Activation)     (None, 18, 84, 84, 16)    0         \n",
      "                                                                 \n",
      " max_pooling3d (MaxPooling3D  (None, 9, 42, 42, 16)    0         \n",
      " )                                                               \n",
      "                                                                 \n",
      " dropout_1 (Dropout)         (None, 9, 42, 42, 16)     0         \n",
      "                                                                 \n",
      " conv3d_1 (Conv3D)           (None, 9, 42, 42, 32)     13856     \n",
      "                                                                 \n",
      " batch_normalization_1 (Batc  (None, 9, 42, 42, 32)    128       \n",
      " hNormalization)                                                 \n",
      "                                                                 \n",
      " activation_1 (Activation)   (None, 9, 42, 42, 32)     0         \n",
      "                                                                 \n",
      " max_pooling3d_1 (MaxPooling  (None, 4, 21, 21, 32)    0         \n",
      " 3D)                                                             \n",
      "                                                                 \n",
      " dropout_2 (Dropout)         (None, 4, 21, 21, 32)     0         \n",
      "                                                                 \n",
      " conv3d_2 (Conv3D)           (None, 4, 21, 21, 64)     55360     \n",
      "                                                                 \n",
      " batch_normalization_2 (Batc  (None, 4, 21, 21, 64)    256       \n",
      " hNormalization)                                                 \n",
      "                                                                 \n",
      " activation_2 (Activation)   (None, 4, 21, 21, 64)     0         \n",
      "                                                                 \n",
      " max_pooling3d_2 (MaxPooling  (None, 2, 10, 10, 64)    0         \n",
      " 3D)                                                             \n",
      "                                                                 \n",
      " dropout_3 (Dropout)         (None, 2, 10, 10, 64)     0         \n",
      "                                                                 \n",
      " conv3d_3 (Conv3D)           (None, 2, 10, 10, 128)    221312    \n",
      "                                                                 \n",
      " batch_normalization_3 (Batc  (None, 2, 10, 10, 128)   512       \n",
      " hNormalization)                                                 \n",
      "                                                                 \n",
      " activation_3 (Activation)   (None, 2, 10, 10, 128)    0         \n",
      "                                                                 \n",
      " max_pooling3d_3 (MaxPooling  (None, 1, 5, 5, 128)     0         \n",
      " 3D)                                                             \n",
      "                                                                 \n",
      " dropout_4 (Dropout)         (None, 1, 5, 5, 128)      0         \n",
      "                                                                 \n",
      " flatten_2 (Flatten)         (None, 3200)              0         \n",
      "                                                                 \n",
      " dropout_5 (Dropout)         (None, 3200)              0         \n",
      "                                                                 \n",
      " dense_4 (Dense)             (None, 256)               819456    \n",
      "                                                                 \n",
      " dropout_6 (Dropout)         (None, 256)               0         \n",
      "                                                                 \n",
      " dense_5 (Dense)             (None, 5)                 1285      \n",
      "                                                                 \n",
      "=================================================================\n",
      "Total params: 1,113,541\n",
      "Trainable params: 1,113,061\n",
      "Non-trainable params: 480\n",
      "_________________________________________________________________\n",
      "None\n"
     ]
    }
   ],
   "source": [
    "optimiser = Adam()\n",
    "\n",
    "threeD_cnn_model.compile(optimizer=optimiser, loss='categorical_crossentropy', metrics=['categorical_accuracy'])\n",
    "print (threeD_cnn_model.summary())"
   ]
  },
  {
   "cell_type": "code",
   "execution_count": null,
   "metadata": {},
   "outputs": [
    {
     "name": "stdout",
     "output_type": "stream",
     "text": [
      "Epoch 1/15\n",
      "11/11 [==============================] - 36s 3s/step - loss: 4.6271 - categorical_accuracy: 0.2881 - val_loss: 26.3153 - val_categorical_accuracy: 0.2300 - lr: 0.0010\n",
      "Epoch 2/15\n",
      "11/11 [==============================] - 34s 3s/step - loss: 1.4167 - categorical_accuracy: 0.3876 - val_loss: 31.3341 - val_categorical_accuracy: 0.2500 - lr: 0.0010\n",
      "Epoch 3/15\n",
      "11/11 [==============================] - ETA: 0s - loss: 1.3252 - categorical_accuracy: 0.4208\n",
      "Epoch 00003: val_loss did not improve from 0.71507\n",
      "11/11 [==============================] - 35s 3s/step - loss: 1.3252 - categorical_accuracy: 0.4208 - val_loss: 23.7930 - val_categorical_accuracy: 0.2300 - lr: 0.0010\n",
      "Epoch 4/15\n",
      "11/11 [==============================] - 35s 3s/step - loss: 1.2275 - categorical_accuracy: 0.4510 - val_loss: 18.5396 - val_categorical_accuracy: 0.2400 - lr: 0.0010\n",
      "Epoch 5/15\n",
      "11/11 [==============================] - 37s 4s/step - loss: 1.2106 - categorical_accuracy: 0.4495 - val_loss: 12.2885 - val_categorical_accuracy: 0.2300 - lr: 0.0010\n",
      "Epoch 6/15\n",
      "11/11 [==============================] - ETA: 0s - loss: 1.2431 - categorical_accuracy: 0.4570\n",
      "Epoch 00006: val_loss did not improve from 0.71507\n",
      "11/11 [==============================] - 34s 3s/step - loss: 1.2431 - categorical_accuracy: 0.4570 - val_loss: 11.4911 - val_categorical_accuracy: 0.2600 - lr: 0.0010\n",
      "Epoch 7/15\n",
      "11/11 [==============================] - 36s 4s/step - loss: 1.1407 - categorical_accuracy: 0.5038 - val_loss: 7.1504 - val_categorical_accuracy: 0.2300 - lr: 0.0010\n",
      "Epoch 8/15\n",
      "11/11 [==============================] - 35s 3s/step - loss: 1.1553 - categorical_accuracy: 0.4947 - val_loss: 3.9999 - val_categorical_accuracy: 0.2600 - lr: 0.0010\n",
      "Epoch 9/15\n",
      "11/11 [==============================] - ETA: 0s - loss: 1.0801 - categorical_accuracy: 0.5596\n",
      "Epoch 00009: val_loss did not improve from 0.71507\n",
      "11/11 [==============================] - 36s 4s/step - loss: 1.0801 - categorical_accuracy: 0.5596 - val_loss: 3.6387 - val_categorical_accuracy: 0.2400 - lr: 0.0010\n",
      "Epoch 10/15\n",
      "11/11 [==============================] - 35s 4s/step - loss: 1.0778 - categorical_accuracy: 0.5475 - val_loss: 1.7931 - val_categorical_accuracy: 0.3200 - lr: 0.0010\n",
      "Epoch 11/15\n",
      "11/11 [==============================] - ETA: 0s - loss: 0.8875 - categorical_accuracy: 0.6365\n",
      "Epoch 00015: val_loss did not improve from 0.71507\n",
      "\n",
      "Epoch 00015: ReduceLROnPlateau reducing learning rate to 0.00020000000949949026.\n",
      "11/11 [==============================] - 37s 4s/step - loss: 0.8875 - categorical_accuracy: 0.6365 - val_loss: 1.2577 - val_categorical_accuracy: 0.5200 - lr: 0.0010\n"
     ]
    }
   ],
   "source": [
    "history = threeD_cnn_model.fit(train_generator, steps_per_epoch=steps_per_epoch, epochs=num_epochs, verbose=1, \n",
    "                    callbacks=callbacks_list, validation_data=val_generator, \n",
    "                    validation_steps=validation_steps, class_weight=None, workers=1, initial_epoch=0)"
   ]
  },
  {
   "cell_type": "code",
   "execution_count": null,
   "metadata": {},
   "outputs": [
    {
     "data": {
      "image/png": "[encoded data removed]",
      "text/plain": [
       "<Figure size 432x288 with 1 Axes>"
      ]
     },
     "metadata": {
      "needs_background": "light"
     },
     "output_type": "display_data"
    },
    {
     "data": {
      "image/png": "[encoded data removed]",
      "text/plain": [
       "<Figure size 432x288 with 1 Axes>"
      ]
     },
     "metadata": {
      "needs_background": "light"
     },
     "output_type": "display_data"
    }
   ],
   "source": [
    "plt.plot(history.history['categorical_accuracy'])\n",
    "plt.plot(history.history['val_categorical_accuracy'])\n",
    "plt.title('3D CNN model accuracy')\n",
    "plt.ylabel('accuracy')\n",
    "plt.xlabel('epoch')\n",
    "plt.legend(['train', 'test'], loc='upper left')\n",
    "plt.show()\n",
    "# summarize history for loss\n",
    "plt.plot(history.history['loss'])\n",
    "plt.plot(history.history['val_loss'])\n",
    "plt.title('model loss')\n",
    "plt.ylabel('loss')\n",
    "plt.xlabel('epoch')\n",
    "plt.legend(['train', 'test'], loc='upper left')\n",
    "plt.show()"
   ]
  },
  {
   "cell_type": "code",
   "execution_count": null,
   "metadata": {},
   "outputs": [],
   "source": []
  }
 ],
 "metadata": {
  "kernelspec": {
   "display_name": "Python 3",
   "language": "python",
   "name": "python3"
  },
  "language_info": {
   "codemirror_mode": {
    "name": "ipython",
    "version": 3
   },
   "file_extension": ".py",
   "mimetype": "text/x-python",
   "name": "python",
   "nbconvert_exporter": "python",
   "pygments_lexer": "ipython3",
   "version": "3.6.10"
  }
 },
 "nbformat": 4,
 "nbformat_minor": 4
}
