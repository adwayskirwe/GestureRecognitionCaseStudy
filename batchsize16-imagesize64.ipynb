{
 "cells": [
  {
   "cell_type": "markdown",
   "metadata": {},
   "source": [
    "# Gesture Recognition\n",
    "In this group project, you are going to build a 3D Conv model that will be able to predict the 5 gestures correctly. Please import the following libraries to get started. Once you have completed the code you can download the notebook for making a submission."
   ]
  },
  {
   "cell_type": "code",
   "execution_count": 1,
   "metadata": {},
   "outputs": [],
   "source": [
    "import numpy as np\n",
    "import matplotlib.pyplot as plt\n",
    "import seaborn as sns\n",
    "import os\n",
    "from imageio import imread\n",
    "from skimage.transform import resize\n",
    "import datetime\n",
    "import os\n",
    "import cv2\n",
    "from tensorflow.keras.models import Sequential,Model\n",
    "from tensorflow.keras.layers import Dense, GRU, Dropout, Flatten, BatchNormalization, Activation, Conv3D, MaxPooling3D, TimeDistributed,Conv2D,MaxPooling2D,LSTM, Input,GlobalAveragePooling2D\n",
    "from tensorflow.keras.callbacks import ModelCheckpoint, ReduceLROnPlateau, EarlyStopping\n",
    "from tensorflow.keras import optimizers\n",
    "from tensorflow.keras.applications import ResNet50\n",
    "from keras.applications.vgg16 import VGG16\n",
    "from tensorflow.keras.optimizers import Nadam, Adam, SGD"
   ]
  },
  {
   "cell_type": "markdown",
   "metadata": {},
   "source": [
    "We set the random seed so that the results don't vary drastically."
   ]
  },
  {
   "cell_type": "code",
   "execution_count": 2,
   "metadata": {},
   "outputs": [],
   "source": [
    "np.random.seed(30)\n",
    "import random as rn\n",
    "rn.seed(30)\n",
    "from tensorflow import keras\n",
    "import tensorflow as tf\n",
    "tf.random.set_seed(30)"
   ]
  },
  {
   "cell_type": "markdown",
   "metadata": {},
   "source": [
    "In this block, you read the folder names for training and validation. You also set the `batch_size` here. Note that you set the batch size in such a way that you are able to use the GPU in full capacity. You keep increasing the batch size until the machine throws an error."
   ]
  },
  {
   "cell_type": "markdown",
   "metadata": {},
   "source": [
    "**data path: /home/datasets/Project_data**"
   ]
  },
  {
   "cell_type": "code",
   "execution_count": 3,
   "metadata": {},
   "outputs": [],
   "source": [
    "train_doc = np.random.permutation(open('/home/datasets/Project_data/train.csv').readlines())\n",
    "val_doc = np.random.permutation(open('/home/datasets/Project_data/val.csv').readlines())\n",
    "batch_size = 16"
   ]
  },
  {
   "cell_type": "markdown",
   "metadata": {},
   "source": [
    "## Generator\n",
    "This is one of the most important part of the code. The overall structure of the generator has been given. In the generator, you are going to preprocess the images as you have images of 2 different dimensions as well as create a batch of video frames. You have to experiment with `img_idx`, `y`,`z` and normalization such that you get high accuracy."
   ]
  },
  {
   "cell_type": "code",
   "execution_count": 4,
   "metadata": {},
   "outputs": [],
   "source": [
    "def generator(source_path, folder_list, batch_size):\n",
    "    print( 'Source path = ', source_path, '; batch size =', batch_size)\n",
    "    img_idx = [0,1,2,4,6,8,10,12,14,16,18,20,22,24,26,27,28,29]\n",
    "    while True:\n",
    "        t = np.random.permutation(folder_list)\n",
    "        num_batches = int(len(t)/batch_size)\n",
    "        for batch in range(num_batches):\n",
    "            batch_data = np.zeros((batch_size,18,64,64,3))\n",
    "            batch_labels = np.zeros((batch_size,5))\n",
    "            for folder in range(batch_size):\n",
    "                imgs = os.listdir(source_path+'/'+ t[folder + (batch*batch_size)].split(';')[0])\n",
    "                for idx,item in enumerate(img_idx):\n",
    "                    image = imread(source_path+'/'+ t[folder + (batch*batch_size)].strip().split(';')[0]+'/'+imgs[item]).astype(np.float32)\n",
    "                    if image.shape[1] == 160:\n",
    "                        image = cv2.resize(image[:,20:140,:],(64,64)).astype(np.float32)\n",
    "                    else:\n",
    "                        image = cv2.resize(image,(64,64)).astype(np.float32)\n",
    "                    \n",
    "                    batch_data[folder,idx,:,:,0] = image[:,:,0]-104\n",
    "                    batch_data[folder,idx,:,:,1] = image[:,:,1]-117\n",
    "                    batch_data[folder,idx,:,:,2] = image[:,:,2]-123\n",
    "                    \n",
    "                batch_labels[folder, int(t[folder + (batch*batch_size)].strip().split(';')[2])] = 1\n",
    "            yield batch_data, batch_labels\n",
    "\n",
    "        if (len(t)%batch_size) != 0:\n",
    "            batch_data = np.zeros((len(t)%batch_size,18,64,64,3))\n",
    "            batch_labels = np.zeros((len(t)%batch_size,5))\n",
    "            for folder in range(len(t)%batch_size):\n",
    "                imgs = os.listdir(source_path+'/'+ t[folder + (num_batches*batch_size)].split(';')[0])\n",
    "                for idx,item in enumerate(img_idx):\n",
    "                    image = imread(source_path+'/'+ t[folder + (num_batches*batch_size)].strip().split(';')[0]+'/'+imgs[item]).astype(np.float32)\n",
    "                    if image.shape[1] == 160:\n",
    "                        image = cv2.resize(image[:,20:140,:],(64,64)).astype(np.float32)\n",
    "                    else:\n",
    "                        image = cv2.resize(image,(64,64)).astype(np.float32)\n",
    "\n",
    "                    batch_data[folder,idx,:,:,0] = image[:,:,0]-104\n",
    "                    batch_data[folder,idx,:,:,1] = image[:,:,1]-117\n",
    "                    batch_data[folder,idx,:,:,2] = image[:,:,2]-123\n",
    "\n",
    "                batch_labels[folder, int(t[folder + (num_batches*batch_size)].strip().split(';')[2])] = 1\n",
    "\n",
    "            yield batch_data, batch_labels"
   ]
  },
  {
   "cell_type": "markdown",
   "metadata": {},
   "source": [
    "Note here that a video is represented above in the generator as (number of images, height, width, number of channels). Take this into consideration while creating the model architecture."
   ]
  },
  {
   "cell_type": "code",
   "execution_count": 5,
   "metadata": {},
   "outputs": [
    {
     "name": "stdout",
     "output_type": "stream",
     "text": [
      "# training sequences = 663\n",
      "# validation sequences = 100\n",
      "# epochs = 20\n"
     ]
    }
   ],
   "source": [
    "curr_dt_time = datetime.datetime.now()\n",
    "train_path = '/home/datasets/Project_data/train'\n",
    "val_path = '/home/datasets/Project_data/val'\n",
    "num_train_sequences = len(train_doc)\n",
    "print('# training sequences =', num_train_sequences)\n",
    "num_val_sequences = len(val_doc)\n",
    "print('# validation sequences =', num_val_sequences)\n",
    "num_epochs = 20\n",
    "print ('# epochs =', num_epochs)"
   ]
  },
  {
   "cell_type": "markdown",
   "metadata": {},
   "source": [
    "Let us create the `train_generator` and the `val_generator` which will be used in `.fit_generator`."
   ]
  },
  {
   "cell_type": "code",
   "execution_count": 6,
   "metadata": {},
   "outputs": [],
   "source": [
    "train_generator = generator(train_path, train_doc, batch_size)\n",
    "val_generator = generator(val_path, val_doc, batch_size)"
   ]
  },
  {
   "cell_type": "code",
   "execution_count": 7,
   "metadata": {},
   "outputs": [
    {
     "name": "stdout",
     "output_type": "stream",
     "text": [
      "WARNING:tensorflow:`period` argument is deprecated. Please use `save_freq` to specify the frequency in number of batches seen.\n"
     ]
    }
   ],
   "source": [
    "model_name = 'model_init' + '_' + str(curr_dt_time).replace(' ','').replace(':','_') + '/'\n",
    "    \n",
    "if not os.path.exists(model_name):\n",
    "    os.mkdir(model_name)\n",
    "        \n",
    "filepath = model_name + 'model-{epoch:05d}-{loss:.5f}-{categorical_accuracy:.5f}-{val_loss:.5f}-{val_categorical_accuracy:.5f}.h5'\n",
    "#filepath = model_name + 'model.h5'\n",
    "\n",
    "checkpoint = ModelCheckpoint(filepath, monitor='val_loss', verbose=1, save_best_only=True, save_weights_only=True, mode='auto',period=3)\n",
    "\n",
    "LR = ReduceLROnPlateau(monitor='val_loss', factor=0.2, verbose=1, patience=4)\n",
    "\n",
    "es = EarlyStopping(patience=10, restore_best_weights=True)\n",
    "\n",
    "callbacks_list = [checkpoint, LR, es]"
   ]
  },
  {
   "cell_type": "markdown",
   "metadata": {},
   "source": [
    "The `steps_per_epoch` and `validation_steps` are used by `fit` method to decide the number of next() calls it need to make."
   ]
  },
  {
   "cell_type": "code",
   "execution_count": 8,
   "metadata": {},
   "outputs": [],
   "source": [
    "if (num_train_sequences%batch_size) == 0:\n",
    "    steps_per_epoch = int(num_train_sequences/batch_size)\n",
    "else:\n",
    "    steps_per_epoch = (num_train_sequences//batch_size) + 1\n",
    "\n",
    "if (num_val_sequences%batch_size) == 0:\n",
    "    validation_steps = int(num_val_sequences/batch_size)\n",
    "else:\n",
    "    validation_steps = (num_val_sequences//batch_size) + 1"
   ]
  },
  {
   "cell_type": "markdown",
   "metadata": {},
   "source": [
    "## Model\n",
    "Here you make the model using different functionalities that Keras provides. Remember to use `Conv3D` and `MaxPooling3D` and not `Conv2D` and `Maxpooling2D` for a 3D convolution model. You would want to use `TimeDistributed` while building a Conv2D + RNN model. Also remember that the last layer is the softmax. Design the network in such a way that the model is able to give good accuracy on the least number of parameters so that it can fit in the memory of the webcam."
   ]
  },
  {
   "cell_type": "code",
   "execution_count": 9,
   "metadata": {},
   "outputs": [
    {
     "data": {
      "text/plain": [
       "'\\nbase_model = Sequential()\\nbase_model.add(TimeDistributed(Conv2D(32, (7, 7), strides=(2, 2), activation=\\'relu\\', padding=\\'same\\'), input_shape=(18,84,84,3)))\\nbase_model.add(TimeDistributed(Conv2D(32, (3,3), kernel_initializer=\"he_normal\", activation=\\'relu\\')))\\nbase_model.add(TimeDistributed(MaxPooling2D((2, 2), strides=(2, 2))))\\n \\nbase_model.add(TimeDistributed(Conv2D(64, (3,3), padding=\\'same\\', activation=\\'relu\\')))\\nbase_model.add(TimeDistributed(Conv2D(64, (3,3), padding=\\'same\\', activation=\\'relu\\')))\\nbase_model.add(TimeDistributed(MaxPooling2D((2, 2), strides=(2, 2))))\\n \\nbase_model.add(TimeDistributed(Conv2D(128, (3,3), padding=\\'same\\', activation=\\'relu\\')))\\nbase_model.add(TimeDistributed(Conv2D(128, (3,3), padding=\\'same\\', activation=\\'relu\\')))\\nbase_model.add(TimeDistributed(MaxPooling2D((2, 2), strides=(2, 2))))\\n \\nbase_model.add(TimeDistributed(Conv2D(256, (3,3), padding=\\'same\\', activation=\\'relu\\')))\\nbase_model.add(TimeDistributed(Conv2D(256, (3,3), padding=\\'same\\', activation=\\'relu\\')))\\nbase_model.add(TimeDistributed(MaxPooling2D((2, 2), strides=(2, 2))))\\n \\nbase_model.add(TimeDistributed(Conv2D(512, (3,3), padding=\\'same\\', activation=\\'relu\\')))\\nbase_model.add(TimeDistributed(Conv2D(512, (3,3), padding=\\'same\\', activation=\\'relu\\')))\\nbase_model.add(TimeDistributed(MaxPooling2D((2, 2), strides=(2, 2))))\\n \\nbase_model.add(TimeDistributed(Flatten()))\\n \\nbase_model.add(Dropout(0.5))\\nbase_model.add(LSTM(2048, return_sequences=True, dropout=0.3))\\nbase_model.add(LSTM(1024, return_sequences=True, dropout=0.3))\\nbase_model.add(LSTM(512, return_sequences=False, dropout=0.3))\\nbase_model.add(Dense(128))\\nbase_model.add(Dense(5, activation=\\'softmax\\'))\\nbase_model.summary()\\n'"
      ]
     },
     "execution_count": 9,
     "metadata": {},
     "output_type": "execute_result"
    }
   ],
   "source": [
    "## This model gave about 20% accuracy after 7 epochs using below architecture (No Transfer Learning)\n",
    "'''\n",
    "base_model = Sequential()\n",
    "base_model.add(TimeDistributed(Conv2D(32, (7, 7), strides=(2, 2), activation='relu', padding='same'), input_shape=(18,84,84,3)))\n",
    "base_model.add(TimeDistributed(Conv2D(32, (3,3), kernel_initializer=\"he_normal\", activation='relu')))\n",
    "base_model.add(TimeDistributed(MaxPooling2D((2, 2), strides=(2, 2))))\n",
    " \n",
    "base_model.add(TimeDistributed(Conv2D(64, (3,3), padding='same', activation='relu')))\n",
    "base_model.add(TimeDistributed(Conv2D(64, (3,3), padding='same', activation='relu')))\n",
    "base_model.add(TimeDistributed(MaxPooling2D((2, 2), strides=(2, 2))))\n",
    " \n",
    "base_model.add(TimeDistributed(Conv2D(128, (3,3), padding='same', activation='relu')))\n",
    "base_model.add(TimeDistributed(Conv2D(128, (3,3), padding='same', activation='relu')))\n",
    "base_model.add(TimeDistributed(MaxPooling2D((2, 2), strides=(2, 2))))\n",
    " \n",
    "base_model.add(TimeDistributed(Conv2D(256, (3,3), padding='same', activation='relu')))\n",
    "base_model.add(TimeDistributed(Conv2D(256, (3,3), padding='same', activation='relu')))\n",
    "base_model.add(TimeDistributed(MaxPooling2D((2, 2), strides=(2, 2))))\n",
    " \n",
    "base_model.add(TimeDistributed(Conv2D(512, (3,3), padding='same', activation='relu')))\n",
    "base_model.add(TimeDistributed(Conv2D(512, (3,3), padding='same', activation='relu')))\n",
    "base_model.add(TimeDistributed(MaxPooling2D((2, 2), strides=(2, 2))))\n",
    " \n",
    "base_model.add(TimeDistributed(Flatten()))\n",
    " \n",
    "base_model.add(Dropout(0.5))\n",
    "base_model.add(LSTM(2048, return_sequences=True, dropout=0.3))\n",
    "base_model.add(LSTM(1024, return_sequences=True, dropout=0.3))\n",
    "base_model.add(LSTM(512, return_sequences=False, dropout=0.3))\n",
    "base_model.add(Dense(128))\n",
    "base_model.add(Dense(5, activation='softmax'))\n",
    "base_model.summary()\n",
    "'''"
   ]
  },
  {
   "cell_type": "markdown",
   "metadata": {},
   "source": [
    "Now that you have written the model, the next step is to `compile` the model. When you print the `summary` of the model, you'll see the total number of parameters you have to train."
   ]
  },
  {
   "cell_type": "code",
   "execution_count": 10,
   "metadata": {},
   "outputs": [
    {
     "data": {
      "text/plain": [
       "\"\\noptimiser = Adam()\\nbase_model.compile(optimizer=optimiser, loss='categorical_crossentropy', metrics=['categorical_accuracy'])\\nprint (base_model.summary())\\n\""
      ]
     },
     "execution_count": 10,
     "metadata": {},
     "output_type": "execute_result"
    }
   ],
   "source": [
    "'''\n",
    "optimiser = Adam()\n",
    "base_model.compile(optimizer=optimiser, loss='categorical_crossentropy', metrics=['categorical_accuracy'])\n",
    "print (base_model.summary())\n",
    "'''"
   ]
  },
  {
   "cell_type": "markdown",
   "metadata": {},
   "source": [
    "Let us now fit the model. This will start training the model and with the help of the checkpoints, you'll be able to save the model at the end of each epoch."
   ]
  },
  {
   "cell_type": "code",
   "execution_count": 11,
   "metadata": {},
   "outputs": [
    {
     "data": {
      "text/plain": [
       "'\\nhistory = base_model.fit(train_generator, steps_per_epoch=steps_per_epoch, epochs=num_epochs, verbose=1, \\n                    callbacks=callbacks_list, validation_data=val_generator, \\n                    validation_steps=validation_steps, class_weight=None, workers=1, initial_epoch=0)\\n'"
      ]
     },
     "execution_count": 11,
     "metadata": {},
     "output_type": "execute_result"
    }
   ],
   "source": [
    "'''\n",
    "history = base_model.fit(train_generator, steps_per_epoch=steps_per_epoch, epochs=num_epochs, verbose=1, \n",
    "                    callbacks=callbacks_list, validation_data=val_generator, \n",
    "                    validation_steps=validation_steps, class_weight=None, workers=1, initial_epoch=0)\n",
    "'''"
   ]
  },
  {
   "cell_type": "code",
   "execution_count": 12,
   "metadata": {},
   "outputs": [
    {
     "data": {
      "text/plain": [
       "\"\\n# summarize history for accuracy\\nplt.plot(history.history['categorical_accuracy'])\\nplt.plot(history.history['val_categorical_accuracy'])\\nplt.title('Base CNN_LSTM Model (without Transfer Learning) accuracy')\\nplt.ylabel('Categorical accuracy')\\nplt.xlabel('epoch')\\nplt.legend(['train', 'test'], loc='upper left')\\nplt.show()\\n# summarize history for loss\\nplt.plot(history.history['loss'])\\nplt.plot(history.history['val_loss'])\\nplt.title('model loss')\\nplt.ylabel('loss')\\nplt.xlabel('epoch')\\nplt.legend(['train', 'test'], loc='upper left')\\nplt.show()\\n\""
      ]
     },
     "execution_count": 12,
     "metadata": {},
     "output_type": "execute_result"
    }
   ],
   "source": [
    "'''\n",
    "# summarize history for accuracy\n",
    "plt.plot(history.history['categorical_accuracy'])\n",
    "plt.plot(history.history['val_categorical_accuracy'])\n",
    "plt.title('Base CNN_LSTM Model (without Transfer Learning) accuracy')\n",
    "plt.ylabel('Categorical accuracy')\n",
    "plt.xlabel('epoch')\n",
    "plt.legend(['train', 'test'], loc='upper left')\n",
    "plt.show()\n",
    "# summarize history for loss\n",
    "plt.plot(history.history['loss'])\n",
    "plt.plot(history.history['val_loss'])\n",
    "plt.title('model loss')\n",
    "plt.ylabel('loss')\n",
    "plt.xlabel('epoch')\n",
    "plt.legend(['train', 'test'], loc='upper left')\n",
    "plt.show()\n",
    "'''"
   ]
  },
  {
   "cell_type": "code",
   "execution_count": 13,
   "metadata": {},
   "outputs": [
    {
     "name": "stderr",
     "output_type": "stream",
     "text": [
      "2022-05-17 14:31:27.408313: W tensorflow/core/common_runtime/gpu/gpu_bfc_allocator.cc:39] Overriding allow_growth setting because the TF_FORCE_GPU_ALLOW_GROWTH environment variable is set. Original config value was 0.\n",
      "2022-05-17 14:31:27.408378: I tensorflow/core/common_runtime/gpu/gpu_device.cc:1525] Created device /job:localhost/replica:0/task:0/device:GPU:0 with 14803 MB memory:  -> device: 0, name: Quadro RTX 5000, pci bus id: 0000:3f:00.0, compute capability: 7.5\n"
     ]
    }
   ],
   "source": [
    "# Commenting out this model as I only want to run 3D CNN for now //remember to uncomment\n",
    "\n",
    "video = Input(shape=(18,\n",
    "                     64,\n",
    "                     64,\n",
    "                     3))\n",
    "cnn_base = ResNet50(input_shape=(64,\n",
    "                              64,\n",
    "                              3),\n",
    "                 weights=\"imagenet\",\n",
    "                 include_top=False)\n",
    "\n",
    "##Commented below after suggestion from Harshul\n",
    "cnn_out = GlobalAveragePooling2D()(cnn_base.output)\n",
    "cnn = Model(cnn_base.input,cnn_out)\n",
    "\n",
    "\n",
    "#cnn.trainable = False\n",
    "split_at = 140\n",
    "for layer in cnn.layers[:split_at]: layer.trainable = False\n",
    "for layer in cnn.layers[split_at:]: layer.trainable = True\n",
    "\n",
    "\n",
    "encoded_frames = TimeDistributed(cnn)(video)\n",
    "##Added below after suggestion from Harshul\n",
    "\n",
    "#cnn.add(TimeDistributed(BatchNormalization()))\n",
    "#cnn.add(TimeDistributed(MaxPooling2D((2, 2))))\n",
    "encoded_frames1 = TimeDistributed(Flatten())(encoded_frames)\n",
    "##########\n",
    "encoded_sequence = LSTM(4028, return_sequences=True)(encoded_frames1)\n",
    "encoded_sequence1 = LSTM(2024,return_sequences=True)(encoded_sequence)\n",
    "encoded_sequence2 = LSTM(1012)(encoded_sequence1)\n",
    "hidden_layer = Dense(units=1024, activation=\"relu\")(encoded_sequence2)\n",
    "outputs = Dense(units=5, activation=\"softmax\")(hidden_layer)\n",
    "tl_cnn_lstm = Model([video], outputs)\n"
   ]
  },
  {
   "cell_type": "code",
   "execution_count": 14,
   "metadata": {},
   "outputs": [
    {
     "name": "stdout",
     "output_type": "stream",
     "text": [
      "Model: \"model_1\"\n",
      "_________________________________________________________________\n",
      " Layer (type)                Output Shape              Param #   \n",
      "=================================================================\n",
      " input_1 (InputLayer)        [(None, 18, 64, 64, 3)]   0         \n",
      "                                                                 \n",
      " time_distributed (TimeDistr  (None, 18, 2048)         23587712  \n",
      " ibuted)                                                         \n",
      "                                                                 \n",
      " time_distributed_1 (TimeDis  (None, 18, 2048)         0         \n",
      " tributed)                                                       \n",
      "                                                                 \n",
      " lstm (LSTM)                 (None, 18, 4028)          97912624  \n",
      "                                                                 \n",
      " lstm_1 (LSTM)               (None, 18, 2024)          49005088  \n",
      "                                                                 \n",
      " lstm_2 (LSTM)               (None, 1012)              12293776  \n",
      "                                                                 \n",
      " dense (Dense)               (None, 1024)              1037312   \n",
      "                                                                 \n",
      " dense_1 (Dense)             (None, 5)                 5125      \n",
      "                                                                 \n",
      "=================================================================\n",
      "Total params: 183,841,637\n",
      "Trainable params: 175,231,973\n",
      "Non-trainable params: 8,609,664\n",
      "_________________________________________________________________\n",
      "None\n"
     ]
    }
   ],
   "source": [
    "optimiser = Adam()                 \n",
    "tl_cnn_lstm.compile(optimizer=optimiser, loss='categorical_crossentropy', metrics=['categorical_accuracy'])\n",
    "print (tl_cnn_lstm.summary())"
   ]
  },
  {
   "cell_type": "code",
   "execution_count": 15,
   "metadata": {},
   "outputs": [
    {
     "name": "stdout",
     "output_type": "stream",
     "text": [
      "Source path =  /home/datasets/Project_data/train ; batch size = 16\n",
      "Epoch 1/20\n"
     ]
    },
    {
     "name": "stderr",
     "output_type": "stream",
     "text": [
      "2022-05-17 14:32:36.295788: I tensorflow/stream_executor/cuda/cuda_dnn.cc:377] Loaded cuDNN version 8302\n"
     ]
    },
    {
     "name": "stdout",
     "output_type": "stream",
     "text": [
      "42/42 [==============================] - ETA: 0s - loss: 1.7964 - categorical_accuracy: 0.1900Source path =  /home/datasets/Project_data/val ; batch size = 16\n",
      "42/42 [==============================] - 51s 959ms/step - loss: 1.7964 - categorical_accuracy: 0.1900 - val_loss: 1.6094 - val_categorical_accuracy: 0.2100 - lr: 0.0010\n",
      "Epoch 2/20\n",
      "42/42 [==============================] - 35s 842ms/step - loss: 1.6295 - categorical_accuracy: 0.2127 - val_loss: 1.6569 - val_categorical_accuracy: 0.1300 - lr: 0.0010\n",
      "Epoch 3/20\n",
      "42/42 [==============================] - ETA: 0s - loss: 1.5925 - categorical_accuracy: 0.2534\n",
      "Epoch 00003: val_loss improved from inf to 1.72080, saving model to model_init_2022-05-1714_31_26.605575/model-00003-1.59252-0.25339-1.72080-0.24000.h5\n",
      "42/42 [==============================] - 36s 870ms/step - loss: 1.5925 - categorical_accuracy: 0.2534 - val_loss: 1.7208 - val_categorical_accuracy: 0.2400 - lr: 0.0010\n",
      "Epoch 4/20\n",
      "42/42 [==============================] - 36s 870ms/step - loss: 1.4397 - categorical_accuracy: 0.3183 - val_loss: 1.3022 - val_categorical_accuracy: 0.4000 - lr: 0.0010\n",
      "Epoch 5/20\n",
      "42/42 [==============================] - 35s 839ms/step - loss: 1.3091 - categorical_accuracy: 0.3484 - val_loss: 1.7242 - val_categorical_accuracy: 0.2600 - lr: 0.0010\n",
      "Epoch 6/20\n",
      "42/42 [==============================] - ETA: 0s - loss: 1.2739 - categorical_accuracy: 0.3725\n",
      "Epoch 00006: val_loss improved from 1.72080 to 1.14192, saving model to model_init_2022-05-1714_31_26.605575/model-00006-1.27394-0.37255-1.14192-0.44000.h5\n",
      "42/42 [==============================] - 37s 892ms/step - loss: 1.2739 - categorical_accuracy: 0.3725 - val_loss: 1.1419 - val_categorical_accuracy: 0.4400 - lr: 0.0010\n",
      "Epoch 7/20\n",
      "42/42 [==============================] - 35s 844ms/step - loss: 1.1621 - categorical_accuracy: 0.4268 - val_loss: 1.1268 - val_categorical_accuracy: 0.4400 - lr: 0.0010\n",
      "Epoch 8/20\n",
      "42/42 [==============================] - 35s 845ms/step - loss: 1.0297 - categorical_accuracy: 0.4449 - val_loss: 1.2204 - val_categorical_accuracy: 0.4000 - lr: 0.0010\n",
      "Epoch 9/20\n",
      "42/42 [==============================] - ETA: 0s - loss: 0.9715 - categorical_accuracy: 0.4947\n",
      "Epoch 00009: val_loss improved from 1.14192 to 1.08007, saving model to model_init_2022-05-1714_31_26.605575/model-00009-0.97149-0.49472-1.08007-0.47000.h5\n",
      "42/42 [==============================] - 36s 881ms/step - loss: 0.9715 - categorical_accuracy: 0.4947 - val_loss: 1.0801 - val_categorical_accuracy: 0.4700 - lr: 0.0010\n",
      "Epoch 10/20\n",
      "42/42 [==============================] - 36s 864ms/step - loss: 0.9020 - categorical_accuracy: 0.5173 - val_loss: 1.0134 - val_categorical_accuracy: 0.4900 - lr: 0.0010\n",
      "Epoch 11/20\n",
      "42/42 [==============================] - 35s 846ms/step - loss: 0.8827 - categorical_accuracy: 0.5173 - val_loss: 1.1698 - val_categorical_accuracy: 0.4600 - lr: 0.0010\n",
      "Epoch 12/20\n",
      "42/42 [==============================] - ETA: 0s - loss: 0.8878 - categorical_accuracy: 0.5520\n",
      "Epoch 00012: val_loss did not improve from 1.08007\n",
      "42/42 [==============================] - 35s 855ms/step - loss: 0.8878 - categorical_accuracy: 0.5520 - val_loss: 1.2349 - val_categorical_accuracy: 0.3800 - lr: 0.0010\n",
      "Epoch 13/20\n",
      "42/42 [==============================] - 34s 831ms/step - loss: 0.8150 - categorical_accuracy: 0.5551 - val_loss: 1.1514 - val_categorical_accuracy: 0.4400 - lr: 0.0010\n",
      "Epoch 14/20\n",
      "42/42 [==============================] - ETA: 0s - loss: 0.7366 - categorical_accuracy: 0.5551\n",
      "Epoch 00014: ReduceLROnPlateau reducing learning rate to 0.00020000000949949026.\n",
      "42/42 [==============================] - 34s 816ms/step - loss: 0.7366 - categorical_accuracy: 0.5551 - val_loss: 1.4456 - val_categorical_accuracy: 0.4200 - lr: 0.0010\n",
      "Epoch 15/20\n",
      "42/42 [==============================] - ETA: 0s - loss: 0.7076 - categorical_accuracy: 0.5581\n",
      "Epoch 00015: val_loss improved from 1.08007 to 1.06527, saving model to model_init_2022-05-1714_31_26.605575/model-00015-0.70762-0.55807-1.06527-0.52000.h5\n",
      "42/42 [==============================] - 36s 867ms/step - loss: 0.7076 - categorical_accuracy: 0.5581 - val_loss: 1.0653 - val_categorical_accuracy: 0.5200 - lr: 2.0000e-04\n",
      "Epoch 16/20\n",
      "42/42 [==============================] - 34s 834ms/step - loss: 0.7086 - categorical_accuracy: 0.5852 - val_loss: 1.1022 - val_categorical_accuracy: 0.4500 - lr: 2.0000e-04\n",
      "Epoch 17/20\n",
      "42/42 [==============================] - 35s 860ms/step - loss: 0.6492 - categorical_accuracy: 0.5686 - val_loss: 1.0047 - val_categorical_accuracy: 0.4700 - lr: 2.0000e-04\n",
      "Epoch 18/20\n",
      "42/42 [==============================] - ETA: 0s - loss: 0.6247 - categorical_accuracy: 0.6169\n",
      "Epoch 00018: val_loss did not improve from 1.06527\n",
      "42/42 [==============================] - 34s 832ms/step - loss: 0.6247 - categorical_accuracy: 0.6169 - val_loss: 1.1133 - val_categorical_accuracy: 0.5000 - lr: 2.0000e-04\n",
      "Epoch 19/20\n",
      "42/42 [==============================] - 34s 815ms/step - loss: 0.6279 - categorical_accuracy: 0.6169 - val_loss: 1.2688 - val_categorical_accuracy: 0.4500 - lr: 2.0000e-04\n",
      "Epoch 20/20\n",
      "42/42 [==============================] - 33s 808ms/step - loss: 0.6147 - categorical_accuracy: 0.6018 - val_loss: 1.1093 - val_categorical_accuracy: 0.5300 - lr: 2.0000e-04\n"
     ]
    }
   ],
   "source": [
    "# Commenting out this model as I only want to run 3D CNN for now //remember to uncomment\n",
    "history = tl_cnn_lstm.fit(train_generator, steps_per_epoch=steps_per_epoch, epochs=num_epochs, verbose=1, \n",
    "                    callbacks=callbacks_list, validation_data=val_generator, \n",
    "                    validation_steps=validation_steps, class_weight=None, workers=1, initial_epoch=0)"
   ]
  },
  {
   "cell_type": "markdown",
   "metadata": {},
   "source": [
    "#######################"
   ]
  },
  {
   "cell_type": "code",
   "execution_count": 16,
   "metadata": {},
   "outputs": [
    {
     "data": {
      "image/png": "[encoded data removed]",
      "text/plain": [
       "<Figure size 432x288 with 1 Axes>"
      ]
     },
     "metadata": {
      "needs_background": "light"
     },
     "output_type": "display_data"
    },
    {
     "data": {
      "image/png": "[encoded data removed]",
      "text/plain": [
       "<Figure size 432x288 with 1 Axes>"
      ]
     },
     "metadata": {
      "needs_background": "light"
     },
     "output_type": "display_data"
    }
   ],
   "source": [
    "# summarize history for accuracy\n",
    "plt.plot(history.history['categorical_accuracy'])\n",
    "plt.plot(history.history['val_categorical_accuracy'])\n",
    "plt.title(' CNN_LSTM Model (ResNet50 Transfer Learning) accuracy')\n",
    "plt.ylabel('Categorical accuracy')\n",
    "plt.xlabel('epoch')\n",
    "plt.legend(['train', 'test'], loc='upper left')\n",
    "plt.show()\n",
    "# summarize history for loss\n",
    "plt.plot(history.history['loss'])\n",
    "plt.plot(history.history['val_loss'])\n",
    "plt.title('model loss')\n",
    "plt.ylabel('loss')\n",
    "plt.xlabel('epoch')\n",
    "plt.legend(['train', 'test'], loc='upper left')\n",
    "plt.show()"
   ]
  },
  {
   "cell_type": "code",
   "execution_count": 17,
   "metadata": {},
   "outputs": [],
   "source": [
    "\n",
    "#write your model here\n",
    "\n",
    "threeD_cnn_model = Sequential()\n",
    "\n",
    "threeD_cnn_model.add(Conv3D(16, (3,3,3), padding='same',input_shape=(18,64,64,3)))\n",
    "threeD_cnn_model.add(BatchNormalization())\n",
    "threeD_cnn_model.add(Activation('relu'))\n",
    "threeD_cnn_model.add(MaxPooling3D(pool_size=(2,2,2)))\n",
    "threeD_cnn_model.add(Dropout(0.3))\n",
    "\n",
    "threeD_cnn_model.add(Conv3D(32, (3,3,3), padding='same'))\n",
    "threeD_cnn_model.add(BatchNormalization())\n",
    "threeD_cnn_model.add(Activation('relu'))\n",
    "threeD_cnn_model.add(MaxPooling3D(pool_size=(2,2,2)))\n",
    "threeD_cnn_model.add(Dropout(0.3))\n",
    "\n",
    "\n",
    "threeD_cnn_model.add(Conv3D(64, (3,3,3), padding='same'))\n",
    "threeD_cnn_model.add(BatchNormalization())\n",
    "threeD_cnn_model.add(Activation('relu'))\n",
    "threeD_cnn_model.add(MaxPooling3D(pool_size=(2,2,2)))\n",
    "threeD_cnn_model.add(Dropout(0.3))\n",
    "\n",
    "\n",
    "threeD_cnn_model.add(Conv3D(128, (3,3,3), padding='same'))\n",
    "threeD_cnn_model.add(BatchNormalization())\n",
    "threeD_cnn_model.add(Activation('relu'))\n",
    "threeD_cnn_model.add(MaxPooling3D(pool_size=(2,2,2)))\n",
    "threeD_cnn_model.add(Dropout(0.3))\n",
    "\n",
    "\n",
    "threeD_cnn_model.add(Flatten())\n",
    "threeD_cnn_model.add(Dropout(0.3))\n",
    "threeD_cnn_model.add(Dense(256, activation='relu'))\n",
    "threeD_cnn_model.add(Dropout(0.2))\n",
    "threeD_cnn_model.add(Dense(5, activation='softmax'))"
   ]
  },
  {
   "cell_type": "code",
   "execution_count": 18,
   "metadata": {},
   "outputs": [
    {
     "name": "stdout",
     "output_type": "stream",
     "text": [
      "Model: \"sequential\"\n",
      "_________________________________________________________________\n",
      " Layer (type)                Output Shape              Param #   \n",
      "=================================================================\n",
      " conv3d (Conv3D)             (None, 18, 64, 64, 16)    1312      \n",
      "                                                                 \n",
      " batch_normalization (BatchN  (None, 18, 64, 64, 16)   64        \n",
      " ormalization)                                                   \n",
      "                                                                 \n",
      " activation (Activation)     (None, 18, 64, 64, 16)    0         \n",
      "                                                                 \n",
      " max_pooling3d (MaxPooling3D  (None, 9, 32, 32, 16)    0         \n",
      " )                                                               \n",
      "                                                                 \n",
      " dropout (Dropout)           (None, 9, 32, 32, 16)     0         \n",
      "                                                                 \n",
      " conv3d_1 (Conv3D)           (None, 9, 32, 32, 32)     13856     \n",
      "                                                                 \n",
      " batch_normalization_1 (Batc  (None, 9, 32, 32, 32)    128       \n",
      " hNormalization)                                                 \n",
      "                                                                 \n",
      " activation_1 (Activation)   (None, 9, 32, 32, 32)     0         \n",
      "                                                                 \n",
      " max_pooling3d_1 (MaxPooling  (None, 4, 16, 16, 32)    0         \n",
      " 3D)                                                             \n",
      "                                                                 \n",
      " dropout_1 (Dropout)         (None, 4, 16, 16, 32)     0         \n",
      "                                                                 \n",
      " conv3d_2 (Conv3D)           (None, 4, 16, 16, 64)     55360     \n",
      "                                                                 \n",
      " batch_normalization_2 (Batc  (None, 4, 16, 16, 64)    256       \n",
      " hNormalization)                                                 \n",
      "                                                                 \n",
      " activation_2 (Activation)   (None, 4, 16, 16, 64)     0         \n",
      "                                                                 \n",
      " max_pooling3d_2 (MaxPooling  (None, 2, 8, 8, 64)      0         \n",
      " 3D)                                                             \n",
      "                                                                 \n",
      " dropout_2 (Dropout)         (None, 2, 8, 8, 64)       0         \n",
      "                                                                 \n",
      " conv3d_3 (Conv3D)           (None, 2, 8, 8, 128)      221312    \n",
      "                                                                 \n",
      " batch_normalization_3 (Batc  (None, 2, 8, 8, 128)     512       \n",
      " hNormalization)                                                 \n",
      "                                                                 \n",
      " activation_3 (Activation)   (None, 2, 8, 8, 128)      0         \n",
      "                                                                 \n",
      " max_pooling3d_3 (MaxPooling  (None, 1, 4, 4, 128)     0         \n",
      " 3D)                                                             \n",
      "                                                                 \n",
      " dropout_3 (Dropout)         (None, 1, 4, 4, 128)      0         \n",
      "                                                                 \n",
      " flatten_1 (Flatten)         (None, 2048)              0         \n",
      "                                                                 \n",
      " dropout_4 (Dropout)         (None, 2048)              0         \n",
      "                                                                 \n",
      " dense_2 (Dense)             (None, 256)               524544    \n",
      "                                                                 \n",
      " dropout_5 (Dropout)         (None, 256)               0         \n",
      "                                                                 \n",
      " dense_3 (Dense)             (None, 5)                 1285      \n",
      "                                                                 \n",
      "=================================================================\n",
      "Total params: 818,629\n",
      "Trainable params: 818,149\n",
      "Non-trainable params: 480\n",
      "_________________________________________________________________\n",
      "None\n"
     ]
    }
   ],
   "source": [
    "optimiser = Adam()\n",
    "\n",
    "threeD_cnn_model.compile(optimizer=optimiser, loss='categorical_crossentropy', metrics=['categorical_accuracy'])\n",
    "print (threeD_cnn_model.summary())"
   ]
  },
  {
   "cell_type": "code",
   "execution_count": 19,
   "metadata": {},
   "outputs": [
    {
     "name": "stdout",
     "output_type": "stream",
     "text": [
      "Epoch 1/20\n",
      "42/42 [==============================] - ETA: 0s - loss: 2.4621 - categorical_accuracy: 0.3273\n",
      "Epoch 00001: val_loss did not improve from 1.06527\n",
      "42/42 [==============================] - 34s 798ms/step - loss: 2.4621 - categorical_accuracy: 0.3273 - val_loss: 11.5185 - val_categorical_accuracy: 0.2200 - lr: 0.0010\n",
      "Epoch 2/20\n",
      "42/42 [==============================] - 32s 789ms/step - loss: 1.3755 - categorical_accuracy: 0.3876 - val_loss: 3.7517 - val_categorical_accuracy: 0.2300 - lr: 0.0010\n",
      "Epoch 3/20\n",
      "42/42 [==============================] - 33s 808ms/step - loss: 1.2937 - categorical_accuracy: 0.4404 - val_loss: 1.4915 - val_categorical_accuracy: 0.4100 - lr: 0.0010\n",
      "Epoch 4/20\n",
      "42/42 [==============================] - ETA: 0s - loss: 1.1791 - categorical_accuracy: 0.4977\n",
      "Epoch 00004: val_loss improved from 1.06527 to 1.03893, saving model to model_init_2022-05-1714_31_26.605575/model-00004-1.17910-0.49774-1.03893-0.63000.h5\n",
      "42/42 [==============================] - 33s 802ms/step - loss: 1.1791 - categorical_accuracy: 0.4977 - val_loss: 1.0389 - val_categorical_accuracy: 0.6300 - lr: 0.0010\n",
      "Epoch 5/20\n",
      "42/42 [==============================] - 34s 822ms/step - loss: 1.0737 - categorical_accuracy: 0.5264 - val_loss: 1.3242 - val_categorical_accuracy: 0.4400 - lr: 0.0010\n",
      "Epoch 6/20\n",
      "42/42 [==============================] - 33s 806ms/step - loss: 1.0034 - categorical_accuracy: 0.6063 - val_loss: 1.1767 - val_categorical_accuracy: 0.5800 - lr: 0.0010\n",
      "Epoch 7/20\n",
      "42/42 [==============================] - ETA: 0s - loss: 0.8089 - categorical_accuracy: 0.6652\n",
      "Epoch 00007: val_loss did not improve from 1.03893\n",
      "42/42 [==============================] - 33s 806ms/step - loss: 0.8089 - categorical_accuracy: 0.6652 - val_loss: 1.2381 - val_categorical_accuracy: 0.5100 - lr: 0.0010\n",
      "Epoch 8/20\n",
      "42/42 [==============================] - ETA: 0s - loss: 0.6775 - categorical_accuracy: 0.7179\n",
      "Epoch 00008: ReduceLROnPlateau reducing learning rate to 0.00020000000949949026.\n",
      "42/42 [==============================] - 33s 792ms/step - loss: 0.6775 - categorical_accuracy: 0.7179 - val_loss: 2.4781 - val_categorical_accuracy: 0.3400 - lr: 0.0010\n",
      "Epoch 9/20\n",
      "42/42 [==============================] - 33s 803ms/step - loss: 0.5772 - categorical_accuracy: 0.7858 - val_loss: 1.7640 - val_categorical_accuracy: 0.4100 - lr: 2.0000e-04\n",
      "Epoch 10/20\n",
      "42/42 [==============================] - ETA: 0s - loss: 0.5800 - categorical_accuracy: 0.7813\n",
      "Epoch 00010: val_loss did not improve from 1.03893\n",
      "42/42 [==============================] - 33s 814ms/step - loss: 0.5800 - categorical_accuracy: 0.7813 - val_loss: 1.3345 - val_categorical_accuracy: 0.5100 - lr: 2.0000e-04\n",
      "Epoch 11/20\n",
      "42/42 [==============================] - 34s 825ms/step - loss: 0.5029 - categorical_accuracy: 0.8024 - val_loss: 1.0112 - val_categorical_accuracy: 0.5500 - lr: 2.0000e-04\n",
      "Epoch 12/20\n",
      "42/42 [==============================] - 34s 829ms/step - loss: 0.4961 - categorical_accuracy: 0.8039 - val_loss: 1.1703 - val_categorical_accuracy: 0.6200 - lr: 2.0000e-04\n",
      "Epoch 13/20\n",
      "42/42 [==============================] - ETA: 0s - loss: 0.4359 - categorical_accuracy: 0.8235\n",
      "Epoch 00013: val_loss did not improve from 1.03893\n",
      "42/42 [==============================] - 34s 832ms/step - loss: 0.4359 - categorical_accuracy: 0.8235 - val_loss: 1.0499 - val_categorical_accuracy: 0.6300 - lr: 2.0000e-04\n",
      "Epoch 14/20\n",
      "42/42 [==============================] - 33s 815ms/step - loss: 0.4451 - categorical_accuracy: 0.8175 - val_loss: 0.9911 - val_categorical_accuracy: 0.6400 - lr: 2.0000e-04\n",
      "Epoch 15/20\n",
      "42/42 [==============================] - 33s 805ms/step - loss: 0.4143 - categorical_accuracy: 0.8386 - val_loss: 0.8812 - val_categorical_accuracy: 0.6600 - lr: 2.0000e-04\n",
      "Epoch 16/20\n",
      "42/42 [==============================] - ETA: 0s - loss: 0.3956 - categorical_accuracy: 0.8446\n",
      "Epoch 00016: val_loss improved from 1.03893 to 0.83066, saving model to model_init_2022-05-1714_31_26.605575/model-00016-0.39558-0.84465-0.83066-0.69000.h5\n",
      "42/42 [==============================] - 34s 836ms/step - loss: 0.3956 - categorical_accuracy: 0.8446 - val_loss: 0.8307 - val_categorical_accuracy: 0.6900 - lr: 2.0000e-04\n",
      "Epoch 17/20\n",
      "42/42 [==============================] - 34s 839ms/step - loss: 0.4488 - categorical_accuracy: 0.8281 - val_loss: 0.8528 - val_categorical_accuracy: 0.6800 - lr: 2.0000e-04\n",
      "Epoch 18/20\n",
      "42/42 [==============================] - 34s 821ms/step - loss: 0.3748 - categorical_accuracy: 0.8552 - val_loss: 0.5154 - val_categorical_accuracy: 0.8200 - lr: 2.0000e-04\n",
      "Epoch 19/20\n",
      "42/42 [==============================] - ETA: 0s - loss: 0.3516 - categorical_accuracy: 0.8763\n",
      "Epoch 00019: val_loss improved from 0.83066 to 0.77211, saving model to model_init_2022-05-1714_31_26.605575/model-00019-0.35159-0.87632-0.77211-0.72000.h5\n",
      "42/42 [==============================] - 34s 830ms/step - loss: 0.3516 - categorical_accuracy: 0.8763 - val_loss: 0.7721 - val_categorical_accuracy: 0.7200 - lr: 2.0000e-04\n",
      "Epoch 20/20\n",
      "42/42 [==============================] - 34s 827ms/step - loss: 0.3606 - categorical_accuracy: 0.8748 - val_loss: 0.9155 - val_categorical_accuracy: 0.7300 - lr: 2.0000e-04\n"
     ]
    }
   ],
   "source": [
    "history = threeD_cnn_model.fit(train_generator, steps_per_epoch=steps_per_epoch, epochs=num_epochs, verbose=1, \n",
    "                    callbacks=callbacks_list, validation_data=val_generator, \n",
    "                    validation_steps=validation_steps, class_weight=None, workers=1, initial_epoch=0)"
   ]
  },
  {
   "cell_type": "code",
   "execution_count": 20,
   "metadata": {},
   "outputs": [
    {
     "data": {
      "image/png": "[encoded data removed]",
      "text/plain": [
       "<Figure size 432x288 with 1 Axes>"
      ]
     },
     "metadata": {
      "needs_background": "light"
     },
     "output_type": "display_data"
    },
    {
     "data": {
      "image/png": "[encoded data removed]",
      "text/plain": [
       "<Figure size 432x288 with 1 Axes>"
      ]
     },
     "metadata": {
      "needs_background": "light"
     },
     "output_type": "display_data"
    }
   ],
   "source": [
    "plt.plot(history.history['categorical_accuracy'])\n",
    "plt.plot(history.history['val_categorical_accuracy'])\n",
    "plt.title('3D CNN model accuracy')\n",
    "plt.ylabel('accuracy')\n",
    "plt.xlabel('epoch')\n",
    "plt.legend(['train', 'test'], loc='upper left')\n",
    "plt.show()\n",
    "# summarize history for loss\n",
    "plt.plot(history.history['loss'])\n",
    "plt.plot(history.history['val_loss'])\n",
    "plt.title('model loss')\n",
    "plt.ylabel('loss')\n",
    "plt.xlabel('epoch')\n",
    "plt.legend(['train', 'test'], loc='upper left')\n",
    "plt.show()"
   ]
  },
  {
   "cell_type": "code",
   "execution_count": null,
   "metadata": {},
   "outputs": [],
   "source": []
  }
 ],
 "metadata": {
  "kernelspec": {
   "display_name": "Python 3",
   "language": "python",
   "name": "python3"
  },
  "language_info": {
   "codemirror_mode": {
    "name": "ipython",
    "version": 3
   },
   "file_extension": ".py",
   "mimetype": "text/x-python",
   "name": "python",
   "nbconvert_exporter": "python",
   "pygments_lexer": "ipython3",
   "version": "3.6.10"
  }
 },
 "nbformat": 4,
 "nbformat_minor": 4
}
