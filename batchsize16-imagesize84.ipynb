{
 "cells": [
  {
   "cell_type": "markdown",
   "metadata": {},
   "source": [
    "# Gesture Recognition\n",
    "In this group project, you are going to build a 3D Conv model that will be able to predict the 5 gestures correctly. Please import the following libraries to get started. Once you have completed the code you can download the notebook for making a submission."
   ]
  },
  {
   "cell_type": "code",
   "execution_count": 1,
   "metadata": {},
   "outputs": [],
   "source": [
    "import numpy as np\n",
    "import matplotlib.pyplot as plt\n",
    "import seaborn as sns\n",
    "import os\n",
    "from imageio import imread\n",
    "from skimage.transform import resize\n",
    "import datetime\n",
    "import os\n",
    "import cv2\n",
    "from tensorflow.keras.models import Sequential,Model\n",
    "from tensorflow.keras.layers import Dense, GRU, Dropout, Flatten, BatchNormalization, Activation, Conv3D, MaxPooling3D, TimeDistributed,Conv2D,MaxPooling2D,LSTM, Input,GlobalAveragePooling2D\n",
    "from tensorflow.keras.callbacks import ModelCheckpoint, ReduceLROnPlateau, EarlyStopping\n",
    "from tensorflow.keras import optimizers\n",
    "from tensorflow.keras.applications import ResNet50\n",
    "from keras.applications.vgg16 import VGG16\n",
    "from tensorflow.keras.optimizers import Nadam, Adam, SGD"
   ]
  },
  {
   "cell_type": "markdown",
   "metadata": {},
   "source": [
    "We set the random seed so that the results don't vary drastically."
   ]
  },
  {
   "cell_type": "code",
   "execution_count": 2,
   "metadata": {},
   "outputs": [],
   "source": [
    "np.random.seed(30)\n",
    "import random as rn\n",
    "rn.seed(30)\n",
    "from tensorflow import keras\n",
    "import tensorflow as tf\n",
    "tf.random.set_seed(30)"
   ]
  },
  {
   "cell_type": "markdown",
   "metadata": {},
   "source": [
    "In this block, you read the folder names for training and validation. You also set the `batch_size` here. Note that you set the batch size in such a way that you are able to use the GPU in full capacity. You keep increasing the batch size until the machine throws an error."
   ]
  },
  {
   "cell_type": "markdown",
   "metadata": {},
   "source": [
    "**data path: /home/datasets/Project_data**"
   ]
  },
  {
   "cell_type": "code",
   "execution_count": 3,
   "metadata": {},
   "outputs": [],
   "source": [
    "train_doc = np.random.permutation(open('/home/datasets/Project_data/train.csv').readlines())\n",
    "val_doc = np.random.permutation(open('/home/datasets/Project_data/val.csv').readlines())\n",
    "batch_size = 16"
   ]
  },
  {
   "cell_type": "markdown",
   "metadata": {},
   "source": [
    "## Generator\n",
    "This is one of the most important part of the code. The overall structure of the generator has been given. In the generator, you are going to preprocess the images as you have images of 2 different dimensions as well as create a batch of video frames. You have to experiment with `img_idx`, `y`,`z` and normalization such that you get high accuracy."
   ]
  },
  {
   "cell_type": "code",
   "execution_count": 4,
   "metadata": {},
   "outputs": [],
   "source": [
    "def generator(source_path, folder_list, batch_size):\n",
    "    print( 'Source path = ', source_path, '; batch size =', batch_size)\n",
    "    img_idx = [0,1,2,4,6,8,10,12,14,16,18,20,22,24,26,27,28,29]\n",
    "    while True:\n",
    "        t = np.random.permutation(folder_list)\n",
    "        num_batches = int(len(t)/batch_size)\n",
    "        for batch in range(num_batches):\n",
    "            batch_data = np.zeros((batch_size,18,84,84,3))\n",
    "            batch_labels = np.zeros((batch_size,5))\n",
    "            for folder in range(batch_size):\n",
    "                imgs = os.listdir(source_path+'/'+ t[folder + (batch*batch_size)].split(';')[0])\n",
    "                for idx,item in enumerate(img_idx):\n",
    "                    image = imread(source_path+'/'+ t[folder + (batch*batch_size)].strip().split(';')[0]+'/'+imgs[item]).astype(np.float32)\n",
    "                    if image.shape[1] == 160:\n",
    "                        image = cv2.resize(image[:,20:140,:],(84,84)).astype(np.float32)\n",
    "                    else:\n",
    "                        image = cv2.resize(image,(84,84)).astype(np.float32)\n",
    "                    \n",
    "                    batch_data[folder,idx,:,:,0] = image[:,:,0]-104\n",
    "                    batch_data[folder,idx,:,:,1] = image[:,:,1]-117\n",
    "                    batch_data[folder,idx,:,:,2] = image[:,:,2]-123\n",
    "                    \n",
    "                batch_labels[folder, int(t[folder + (batch*batch_size)].strip().split(';')[2])] = 1\n",
    "            yield batch_data, batch_labels\n",
    "\n",
    "        if (len(t)%batch_size) != 0:\n",
    "            batch_data = np.zeros((len(t)%batch_size,18,84,84,3))\n",
    "            batch_labels = np.zeros((len(t)%batch_size,5))\n",
    "            for folder in range(len(t)%batch_size):\n",
    "                imgs = os.listdir(source_path+'/'+ t[folder + (num_batches*batch_size)].split(';')[0])\n",
    "                for idx,item in enumerate(img_idx):\n",
    "                    image = imread(source_path+'/'+ t[folder + (num_batches*batch_size)].strip().split(';')[0]+'/'+imgs[item]).astype(np.float32)\n",
    "                    if image.shape[1] == 160:\n",
    "                        image = cv2.resize(image[:,20:140,:],(84,84)).astype(np.float32)\n",
    "                    else:\n",
    "                        image = cv2.resize(image,(84,84)).astype(np.float32)\n",
    "\n",
    "                    batch_data[folder,idx,:,:,0] = image[:,:,0]-104\n",
    "                    batch_data[folder,idx,:,:,1] = image[:,:,1]-117\n",
    "                    batch_data[folder,idx,:,:,2] = image[:,:,2]-123\n",
    "\n",
    "                batch_labels[folder, int(t[folder + (num_batches*batch_size)].strip().split(';')[2])] = 1\n",
    "\n",
    "            yield batch_data, batch_labels"
   ]
  },
  {
   "cell_type": "markdown",
   "metadata": {},
   "source": [
    "Note here that a video is represented above in the generator as (number of images, height, width, number of channels). Take this into consideration while creating the model architecture."
   ]
  },
  {
   "cell_type": "code",
   "execution_count": 5,
   "metadata": {},
   "outputs": [
    {
     "name": "stdout",
     "output_type": "stream",
     "text": [
      "# training sequences = 663\n",
      "# validation sequences = 100\n",
      "# epochs = 15\n"
     ]
    }
   ],
   "source": [
    "curr_dt_time = datetime.datetime.now()\n",
    "train_path = '/home/datasets/Project_data/train'\n",
    "val_path = '/home/datasets/Project_data/val'\n",
    "num_train_sequences = len(train_doc)\n",
    "print('# training sequences =', num_train_sequences)\n",
    "num_val_sequences = len(val_doc)\n",
    "print('# validation sequences =', num_val_sequences)\n",
    "num_epochs = 15\n",
    "print ('# epochs =', num_epochs)"
   ]
  },
  {
   "cell_type": "markdown",
   "metadata": {},
   "source": [
    "Let us create the `train_generator` and the `val_generator` which will be used in `.fit_generator`."
   ]
  },
  {
   "cell_type": "code",
   "execution_count": 6,
   "metadata": {},
   "outputs": [],
   "source": [
    "train_generator = generator(train_path, train_doc, batch_size)\n",
    "val_generator = generator(val_path, val_doc, batch_size)"
   ]
  },
  {
   "cell_type": "code",
   "execution_count": 7,
   "metadata": {},
   "outputs": [
    {
     "name": "stdout",
     "output_type": "stream",
     "text": [
      "WARNING:tensorflow:`period` argument is deprecated. Please use `save_freq` to specify the frequency in number of batches seen.\n"
     ]
    }
   ],
   "source": [
    "model_name = 'model_init' + '_' + str(curr_dt_time).replace(' ','').replace(':','_') + '/'\n",
    "    \n",
    "if not os.path.exists(model_name):\n",
    "    os.mkdir(model_name)\n",
    "        \n",
    "filepath = model_name + 'model-{epoch:05d}-{loss:.5f}-{categorical_accuracy:.5f}-{val_loss:.5f}-{val_categorical_accuracy:.5f}.h5'\n",
    "#filepath = model_name + 'model.h5'\n",
    "\n",
    "checkpoint = ModelCheckpoint(filepath, monitor='val_loss', verbose=1, save_best_only=True, save_weights_only=True, mode='auto',period=3)\n",
    "\n",
    "LR = ReduceLROnPlateau(monitor='val_loss', factor=0.2, verbose=1, patience=4)\n",
    "\n",
    "es = EarlyStopping(patience=10, restore_best_weights=True)\n",
    "\n",
    "callbacks_list = [checkpoint, LR, es]"
   ]
  },
  {
   "cell_type": "markdown",
   "metadata": {},
   "source": [
    "The `steps_per_epoch` and `validation_steps` are used by `fit` method to decide the number of next() calls it need to make."
   ]
  },
  {
   "cell_type": "code",
   "execution_count": 8,
   "metadata": {},
   "outputs": [],
   "source": [
    "if (num_train_sequences%batch_size) == 0:\n",
    "    steps_per_epoch = int(num_train_sequences/batch_size)\n",
    "else:\n",
    "    steps_per_epoch = (num_train_sequences//batch_size) + 1\n",
    "\n",
    "if (num_val_sequences%batch_size) == 0:\n",
    "    validation_steps = int(num_val_sequences/batch_size)\n",
    "else:\n",
    "    validation_steps = (num_val_sequences//batch_size) + 1"
   ]
  },
  {
   "cell_type": "markdown",
   "metadata": {},
   "source": [
    "## Model\n",
    "Here you make the model using different functionalities that Keras provides. Remember to use `Conv3D` and `MaxPooling3D` and not `Conv2D` and `Maxpooling2D` for a 3D convolution model. You would want to use `TimeDistributed` while building a Conv2D + RNN model. Also remember that the last layer is the softmax. Design the network in such a way that the model is able to give good accuracy on the least number of parameters so that it can fit in the memory of the webcam."
   ]
  },
  {
   "cell_type": "code",
   "execution_count": 9,
   "metadata": {},
   "outputs": [
    {
     "name": "stderr",
     "output_type": "stream",
     "text": [
      "2022-05-17 12:38:35.103392: W tensorflow/core/common_runtime/gpu/gpu_bfc_allocator.cc:39] Overriding allow_growth setting because the TF_FORCE_GPU_ALLOW_GROWTH environment variable is set. Original config value was 0.\n",
      "2022-05-17 12:38:35.103459: I tensorflow/core/common_runtime/gpu/gpu_device.cc:1525] Created device /job:localhost/replica:0/task:0/device:GPU:0 with 5692 MB memory:  -> device: 0, name: Quadro RTX 5000, pci bus id: 0000:1d:00.0, compute capability: 7.5\n"
     ]
    },
    {
     "name": "stdout",
     "output_type": "stream",
     "text": [
      "Model: \"sequential\"\n",
      "_________________________________________________________________\n",
      " Layer (type)                Output Shape              Param #   \n",
      "=================================================================\n",
      " time_distributed (TimeDistr  (None, 18, 42, 42, 32)   4736      \n",
      " ibuted)                                                         \n",
      "                                                                 \n",
      " time_distributed_1 (TimeDis  (None, 18, 40, 40, 32)   9248      \n",
      " tributed)                                                       \n",
      "                                                                 \n",
      " time_distributed_2 (TimeDis  (None, 18, 20, 20, 32)   0         \n",
      " tributed)                                                       \n",
      "                                                                 \n",
      " time_distributed_3 (TimeDis  (None, 18, 20, 20, 64)   18496     \n",
      " tributed)                                                       \n",
      "                                                                 \n",
      " time_distributed_4 (TimeDis  (None, 18, 20, 20, 64)   36928     \n",
      " tributed)                                                       \n",
      "                                                                 \n",
      " time_distributed_5 (TimeDis  (None, 18, 10, 10, 64)   0         \n",
      " tributed)                                                       \n",
      "                                                                 \n",
      " time_distributed_6 (TimeDis  (None, 18, 10, 10, 128)  73856     \n",
      " tributed)                                                       \n",
      "                                                                 \n",
      " time_distributed_7 (TimeDis  (None, 18, 10, 10, 128)  147584    \n",
      " tributed)                                                       \n",
      "                                                                 \n",
      " time_distributed_8 (TimeDis  (None, 18, 5, 5, 128)    0         \n",
      " tributed)                                                       \n",
      "                                                                 \n",
      " time_distributed_9 (TimeDis  (None, 18, 5, 5, 256)    295168    \n",
      " tributed)                                                       \n",
      "                                                                 \n",
      " time_distributed_10 (TimeDi  (None, 18, 5, 5, 256)    590080    \n",
      " stributed)                                                      \n",
      "                                                                 \n",
      " time_distributed_11 (TimeDi  (None, 18, 2, 2, 256)    0         \n",
      " stributed)                                                      \n",
      "                                                                 \n",
      " time_distributed_12 (TimeDi  (None, 18, 2, 2, 512)    1180160   \n",
      " stributed)                                                      \n",
      "                                                                 \n",
      " time_distributed_13 (TimeDi  (None, 18, 2, 2, 512)    2359808   \n",
      " stributed)                                                      \n",
      "                                                                 \n",
      " time_distributed_14 (TimeDi  (None, 18, 1, 1, 512)    0         \n",
      " stributed)                                                      \n",
      "                                                                 \n",
      " time_distributed_15 (TimeDi  (None, 18, 512)          0         \n",
      " stributed)                                                      \n",
      "                                                                 \n",
      " dropout (Dropout)           (None, 18, 512)           0         \n",
      "                                                                 \n",
      " lstm (LSTM)                 (None, 18, 2048)          20979712  \n",
      "                                                                 \n",
      " lstm_1 (LSTM)               (None, 18, 1024)          12587008  \n",
      "                                                                 \n",
      " lstm_2 (LSTM)               (None, 512)               3147776   \n",
      "                                                                 \n",
      " dense (Dense)               (None, 128)               65664     \n",
      "                                                                 \n",
      " dense_1 (Dense)             (None, 5)                 645       \n",
      "                                                                 \n",
      "=================================================================\n",
      "Total params: 41,496,869\n",
      "Trainable params: 41,496,869\n",
      "Non-trainable params: 0\n",
      "_________________________________________________________________\n"
     ]
    }
   ],
   "source": [
    "## This model gave about 20% accuracy after 7 epochs using below architecture (No Transfer Learning)\n",
    "\n",
    "base_model = Sequential()\n",
    "base_model.add(TimeDistributed(Conv2D(32, (7, 7), strides=(2, 2), activation='relu', padding='same'), input_shape=(18,84,84,3)))\n",
    "base_model.add(TimeDistributed(Conv2D(32, (3,3), kernel_initializer=\"he_normal\", activation='relu')))\n",
    "base_model.add(TimeDistributed(MaxPooling2D((2, 2), strides=(2, 2))))\n",
    " \n",
    "base_model.add(TimeDistributed(Conv2D(64, (3,3), padding='same', activation='relu')))\n",
    "base_model.add(TimeDistributed(Conv2D(64, (3,3), padding='same', activation='relu')))\n",
    "base_model.add(TimeDistributed(MaxPooling2D((2, 2), strides=(2, 2))))\n",
    " \n",
    "base_model.add(TimeDistributed(Conv2D(128, (3,3), padding='same', activation='relu')))\n",
    "base_model.add(TimeDistributed(Conv2D(128, (3,3), padding='same', activation='relu')))\n",
    "base_model.add(TimeDistributed(MaxPooling2D((2, 2), strides=(2, 2))))\n",
    " \n",
    "base_model.add(TimeDistributed(Conv2D(256, (3,3), padding='same', activation='relu')))\n",
    "base_model.add(TimeDistributed(Conv2D(256, (3,3), padding='same', activation='relu')))\n",
    "base_model.add(TimeDistributed(MaxPooling2D((2, 2), strides=(2, 2))))\n",
    " \n",
    "base_model.add(TimeDistributed(Conv2D(512, (3,3), padding='same', activation='relu')))\n",
    "base_model.add(TimeDistributed(Conv2D(512, (3,3), padding='same', activation='relu')))\n",
    "base_model.add(TimeDistributed(MaxPooling2D((2, 2), strides=(2, 2))))\n",
    " \n",
    "base_model.add(TimeDistributed(Flatten()))\n",
    " \n",
    "base_model.add(Dropout(0.5))\n",
    "base_model.add(LSTM(2048, return_sequences=True, dropout=0.3))\n",
    "base_model.add(LSTM(1024, return_sequences=True, dropout=0.3))\n",
    "base_model.add(LSTM(512, return_sequences=False, dropout=0.3))\n",
    "base_model.add(Dense(128))\n",
    "base_model.add(Dense(5, activation='softmax'))\n",
    "base_model.summary()"
   ]
  },
  {
   "cell_type": "markdown",
   "metadata": {},
   "source": [
    "Now that you have written the model, the next step is to `compile` the model. When you print the `summary` of the model, you'll see the total number of parameters you have to train."
   ]
  },
  {
   "cell_type": "code",
   "execution_count": 10,
   "metadata": {},
   "outputs": [
    {
     "name": "stdout",
     "output_type": "stream",
     "text": [
      "Model: \"sequential\"\n",
      "_________________________________________________________________\n",
      " Layer (type)                Output Shape              Param #   \n",
      "=================================================================\n",
      " time_distributed (TimeDistr  (None, 18, 42, 42, 32)   4736      \n",
      " ibuted)                                                         \n",
      "                                                                 \n",
      " time_distributed_1 (TimeDis  (None, 18, 40, 40, 32)   9248      \n",
      " tributed)                                                       \n",
      "                                                                 \n",
      " time_distributed_2 (TimeDis  (None, 18, 20, 20, 32)   0         \n",
      " tributed)                                                       \n",
      "                                                                 \n",
      " time_distributed_3 (TimeDis  (None, 18, 20, 20, 64)   18496     \n",
      " tributed)                                                       \n",
      "                                                                 \n",
      " time_distributed_4 (TimeDis  (None, 18, 20, 20, 64)   36928     \n",
      " tributed)                                                       \n",
      "                                                                 \n",
      " time_distributed_5 (TimeDis  (None, 18, 10, 10, 64)   0         \n",
      " tributed)                                                       \n",
      "                                                                 \n",
      " time_distributed_6 (TimeDis  (None, 18, 10, 10, 128)  73856     \n",
      " tributed)                                                       \n",
      "                                                                 \n",
      " time_distributed_7 (TimeDis  (None, 18, 10, 10, 128)  147584    \n",
      " tributed)                                                       \n",
      "                                                                 \n",
      " time_distributed_8 (TimeDis  (None, 18, 5, 5, 128)    0         \n",
      " tributed)                                                       \n",
      "                                                                 \n",
      " time_distributed_9 (TimeDis  (None, 18, 5, 5, 256)    295168    \n",
      " tributed)                                                       \n",
      "                                                                 \n",
      " time_distributed_10 (TimeDi  (None, 18, 5, 5, 256)    590080    \n",
      " stributed)                                                      \n",
      "                                                                 \n",
      " time_distributed_11 (TimeDi  (None, 18, 2, 2, 256)    0         \n",
      " stributed)                                                      \n",
      "                                                                 \n",
      " time_distributed_12 (TimeDi  (None, 18, 2, 2, 512)    1180160   \n",
      " stributed)                                                      \n",
      "                                                                 \n",
      " time_distributed_13 (TimeDi  (None, 18, 2, 2, 512)    2359808   \n",
      " stributed)                                                      \n",
      "                                                                 \n",
      " time_distributed_14 (TimeDi  (None, 18, 1, 1, 512)    0         \n",
      " stributed)                                                      \n",
      "                                                                 \n",
      " time_distributed_15 (TimeDi  (None, 18, 512)          0         \n",
      " stributed)                                                      \n",
      "                                                                 \n",
      " dropout (Dropout)           (None, 18, 512)           0         \n",
      "                                                                 \n",
      " lstm (LSTM)                 (None, 18, 2048)          20979712  \n",
      "                                                                 \n",
      " lstm_1 (LSTM)               (None, 18, 1024)          12587008  \n",
      "                                                                 \n",
      " lstm_2 (LSTM)               (None, 512)               3147776   \n",
      "                                                                 \n",
      " dense (Dense)               (None, 128)               65664     \n",
      "                                                                 \n",
      " dense_1 (Dense)             (None, 5)                 645       \n",
      "                                                                 \n",
      "=================================================================\n",
      "Total params: 41,496,869\n",
      "Trainable params: 41,496,869\n",
      "Non-trainable params: 0\n",
      "_________________________________________________________________\n",
      "None\n"
     ]
    }
   ],
   "source": [
    "optimiser = Adam()\n",
    "base_model.compile(optimizer=optimiser, loss='categorical_crossentropy', metrics=['categorical_accuracy'])\n",
    "print (base_model.summary())"
   ]
  },
  {
   "cell_type": "markdown",
   "metadata": {},
   "source": [
    "Let us now fit the model. This will start training the model and with the help of the checkpoints, you'll be able to save the model at the end of each epoch."
   ]
  },
  {
   "cell_type": "code",
   "execution_count": 11,
   "metadata": {},
   "outputs": [
    {
     "name": "stdout",
     "output_type": "stream",
     "text": [
      "Source path =  /home/datasets/Project_data/train ; batch size = 16\n",
      "Epoch 1/15\n"
     ]
    },
    {
     "name": "stderr",
     "output_type": "stream",
     "text": [
      "2022-05-17 12:38:50.657364: I tensorflow/stream_executor/cuda/cuda_dnn.cc:377] Loaded cuDNN version 8302\n"
     ]
    },
    {
     "name": "stdout",
     "output_type": "stream",
     "text": [
      "42/42 [==============================] - ETA: 0s - loss: 1.8729 - categorical_accuracy: 0.2006Source path =  /home/datasets/Project_data/val ; batch size = 16\n",
      "42/42 [==============================] - 45s 917ms/step - loss: 1.8729 - categorical_accuracy: 0.2006 - val_loss: 1.6061 - val_categorical_accuracy: 0.2100 - lr: 0.0010\n",
      "Epoch 2/15\n",
      "42/42 [==============================] - 36s 869ms/step - loss: 1.6346 - categorical_accuracy: 0.1719 - val_loss: 1.6547 - val_categorical_accuracy: 0.2100 - lr: 0.0010\n",
      "Epoch 3/15\n",
      "42/42 [==============================] - ETA: 0s - loss: 1.6318 - categorical_accuracy: 0.1885\n",
      "Epoch 00003: val_loss improved from inf to 1.61395, saving model to model_init_2022-05-1712_38_34.265701/model-00003-1.63178-0.18854-1.61395-0.16000.h5\n",
      "42/42 [==============================] - 37s 911ms/step - loss: 1.6318 - categorical_accuracy: 0.1885 - val_loss: 1.6139 - val_categorical_accuracy: 0.1600 - lr: 0.0010\n",
      "Epoch 4/15\n",
      "42/42 [==============================] - 41s 995ms/step - loss: 1.6166 - categorical_accuracy: 0.1840 - val_loss: 1.6049 - val_categorical_accuracy: 0.2400 - lr: 0.0010\n",
      "Epoch 5/15\n",
      "42/42 [==============================] - 37s 907ms/step - loss: 1.6250 - categorical_accuracy: 0.1825 - val_loss: 1.6029 - val_categorical_accuracy: 0.2600 - lr: 0.0010\n",
      "Epoch 6/15\n",
      "42/42 [==============================] - ETA: 0s - loss: 1.6139 - categorical_accuracy: 0.1931\n",
      "Epoch 00006: val_loss improved from 1.61395 to 1.60957, saving model to model_init_2022-05-1712_38_34.265701/model-00006-1.61392-0.19306-1.60957-0.19000.h5\n",
      "42/42 [==============================] - 41s 994ms/step - loss: 1.6139 - categorical_accuracy: 0.1931 - val_loss: 1.6096 - val_categorical_accuracy: 0.1900 - lr: 0.0010\n",
      "Epoch 7/15\n",
      "42/42 [==============================] - 36s 875ms/step - loss: 1.6099 - categorical_accuracy: 0.1946 - val_loss: 1.6049 - val_categorical_accuracy: 0.1900 - lr: 0.0010\n",
      "Epoch 8/15\n",
      "42/42 [==============================] - 41s 1s/step - loss: 1.6118 - categorical_accuracy: 0.2066 - val_loss: 1.6070 - val_categorical_accuracy: 0.2100 - lr: 0.0010\n",
      "Epoch 9/15\n",
      "42/42 [==============================] - ETA: 0s - loss: 1.6100 - categorical_accuracy: 0.1961\n",
      "Epoch 00009: val_loss improved from 1.60957 to 1.60708, saving model to model_init_2022-05-1712_38_34.265701/model-00009-1.61001-0.19608-1.60708-0.19000.h5\n",
      "\n",
      "Epoch 00009: ReduceLROnPlateau reducing learning rate to 0.00020000000949949026.\n",
      "42/42 [==============================] - 36s 886ms/step - loss: 1.6100 - categorical_accuracy: 0.1961 - val_loss: 1.6071 - val_categorical_accuracy: 0.1900 - lr: 0.0010\n",
      "Epoch 10/15\n",
      "42/42 [==============================] - 36s 886ms/step - loss: 1.6096 - categorical_accuracy: 0.1976 - val_loss: 1.6063 - val_categorical_accuracy: 0.1800 - lr: 2.0000e-04\n",
      "Epoch 11/15\n",
      "42/42 [==============================] - 36s 874ms/step - loss: 1.6090 - categorical_accuracy: 0.1961 - val_loss: 1.6094 - val_categorical_accuracy: 0.2300 - lr: 2.0000e-04\n",
      "Epoch 12/15\n",
      "42/42 [==============================] - ETA: 0s - loss: 1.6092 - categorical_accuracy: 0.1840\n",
      "Epoch 00012: val_loss improved from 1.60708 to 1.60435, saving model to model_init_2022-05-1712_38_34.265701/model-00012-1.60919-0.18401-1.60435-0.20000.h5\n",
      "42/42 [==============================] - 37s 913ms/step - loss: 1.6092 - categorical_accuracy: 0.1840 - val_loss: 1.6044 - val_categorical_accuracy: 0.2000 - lr: 2.0000e-04\n",
      "Epoch 13/15\n",
      "42/42 [==============================] - ETA: 0s - loss: 1.6093 - categorical_accuracy: 0.1795\n",
      "Epoch 00013: ReduceLROnPlateau reducing learning rate to 4.0000001899898055e-05.\n",
      "42/42 [==============================] - 36s 879ms/step - loss: 1.6093 - categorical_accuracy: 0.1795 - val_loss: 1.6113 - val_categorical_accuracy: 0.2200 - lr: 2.0000e-04\n",
      "Epoch 14/15\n",
      "42/42 [==============================] - 35s 861ms/step - loss: 1.6087 - categorical_accuracy: 0.2112 - val_loss: 1.6048 - val_categorical_accuracy: 0.2600 - lr: 4.0000e-05\n",
      "Epoch 15/15\n",
      "42/42 [==============================] - ETA: 0s - loss: 1.6088 - categorical_accuracy: 0.2066\n",
      "Epoch 00015: val_loss did not improve from 1.60435\n",
      "42/42 [==============================] - 36s 877ms/step - loss: 1.6088 - categorical_accuracy: 0.2066 - val_loss: 1.6071 - val_categorical_accuracy: 0.1800 - lr: 4.0000e-05\n"
     ]
    }
   ],
   "source": [
    "history = base_model.fit(train_generator, steps_per_epoch=steps_per_epoch, epochs=num_epochs, verbose=1, \n",
    "                    callbacks=callbacks_list, validation_data=val_generator, \n",
    "                    validation_steps=validation_steps, class_weight=None, workers=1, initial_epoch=0)"
   ]
  },
  {
   "cell_type": "code",
   "execution_count": 12,
   "metadata": {},
   "outputs": [
    {
     "data": {
      "image/png": "[encoded data removed]",
      "text/plain": [
       "<Figure size 432x288 with 1 Axes>"
      ]
     },
     "metadata": {
      "needs_background": "light"
     },
     "output_type": "display_data"
    },
    {
     "data": {
      "image/png": "[encoded data removed]",
      "text/plain": [
       "<Figure size 432x288 with 1 Axes>"
      ]
     },
     "metadata": {
      "needs_background": "light"
     },
     "output_type": "display_data"
    }
   ],
   "source": [
    "# summarize history for accuracy\n",
    "plt.plot(history.history['categorical_accuracy'])\n",
    "plt.plot(history.history['val_categorical_accuracy'])\n",
    "plt.title('Base CNN_LSTM Model (without Transfer Learning) accuracy')\n",
    "plt.ylabel('Categorical accuracy')\n",
    "plt.xlabel('epoch')\n",
    "plt.legend(['train', 'test'], loc='upper left')\n",
    "plt.show()\n",
    "# summarize history for loss\n",
    "plt.plot(history.history['loss'])\n",
    "plt.plot(history.history['val_loss'])\n",
    "plt.title('model loss')\n",
    "plt.ylabel('loss')\n",
    "plt.xlabel('epoch')\n",
    "plt.legend(['train', 'test'], loc='upper left')\n",
    "plt.show()"
   ]
  },
  {
   "cell_type": "code",
   "execution_count": 13,
   "metadata": {},
   "outputs": [],
   "source": [
    "# Commenting out this model as I only want to run 3D CNN for now //remember to uncomment\n",
    "\n",
    "video = Input(shape=(18,\n",
    "                     84,\n",
    "                     84,\n",
    "                     3))\n",
    "cnn_base = ResNet50(input_shape=(84,\n",
    "                              84,\n",
    "                              3),\n",
    "                 weights=\"imagenet\",\n",
    "                 include_top=False)\n",
    "\n",
    "##Commented below after suggestion from Harshul\n",
    "cnn_out = GlobalAveragePooling2D()(cnn_base.output)\n",
    "cnn = Model(cnn_base.input,cnn_out)\n",
    "\n",
    "\n",
    "#cnn.trainable = False\n",
    "split_at = 140\n",
    "for layer in cnn.layers[:split_at]: layer.trainable = False\n",
    "for layer in cnn.layers[split_at:]: layer.trainable = True\n",
    "\n",
    "\n",
    "encoded_frames = TimeDistributed(cnn)(video)\n",
    "##Added below after suggestion from Harshul\n",
    "\n",
    "#cnn.add(TimeDistributed(BatchNormalization()))\n",
    "#cnn.add(TimeDistributed(MaxPooling2D((2, 2))))\n",
    "encoded_frames1 = TimeDistributed(Flatten())(encoded_frames)\n",
    "##########\n",
    "encoded_sequence = LSTM(4028, return_sequences=True)(encoded_frames1)\n",
    "encoded_sequence1 = LSTM(2024,return_sequences=True)(encoded_sequence)\n",
    "encoded_sequence2 = LSTM(1012)(encoded_sequence1)\n",
    "hidden_layer = Dense(units=1024, activation=\"relu\")(encoded_sequence2)\n",
    "outputs = Dense(units=5, activation=\"softmax\")(hidden_layer)\n",
    "tl_cnn_lstm = Model([video], outputs)\n"
   ]
  },
  {
   "cell_type": "code",
   "execution_count": 14,
   "metadata": {},
   "outputs": [
    {
     "name": "stdout",
     "output_type": "stream",
     "text": [
      "Model: \"model_1\"\n",
      "_________________________________________________________________\n",
      " Layer (type)                Output Shape              Param #   \n",
      "=================================================================\n",
      " input_1 (InputLayer)        [(None, 18, 84, 84, 3)]   0         \n",
      "                                                                 \n",
      " time_distributed_16 (TimeDi  (None, 18, 2048)         23587712  \n",
      " stributed)                                                      \n",
      "                                                                 \n",
      " time_distributed_17 (TimeDi  (None, 18, 2048)         0         \n",
      " stributed)                                                      \n",
      "                                                                 \n",
      " lstm_3 (LSTM)               (None, 18, 4028)          97912624  \n",
      "                                                                 \n",
      " lstm_4 (LSTM)               (None, 18, 2024)          49005088  \n",
      "                                                                 \n",
      " lstm_5 (LSTM)               (None, 1012)              12293776  \n",
      "                                                                 \n",
      " dense_2 (Dense)             (None, 1024)              1037312   \n",
      "                                                                 \n",
      " dense_3 (Dense)             (None, 5)                 5125      \n",
      "                                                                 \n",
      "=================================================================\n",
      "Total params: 183,841,637\n",
      "Trainable params: 175,231,973\n",
      "Non-trainable params: 8,609,664\n",
      "_________________________________________________________________\n",
      "None\n"
     ]
    }
   ],
   "source": [
    "optimiser = Adam()                 \n",
    "tl_cnn_lstm.compile(optimizer=optimiser, loss='categorical_crossentropy', metrics=['categorical_accuracy'])\n",
    "print (tl_cnn_lstm.summary())"
   ]
  },
  {
   "cell_type": "code",
   "execution_count": 15,
   "metadata": {},
   "outputs": [
    {
     "name": "stdout",
     "output_type": "stream",
     "text": [
      "Epoch 1/15\n",
      "42/42 [==============================] - 49s 970ms/step - loss: 1.8034 - categorical_accuracy: 0.2187 - val_loss: 1.6384 - val_categorical_accuracy: 0.2400 - lr: 0.0010\n",
      "Epoch 2/15\n",
      "42/42 [==============================] - 38s 921ms/step - loss: 1.6384 - categorical_accuracy: 0.1976 - val_loss: 1.6308 - val_categorical_accuracy: 0.1500 - lr: 0.0010\n",
      "Epoch 3/15\n",
      "42/42 [==============================] - ETA: 0s - loss: 1.5267 - categorical_accuracy: 0.3002\n",
      "Epoch 00003: val_loss improved from 1.60435 to 1.42413, saving model to model_init_2022-05-1712_38_34.265701/model-00003-1.52670-0.30015-1.42413-0.37000.h5\n",
      "42/42 [==============================] - 38s 915ms/step - loss: 1.5267 - categorical_accuracy: 0.3002 - val_loss: 1.4241 - val_categorical_accuracy: 0.3700 - lr: 0.0010\n",
      "Epoch 4/15\n",
      "42/42 [==============================] - 37s 888ms/step - loss: 1.4839 - categorical_accuracy: 0.3439 - val_loss: 1.4327 - val_categorical_accuracy: 0.3500 - lr: 0.0010\n",
      "Epoch 5/15\n",
      "42/42 [==============================] - 39s 936ms/step - loss: 1.4392 - categorical_accuracy: 0.3394 - val_loss: 1.3313 - val_categorical_accuracy: 0.3500 - lr: 0.0010\n",
      "Epoch 6/15\n",
      "42/42 [==============================] - ETA: 0s - loss: 1.2906 - categorical_accuracy: 0.3801\n",
      "Epoch 00006: val_loss improved from 1.42413 to 1.18161, saving model to model_init_2022-05-1712_38_34.265701/model-00006-1.29061-0.38009-1.18161-0.44000.h5\n",
      "42/42 [==============================] - 38s 913ms/step - loss: 1.2906 - categorical_accuracy: 0.3801 - val_loss: 1.1816 - val_categorical_accuracy: 0.4400 - lr: 0.0010\n",
      "Epoch 7/15\n",
      "42/42 [==============================] - 37s 897ms/step - loss: 1.1409 - categorical_accuracy: 0.4646 - val_loss: 1.2224 - val_categorical_accuracy: 0.3800 - lr: 0.0010\n",
      "Epoch 8/15\n",
      "42/42 [==============================] - 36s 881ms/step - loss: 1.1288 - categorical_accuracy: 0.5113 - val_loss: 1.2621 - val_categorical_accuracy: 0.4500 - lr: 0.0010\n",
      "Epoch 9/15\n",
      "42/42 [==============================] - ETA: 0s - loss: 0.9632 - categorical_accuracy: 0.6063\n",
      "Epoch 00009: val_loss improved from 1.18161 to 1.03653, saving model to model_init_2022-05-1712_38_34.265701/model-00009-0.96317-0.60633-1.03653-0.62000.h5\n",
      "42/42 [==============================] - 39s 937ms/step - loss: 0.9632 - categorical_accuracy: 0.6063 - val_loss: 1.0365 - val_categorical_accuracy: 0.6200 - lr: 0.0010\n",
      "Epoch 10/15\n",
      "42/42 [==============================] - 37s 904ms/step - loss: 0.7720 - categorical_accuracy: 0.6712 - val_loss: 0.7715 - val_categorical_accuracy: 0.7000 - lr: 0.0010\n",
      "Epoch 11/15\n",
      "42/42 [==============================] - 36s 868ms/step - loss: 0.7605 - categorical_accuracy: 0.6787 - val_loss: 0.6203 - val_categorical_accuracy: 0.7500 - lr: 0.0010\n",
      "Epoch 12/15\n",
      "42/42 [==============================] - ETA: 0s - loss: 0.6356 - categorical_accuracy: 0.7029\n",
      "Epoch 00012: val_loss did not improve from 1.03653\n",
      "42/42 [==============================] - 35s 837ms/step - loss: 0.6356 - categorical_accuracy: 0.7029 - val_loss: 1.8921 - val_categorical_accuracy: 0.5000 - lr: 0.0010\n",
      "Epoch 13/15\n",
      "42/42 [==============================] - 34s 834ms/step - loss: 0.5858 - categorical_accuracy: 0.7738 - val_loss: 1.0274 - val_categorical_accuracy: 0.7100 - lr: 0.0010\n",
      "Epoch 14/15\n",
      "42/42 [==============================] - 35s 855ms/step - loss: 0.6759 - categorical_accuracy: 0.7798 - val_loss: 0.7064 - val_categorical_accuracy: 0.7700 - lr: 0.0010\n",
      "Epoch 15/15\n",
      "42/42 [==============================] - ETA: 0s - loss: 0.7763 - categorical_accuracy: 0.7240\n",
      "Epoch 00015: val_loss improved from 1.03653 to 0.69423, saving model to model_init_2022-05-1712_38_34.265701/model-00015-0.77629-0.72398-0.69423-0.75000.h5\n",
      "\n",
      "Epoch 00015: ReduceLROnPlateau reducing learning rate to 0.00020000000949949026.\n",
      "42/42 [==============================] - 38s 909ms/step - loss: 0.7763 - categorical_accuracy: 0.7240 - val_loss: 0.6942 - val_categorical_accuracy: 0.7500 - lr: 0.0010\n"
     ]
    }
   ],
   "source": [
    "# Commenting out this model as I only want to run 3D CNN for now //remember to uncomment\n",
    "history = tl_cnn_lstm.fit(train_generator, steps_per_epoch=steps_per_epoch, epochs=num_epochs, verbose=1, \n",
    "                    callbacks=callbacks_list, validation_data=val_generator, \n",
    "                    validation_steps=validation_steps, class_weight=None, workers=1, initial_epoch=0)"
   ]
  },
  {
   "cell_type": "markdown",
   "metadata": {},
   "source": [
    "#######################"
   ]
  },
  {
   "cell_type": "code",
   "execution_count": 16,
   "metadata": {},
   "outputs": [
    {
     "data": {
      "image/png": "[encoded data removed]",
      "text/plain": [
       "<Figure size 432x288 with 1 Axes>"
      ]
     },
     "metadata": {
      "needs_background": "light"
     },
     "output_type": "display_data"
    },
    {
     "data": {
      "image/png": "[encoded data removed]",
      "text/plain": [
       "<Figure size 432x288 with 1 Axes>"
      ]
     },
     "metadata": {
      "needs_background": "light"
     },
     "output_type": "display_data"
    }
   ],
   "source": [
    "# summarize history for accuracy\n",
    "plt.plot(history.history['categorical_accuracy'])\n",
    "plt.plot(history.history['val_categorical_accuracy'])\n",
    "plt.title(' CNN_LSTM Model (ResNet50 Transfer Learning) accuracy')\n",
    "plt.ylabel('Categorical accuracy')\n",
    "plt.xlabel('epoch')\n",
    "plt.legend(['train', 'test'], loc='upper left')\n",
    "plt.show()\n",
    "# summarize history for loss\n",
    "plt.plot(history.history['loss'])\n",
    "plt.plot(history.history['val_loss'])\n",
    "plt.title('model loss')\n",
    "plt.ylabel('loss')\n",
    "plt.xlabel('epoch')\n",
    "plt.legend(['train', 'test'], loc='upper left')\n",
    "plt.show()"
   ]
  },
  {
   "cell_type": "code",
   "execution_count": 17,
   "metadata": {},
   "outputs": [],
   "source": [
    "\n",
    "#write your model here\n",
    "\n",
    "threeD_cnn_model = Sequential()\n",
    "\n",
    "threeD_cnn_model.add(Conv3D(16, (3,3,3), padding='same',input_shape=(18,84,84,3)))\n",
    "threeD_cnn_model.add(BatchNormalization())\n",
    "threeD_cnn_model.add(Activation('relu'))\n",
    "threeD_cnn_model.add(MaxPooling3D(pool_size=(2,2,2)))\n",
    "threeD_cnn_model.add(Dropout(0.3))\n",
    "\n",
    "threeD_cnn_model.add(Conv3D(32, (3,3,3), padding='same'))\n",
    "threeD_cnn_model.add(BatchNormalization())\n",
    "threeD_cnn_model.add(Activation('relu'))\n",
    "threeD_cnn_model.add(MaxPooling3D(pool_size=(2,2,2)))\n",
    "threeD_cnn_model.add(Dropout(0.3))\n",
    "\n",
    "\n",
    "threeD_cnn_model.add(Conv3D(64, (3,3,3), padding='same'))\n",
    "threeD_cnn_model.add(BatchNormalization())\n",
    "threeD_cnn_model.add(Activation('relu'))\n",
    "threeD_cnn_model.add(MaxPooling3D(pool_size=(2,2,2)))\n",
    "threeD_cnn_model.add(Dropout(0.3))\n",
    "\n",
    "\n",
    "threeD_cnn_model.add(Conv3D(128, (3,3,3), padding='same'))\n",
    "threeD_cnn_model.add(BatchNormalization())\n",
    "threeD_cnn_model.add(Activation('relu'))\n",
    "threeD_cnn_model.add(MaxPooling3D(pool_size=(2,2,2)))\n",
    "threeD_cnn_model.add(Dropout(0.3))\n",
    "\n",
    "\n",
    "threeD_cnn_model.add(Flatten())\n",
    "threeD_cnn_model.add(Dropout(0.3))\n",
    "threeD_cnn_model.add(Dense(256, activation='relu'))\n",
    "threeD_cnn_model.add(Dropout(0.2))\n",
    "threeD_cnn_model.add(Dense(5, activation='softmax'))"
   ]
  },
  {
   "cell_type": "code",
   "execution_count": 18,
   "metadata": {},
   "outputs": [
    {
     "name": "stdout",
     "output_type": "stream",
     "text": [
      "Model: \"sequential_1\"\n",
      "_________________________________________________________________\n",
      " Layer (type)                Output Shape              Param #   \n",
      "=================================================================\n",
      " conv3d (Conv3D)             (None, 18, 84, 84, 16)    1312      \n",
      "                                                                 \n",
      " batch_normalization (BatchN  (None, 18, 84, 84, 16)   64        \n",
      " ormalization)                                                   \n",
      "                                                                 \n",
      " activation (Activation)     (None, 18, 84, 84, 16)    0         \n",
      "                                                                 \n",
      " max_pooling3d (MaxPooling3D  (None, 9, 42, 42, 16)    0         \n",
      " )                                                               \n",
      "                                                                 \n",
      " dropout_1 (Dropout)         (None, 9, 42, 42, 16)     0         \n",
      "                                                                 \n",
      " conv3d_1 (Conv3D)           (None, 9, 42, 42, 32)     13856     \n",
      "                                                                 \n",
      " batch_normalization_1 (Batc  (None, 9, 42, 42, 32)    128       \n",
      " hNormalization)                                                 \n",
      "                                                                 \n",
      " activation_1 (Activation)   (None, 9, 42, 42, 32)     0         \n",
      "                                                                 \n",
      " max_pooling3d_1 (MaxPooling  (None, 4, 21, 21, 32)    0         \n",
      " 3D)                                                             \n",
      "                                                                 \n",
      " dropout_2 (Dropout)         (None, 4, 21, 21, 32)     0         \n",
      "                                                                 \n",
      " conv3d_2 (Conv3D)           (None, 4, 21, 21, 64)     55360     \n",
      "                                                                 \n",
      " batch_normalization_2 (Batc  (None, 4, 21, 21, 64)    256       \n",
      " hNormalization)                                                 \n",
      "                                                                 \n",
      " activation_2 (Activation)   (None, 4, 21, 21, 64)     0         \n",
      "                                                                 \n",
      " max_pooling3d_2 (MaxPooling  (None, 2, 10, 10, 64)    0         \n",
      " 3D)                                                             \n",
      "                                                                 \n",
      " dropout_3 (Dropout)         (None, 2, 10, 10, 64)     0         \n",
      "                                                                 \n",
      " conv3d_3 (Conv3D)           (None, 2, 10, 10, 128)    221312    \n",
      "                                                                 \n",
      " batch_normalization_3 (Batc  (None, 2, 10, 10, 128)   512       \n",
      " hNormalization)                                                 \n",
      "                                                                 \n",
      " activation_3 (Activation)   (None, 2, 10, 10, 128)    0         \n",
      "                                                                 \n",
      " max_pooling3d_3 (MaxPooling  (None, 1, 5, 5, 128)     0         \n",
      " 3D)                                                             \n",
      "                                                                 \n",
      " dropout_4 (Dropout)         (None, 1, 5, 5, 128)      0         \n",
      "                                                                 \n",
      " flatten_2 (Flatten)         (None, 3200)              0         \n",
      "                                                                 \n",
      " dropout_5 (Dropout)         (None, 3200)              0         \n",
      "                                                                 \n",
      " dense_4 (Dense)             (None, 256)               819456    \n",
      "                                                                 \n",
      " dropout_6 (Dropout)         (None, 256)               0         \n",
      "                                                                 \n",
      " dense_5 (Dense)             (None, 5)                 1285      \n",
      "                                                                 \n",
      "=================================================================\n",
      "Total params: 1,113,541\n",
      "Trainable params: 1,113,061\n",
      "Non-trainable params: 480\n",
      "_________________________________________________________________\n",
      "None\n"
     ]
    }
   ],
   "source": [
    "optimiser = Adam()\n",
    "\n",
    "threeD_cnn_model.compile(optimizer=optimiser, loss='categorical_crossentropy', metrics=['categorical_accuracy'])\n",
    "print (threeD_cnn_model.summary())"
   ]
  },
  {
   "cell_type": "code",
   "execution_count": 19,
   "metadata": {},
   "outputs": [
    {
     "name": "stdout",
     "output_type": "stream",
     "text": [
      "Epoch 1/15\n",
      "42/42 [==============================] - 36s 850ms/step - loss: 2.7678 - categorical_accuracy: 0.2790 - val_loss: 8.1020 - val_categorical_accuracy: 0.2300 - lr: 0.0010\n",
      "Epoch 2/15\n",
      "42/42 [==============================] - 34s 838ms/step - loss: 1.3848 - categorical_accuracy: 0.3725 - val_loss: 3.0414 - val_categorical_accuracy: 0.2400 - lr: 0.0010\n",
      "Epoch 3/15\n",
      "42/42 [==============================] - ETA: 0s - loss: 1.3535 - categorical_accuracy: 0.3922\n",
      "Epoch 00003: val_loss did not improve from 0.69423\n",
      "42/42 [==============================] - 35s 856ms/step - loss: 1.3535 - categorical_accuracy: 0.3922 - val_loss: 1.3145 - val_categorical_accuracy: 0.4400 - lr: 0.0010\n",
      "Epoch 4/15\n",
      "42/42 [==============================] - 39s 939ms/step - loss: 1.2627 - categorical_accuracy: 0.4449 - val_loss: 1.4009 - val_categorical_accuracy: 0.3800 - lr: 0.0010\n",
      "Epoch 5/15\n",
      "42/42 [==============================] - 34s 817ms/step - loss: 1.2260 - categorical_accuracy: 0.4600 - val_loss: 1.8655 - val_categorical_accuracy: 0.3000 - lr: 0.0010\n",
      "Epoch 6/15\n",
      "42/42 [==============================] - ETA: 0s - loss: 1.1881 - categorical_accuracy: 0.4781\n",
      "Epoch 00006: val_loss did not improve from 0.69423\n",
      "42/42 [==============================] - 34s 833ms/step - loss: 1.1881 - categorical_accuracy: 0.4781 - val_loss: 1.9116 - val_categorical_accuracy: 0.2300 - lr: 0.0010\n",
      "Epoch 7/15\n",
      "42/42 [==============================] - 35s 844ms/step - loss: 1.0858 - categorical_accuracy: 0.5294 - val_loss: 1.2680 - val_categorical_accuracy: 0.5600 - lr: 0.0010\n",
      "Epoch 8/15\n",
      "42/42 [==============================] - 34s 822ms/step - loss: 1.0354 - categorical_accuracy: 0.5566 - val_loss: 1.7516 - val_categorical_accuracy: 0.3600 - lr: 0.0010\n",
      "Epoch 9/15\n",
      "42/42 [==============================] - ETA: 0s - loss: 0.9716 - categorical_accuracy: 0.5777\n",
      "Epoch 00009: val_loss did not improve from 0.69423\n",
      "42/42 [==============================] - 34s 833ms/step - loss: 0.9716 - categorical_accuracy: 0.5777 - val_loss: 1.2474 - val_categorical_accuracy: 0.4700 - lr: 0.0010\n",
      "Epoch 10/15\n",
      "42/42 [==============================] - 33s 816ms/step - loss: 0.8196 - categorical_accuracy: 0.6682 - val_loss: 2.7283 - val_categorical_accuracy: 0.2800 - lr: 0.0010\n",
      "Epoch 11/15\n",
      "42/42 [==============================] - 35s 847ms/step - loss: 0.6825 - categorical_accuracy: 0.7210 - val_loss: 2.9807 - val_categorical_accuracy: 0.2400 - lr: 0.0010\n",
      "Epoch 12/15\n",
      "42/42 [==============================] - ETA: 0s - loss: 0.7236 - categorical_accuracy: 0.7240\n",
      "Epoch 00012: val_loss improved from 0.69423 to 0.59574, saving model to model_init_2022-05-1712_38_34.265701/model-00012-0.72364-0.72398-0.59574-0.78000.h5\n",
      "42/42 [==============================] - 34s 819ms/step - loss: 0.7236 - categorical_accuracy: 0.7240 - val_loss: 0.5957 - val_categorical_accuracy: 0.7800 - lr: 0.0010\n",
      "Epoch 13/15\n",
      "42/42 [==============================] - 34s 834ms/step - loss: 0.5979 - categorical_accuracy: 0.7511 - val_loss: 2.0816 - val_categorical_accuracy: 0.3400 - lr: 0.0010\n",
      "Epoch 14/15\n",
      "42/42 [==============================] - 34s 824ms/step - loss: 0.4998 - categorical_accuracy: 0.7934 - val_loss: 0.6875 - val_categorical_accuracy: 0.7300 - lr: 0.0010\n",
      "Epoch 15/15\n",
      "42/42 [==============================] - ETA: 0s - loss: 0.5117 - categorical_accuracy: 0.8130\n",
      "Epoch 00015: val_loss did not improve from 0.59574\n",
      "42/42 [==============================] - 34s 833ms/step - loss: 0.5117 - categorical_accuracy: 0.8130 - val_loss: 0.7858 - val_categorical_accuracy: 0.7300 - lr: 0.0010\n"
     ]
    }
   ],
   "source": [
    "history = threeD_cnn_model.fit(train_generator, steps_per_epoch=steps_per_epoch, epochs=num_epochs, verbose=1, \n",
    "                    callbacks=callbacks_list, validation_data=val_generator, \n",
    "                    validation_steps=validation_steps, class_weight=None, workers=1, initial_epoch=0)"
   ]
  },
  {
   "cell_type": "code",
   "execution_count": 20,
   "metadata": {},
   "outputs": [
    {
     "data": {
      "image/png": "[encoded data removed]",
      "text/plain": [
       "<Figure size 432x288 with 1 Axes>"
      ]
     },
     "metadata": {
      "needs_background": "light"
     },
     "output_type": "display_data"
    },
    {
     "data": {
      "image/png": "[encoded data removed]",
      "text/plain": [
       "<Figure size 432x288 with 1 Axes>"
      ]
     },
     "metadata": {
      "needs_background": "light"
     },
     "output_type": "display_data"
    }
   ],
   "source": [
    "plt.plot(history.history['categorical_accuracy'])\n",
    "plt.plot(history.history['val_categorical_accuracy'])\n",
    "plt.title('3D CNN model accuracy')\n",
    "plt.ylabel('accuracy')\n",
    "plt.xlabel('epoch')\n",
    "plt.legend(['train', 'test'], loc='upper left')\n",
    "plt.show()\n",
    "# summarize history for loss\n",
    "plt.plot(history.history['loss'])\n",
    "plt.plot(history.history['val_loss'])\n",
    "plt.title('model loss')\n",
    "plt.ylabel('loss')\n",
    "plt.xlabel('epoch')\n",
    "plt.legend(['train', 'test'], loc='upper left')\n",
    "plt.show()"
   ]
  },
  {
   "cell_type": "code",
   "execution_count": null,
   "metadata": {},
   "outputs": [],
   "source": []
  }
 ],
 "metadata": {
  "kernelspec": {
   "display_name": "Python 3",
   "language": "python",
   "name": "python3"
  },
  "language_info": {
   "codemirror_mode": {
    "name": "ipython",
    "version": 3
   },
   "file_extension": ".py",
   "mimetype": "text/x-python",
   "name": "python",
   "nbconvert_exporter": "python",
   "pygments_lexer": "ipython3",
   "version": "3.6.10"
  }
 },
 "nbformat": 4,
 "nbformat_minor": 4
}
