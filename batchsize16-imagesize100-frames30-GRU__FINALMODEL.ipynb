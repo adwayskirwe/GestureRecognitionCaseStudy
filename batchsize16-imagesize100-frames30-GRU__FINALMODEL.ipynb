{
 "cells": [
  {
   "cell_type": "markdown",
   "metadata": {},
   "source": [
    "# Gesture Recognition\n",
    "In this group project, you are going to build a 3D Conv model that will be able to predict the 5 gestures correctly. Please import the following libraries to get started. Once you have completed the code you can download the notebook for making a submission."
   ]
  },
  {
   "cell_type": "code",
   "execution_count": 1,
   "metadata": {},
   "outputs": [],
   "source": [
    "import numpy as np\n",
    "import matplotlib.pyplot as plt\n",
    "import seaborn as sns\n",
    "import os\n",
    "from imageio import imread\n",
    "from skimage.transform import resize\n",
    "import datetime\n",
    "import os\n",
    "import cv2\n",
    "from tensorflow.keras.models import Sequential,Model\n",
    "from tensorflow.keras.layers import Dense, GRU, Dropout, Flatten, BatchNormalization, Activation, Conv3D, MaxPooling3D, TimeDistributed,Conv2D,MaxPooling2D,LSTM, Input,GlobalAveragePooling2D\n",
    "from tensorflow.keras.callbacks import ModelCheckpoint, ReduceLROnPlateau, EarlyStopping\n",
    "from tensorflow.keras import optimizers\n",
    "from tensorflow.keras.applications import ResNet50\n",
    "from keras.applications.vgg16 import VGG16\n",
    "from tensorflow.keras.optimizers import Nadam, Adam, SGD"
   ]
  },
  {
   "cell_type": "markdown",
   "metadata": {},
   "source": [
    "We set the random seed so that the results don't vary drastically."
   ]
  },
  {
   "cell_type": "code",
   "execution_count": 2,
   "metadata": {},
   "outputs": [],
   "source": [
    "np.random.seed(30)\n",
    "import random as rn\n",
    "rn.seed(30)\n",
    "from tensorflow import keras\n",
    "import tensorflow as tf\n",
    "tf.random.set_seed(30)"
   ]
  },
  {
   "cell_type": "markdown",
   "metadata": {},
   "source": [
    "In this block, you read the folder names for training and validation. You also set the `batch_size` here. Note that you set the batch size in such a way that you are able to use the GPU in full capacity. You keep increasing the batch size until the machine throws an error."
   ]
  },
  {
   "cell_type": "markdown",
   "metadata": {},
   "source": [
    "**data path: /home/datasets/Project_data**"
   ]
  },
  {
   "cell_type": "code",
   "execution_count": 3,
   "metadata": {},
   "outputs": [],
   "source": [
    "train_doc = np.random.permutation(open('/home/datasets/Project_data/train.csv').readlines())\n",
    "val_doc = np.random.permutation(open('/home/datasets/Project_data/val.csv').readlines())\n",
    "batch_size = 16"
   ]
  },
  {
   "cell_type": "markdown",
   "metadata": {},
   "source": [
    "## Generator\n",
    "This is one of the most important part of the code. The overall structure of the generator has been given. In the generator, you are going to preprocess the images as you have images of 2 different dimensions as well as create a batch of video frames. You have to experiment with `img_idx`, `y`,`z` and normalization such that you get high accuracy."
   ]
  },
  {
   "cell_type": "code",
   "execution_count": 4,
   "metadata": {},
   "outputs": [],
   "source": [
    "def generator(source_path, folder_list, batch_size):\n",
    "    print( 'Source path = ', source_path, '; batch size =', batch_size)\n",
    "    img_idx = [0,1,2,3,4,5,6,7,8,9,10,11,12,13,14,15,16,17,18,19,20,21,22,23,24,25,26,27,28,29]\n",
    "    while True:\n",
    "        t = np.random.permutation(folder_list)\n",
    "        num_batches = int(len(t)/batch_size)\n",
    "        for batch in range(num_batches):\n",
    "            batch_data = np.zeros((batch_size,30,100,100,3))\n",
    "            batch_labels = np.zeros((batch_size,5))\n",
    "            for folder in range(batch_size):\n",
    "                imgs = os.listdir(source_path+'/'+ t[folder + (batch*batch_size)].split(';')[0])\n",
    "                for idx,item in enumerate(img_idx):\n",
    "                    image = imread(source_path+'/'+ t[folder + (batch*batch_size)].strip().split(';')[0]+'/'+imgs[item]).astype(np.float32)\n",
    "                    if image.shape[1] == 160:\n",
    "                        image = cv2.resize(image[:,20:140,:],(100,100)).astype(np.float32)\n",
    "                    else:\n",
    "                        image = cv2.resize(image,(100,100)).astype(np.float32)\n",
    "                    \n",
    "                    batch_data[folder,idx,:,:,0] = image[:,:,0]-104\n",
    "                    batch_data[folder,idx,:,:,1] = image[:,:,1]-117\n",
    "                    batch_data[folder,idx,:,:,2] = image[:,:,2]-123\n",
    "                    \n",
    "                batch_labels[folder, int(t[folder + (batch*batch_size)].strip().split(';')[2])] = 1\n",
    "            yield batch_data, batch_labels\n",
    "\n",
    "        if (len(t)%batch_size) != 0:\n",
    "            batch_data = np.zeros((len(t)%batch_size,30,100,100,3))\n",
    "            batch_labels = np.zeros((len(t)%batch_size,5))\n",
    "            for folder in range(len(t)%batch_size):\n",
    "                imgs = os.listdir(source_path+'/'+ t[folder + (num_batches*batch_size)].split(';')[0])\n",
    "                for idx,item in enumerate(img_idx):\n",
    "                    image = imread(source_path+'/'+ t[folder + (num_batches*batch_size)].strip().split(';')[0]+'/'+imgs[item]).astype(np.float32)\n",
    "                    if image.shape[1] == 160:\n",
    "                        image = cv2.resize(image[:,20:140,:],(100,100)).astype(np.float32)\n",
    "                    else:\n",
    "                        image = cv2.resize(image,(100,100)).astype(np.float32)\n",
    "\n",
    "                    batch_data[folder,idx,:,:,0] = image[:,:,0]-104\n",
    "                    batch_data[folder,idx,:,:,1] = image[:,:,1]-117\n",
    "                    batch_data[folder,idx,:,:,2] = image[:,:,2]-123\n",
    "\n",
    "                batch_labels[folder, int(t[folder + (num_batches*batch_size)].strip().split(';')[2])] = 1\n",
    "\n",
    "            yield batch_data, batch_labels"
   ]
  },
  {
   "cell_type": "markdown",
   "metadata": {},
   "source": [
    "Note here that a video is represented above in the generator as (number of images, height, width, number of channels). Take this into consideration while creating the model architecture."
   ]
  },
  {
   "cell_type": "code",
   "execution_count": 5,
   "metadata": {},
   "outputs": [
    {
     "name": "stdout",
     "output_type": "stream",
     "text": [
      "# training sequences = 663\n",
      "# validation sequences = 100\n",
      "# epochs = 20\n"
     ]
    }
   ],
   "source": [
    "curr_dt_time = datetime.datetime.now()\n",
    "train_path = '/home/datasets/Project_data/train'\n",
    "val_path = '/home/datasets/Project_data/val'\n",
    "num_train_sequences = len(train_doc)\n",
    "print('# training sequences =', num_train_sequences)\n",
    "num_val_sequences = len(val_doc)\n",
    "print('# validation sequences =', num_val_sequences)\n",
    "num_epochs = 20\n",
    "print ('# epochs =', num_epochs)"
   ]
  },
  {
   "cell_type": "markdown",
   "metadata": {},
   "source": [
    "Let us create the `train_generator` and the `val_generator` which will be used in `.fit_generator`."
   ]
  },
  {
   "cell_type": "code",
   "execution_count": 6,
   "metadata": {},
   "outputs": [],
   "source": [
    "train_generator = generator(train_path, train_doc, batch_size)\n",
    "val_generator = generator(val_path, val_doc, batch_size)"
   ]
  },
  {
   "cell_type": "code",
   "execution_count": 7,
   "metadata": {},
   "outputs": [
    {
     "name": "stdout",
     "output_type": "stream",
     "text": [
      "WARNING:tensorflow:`period` argument is deprecated. Please use `save_freq` to specify the frequency in number of batches seen.\n"
     ]
    }
   ],
   "source": [
    "model_name = 'model_init' + '_' + str(curr_dt_time).replace(' ','').replace(':','_') + '/'\n",
    "    \n",
    "if not os.path.exists(model_name):\n",
    "    os.mkdir(model_name)\n",
    "        \n",
    "filepath = model_name + 'model-{epoch:05d}-{loss:.5f}-{categorical_accuracy:.5f}-{val_loss:.5f}-{val_categorical_accuracy:.5f}.h5'\n",
    "#filepath = model_name + 'model.h5'\n",
    "\n",
    "checkpoint = ModelCheckpoint(filepath, monitor='val_loss', verbose=1, save_best_only=True, save_weights_only=True, mode='auto',period=3)\n",
    "\n",
    "LR = ReduceLROnPlateau(monitor='val_loss', factor=0.2, verbose=1, patience=4)\n",
    "\n",
    "es = EarlyStopping(patience=10, restore_best_weights=True)\n",
    "\n",
    "callbacks_list = [checkpoint, LR, es]"
   ]
  },
  {
   "cell_type": "markdown",
   "metadata": {},
   "source": [
    "The `steps_per_epoch` and `validation_steps` are used by `fit` method to decide the number of next() calls it need to make."
   ]
  },
  {
   "cell_type": "code",
   "execution_count": 8,
   "metadata": {},
   "outputs": [],
   "source": [
    "if (num_train_sequences%batch_size) == 0:\n",
    "    steps_per_epoch = int(num_train_sequences/batch_size)\n",
    "else:\n",
    "    steps_per_epoch = (num_train_sequences//batch_size) + 1\n",
    "\n",
    "if (num_val_sequences%batch_size) == 0:\n",
    "    validation_steps = int(num_val_sequences/batch_size)\n",
    "else:\n",
    "    validation_steps = (num_val_sequences//batch_size) + 1"
   ]
  },
  {
   "cell_type": "markdown",
   "metadata": {},
   "source": [
    "## Model\n",
    "Here you make the model using different functionalities that Keras provides. Remember to use `Conv3D` and `MaxPooling3D` and not `Conv2D` and `Maxpooling2D` for a 3D convolution model. You would want to use `TimeDistributed` while building a Conv2D + RNN model. Also remember that the last layer is the softmax. Design the network in such a way that the model is able to give good accuracy on the least number of parameters so that it can fit in the memory of the webcam."
   ]
  },
  {
   "cell_type": "code",
   "execution_count": 9,
   "metadata": {},
   "outputs": [
    {
     "data": {
      "text/plain": [
       "'\\nbase_model = Sequential()\\nbase_model.add(TimeDistributed(Conv2D(32, (7, 7), strides=(2, 2), activation=\\'relu\\', padding=\\'same\\'), input_shape=(18,84,84,3)))\\nbase_model.add(TimeDistributed(Conv2D(32, (3,3), kernel_initializer=\"he_normal\", activation=\\'relu\\')))\\nbase_model.add(TimeDistributed(MaxPooling2D((2, 2), strides=(2, 2))))\\n \\nbase_model.add(TimeDistributed(Conv2D(64, (3,3), padding=\\'same\\', activation=\\'relu\\')))\\nbase_model.add(TimeDistributed(Conv2D(64, (3,3), padding=\\'same\\', activation=\\'relu\\')))\\nbase_model.add(TimeDistributed(MaxPooling2D((2, 2), strides=(2, 2))))\\n \\nbase_model.add(TimeDistributed(Conv2D(128, (3,3), padding=\\'same\\', activation=\\'relu\\')))\\nbase_model.add(TimeDistributed(Conv2D(128, (3,3), padding=\\'same\\', activation=\\'relu\\')))\\nbase_model.add(TimeDistributed(MaxPooling2D((2, 2), strides=(2, 2))))\\n \\nbase_model.add(TimeDistributed(Conv2D(256, (3,3), padding=\\'same\\', activation=\\'relu\\')))\\nbase_model.add(TimeDistributed(Conv2D(256, (3,3), padding=\\'same\\', activation=\\'relu\\')))\\nbase_model.add(TimeDistributed(MaxPooling2D((2, 2), strides=(2, 2))))\\n \\nbase_model.add(TimeDistributed(Conv2D(512, (3,3), padding=\\'same\\', activation=\\'relu\\')))\\nbase_model.add(TimeDistributed(Conv2D(512, (3,3), padding=\\'same\\', activation=\\'relu\\')))\\nbase_model.add(TimeDistributed(MaxPooling2D((2, 2), strides=(2, 2))))\\n \\nbase_model.add(TimeDistributed(Flatten()))\\n \\nbase_model.add(Dropout(0.5))\\nbase_model.add(LSTM(2048, return_sequences=True, dropout=0.3))\\nbase_model.add(LSTM(1024, return_sequences=True, dropout=0.3))\\nbase_model.add(LSTM(512, return_sequences=False, dropout=0.3))\\nbase_model.add(Dense(128))\\nbase_model.add(Dense(5, activation=\\'softmax\\'))\\nbase_model.summary()\\n'"
      ]
     },
     "execution_count": 9,
     "metadata": {},
     "output_type": "execute_result"
    }
   ],
   "source": [
    "## This model gave about 20% accuracy after 7 epochs using below architecture (No Transfer Learning)\n",
    "'''\n",
    "base_model = Sequential()\n",
    "base_model.add(TimeDistributed(Conv2D(32, (7, 7), strides=(2, 2), activation='relu', padding='same'), input_shape=(18,84,84,3)))\n",
    "base_model.add(TimeDistributed(Conv2D(32, (3,3), kernel_initializer=\"he_normal\", activation='relu')))\n",
    "base_model.add(TimeDistributed(MaxPooling2D((2, 2), strides=(2, 2))))\n",
    " \n",
    "base_model.add(TimeDistributed(Conv2D(64, (3,3), padding='same', activation='relu')))\n",
    "base_model.add(TimeDistributed(Conv2D(64, (3,3), padding='same', activation='relu')))\n",
    "base_model.add(TimeDistributed(MaxPooling2D((2, 2), strides=(2, 2))))\n",
    " \n",
    "base_model.add(TimeDistributed(Conv2D(128, (3,3), padding='same', activation='relu')))\n",
    "base_model.add(TimeDistributed(Conv2D(128, (3,3), padding='same', activation='relu')))\n",
    "base_model.add(TimeDistributed(MaxPooling2D((2, 2), strides=(2, 2))))\n",
    " \n",
    "base_model.add(TimeDistributed(Conv2D(256, (3,3), padding='same', activation='relu')))\n",
    "base_model.add(TimeDistributed(Conv2D(256, (3,3), padding='same', activation='relu')))\n",
    "base_model.add(TimeDistributed(MaxPooling2D((2, 2), strides=(2, 2))))\n",
    " \n",
    "base_model.add(TimeDistributed(Conv2D(512, (3,3), padding='same', activation='relu')))\n",
    "base_model.add(TimeDistributed(Conv2D(512, (3,3), padding='same', activation='relu')))\n",
    "base_model.add(TimeDistributed(MaxPooling2D((2, 2), strides=(2, 2))))\n",
    " \n",
    "base_model.add(TimeDistributed(Flatten()))\n",
    " \n",
    "base_model.add(Dropout(0.5))\n",
    "base_model.add(LSTM(2048, return_sequences=True, dropout=0.3))\n",
    "base_model.add(LSTM(1024, return_sequences=True, dropout=0.3))\n",
    "base_model.add(LSTM(512, return_sequences=False, dropout=0.3))\n",
    "base_model.add(Dense(128))\n",
    "base_model.add(Dense(5, activation='softmax'))\n",
    "base_model.summary()\n",
    "'''"
   ]
  },
  {
   "cell_type": "markdown",
   "metadata": {},
   "source": [
    "Now that you have written the model, the next step is to `compile` the model. When you print the `summary` of the model, you'll see the total number of parameters you have to train."
   ]
  },
  {
   "cell_type": "code",
   "execution_count": 10,
   "metadata": {},
   "outputs": [
    {
     "data": {
      "text/plain": [
       "\"\\noptimiser = Adam()\\nbase_model.compile(optimizer=optimiser, loss='categorical_crossentropy', metrics=['categorical_accuracy'])\\nprint (base_model.summary())\\n\""
      ]
     },
     "execution_count": 10,
     "metadata": {},
     "output_type": "execute_result"
    }
   ],
   "source": [
    "'''\n",
    "optimiser = Adam()\n",
    "base_model.compile(optimizer=optimiser, loss='categorical_crossentropy', metrics=['categorical_accuracy'])\n",
    "print (base_model.summary())\n",
    "'''"
   ]
  },
  {
   "cell_type": "markdown",
   "metadata": {},
   "source": [
    "Let us now fit the model. This will start training the model and with the help of the checkpoints, you'll be able to save the model at the end of each epoch."
   ]
  },
  {
   "cell_type": "code",
   "execution_count": 11,
   "metadata": {},
   "outputs": [
    {
     "data": {
      "text/plain": [
       "'\\nhistory = base_model.fit(train_generator, steps_per_epoch=steps_per_epoch, epochs=num_epochs, verbose=1, \\n                    callbacks=callbacks_list, validation_data=val_generator, \\n                    validation_steps=validation_steps, class_weight=None, workers=1, initial_epoch=0)\\n'"
      ]
     },
     "execution_count": 11,
     "metadata": {},
     "output_type": "execute_result"
    }
   ],
   "source": [
    "'''\n",
    "history = base_model.fit(train_generator, steps_per_epoch=steps_per_epoch, epochs=num_epochs, verbose=1, \n",
    "                    callbacks=callbacks_list, validation_data=val_generator, \n",
    "                    validation_steps=validation_steps, class_weight=None, workers=1, initial_epoch=0)\n",
    "'''"
   ]
  },
  {
   "cell_type": "code",
   "execution_count": 12,
   "metadata": {},
   "outputs": [
    {
     "data": {
      "text/plain": [
       "\"\\n# summarize history for accuracy\\nplt.plot(history.history['categorical_accuracy'])\\nplt.plot(history.history['val_categorical_accuracy'])\\nplt.title('Base CNN_LSTM Model (without Transfer Learning) accuracy')\\nplt.ylabel('Categorical accuracy')\\nplt.xlabel('epoch')\\nplt.legend(['train', 'test'], loc='upper left')\\nplt.show()\\n# summarize history for loss\\nplt.plot(history.history['loss'])\\nplt.plot(history.history['val_loss'])\\nplt.title('model loss')\\nplt.ylabel('loss')\\nplt.xlabel('epoch')\\nplt.legend(['train', 'test'], loc='upper left')\\nplt.show()\\n\""
      ]
     },
     "execution_count": 12,
     "metadata": {},
     "output_type": "execute_result"
    }
   ],
   "source": [
    "'''\n",
    "# summarize history for accuracy\n",
    "plt.plot(history.history['categorical_accuracy'])\n",
    "plt.plot(history.history['val_categorical_accuracy'])\n",
    "plt.title('Base CNN_LSTM Model (without Transfer Learning) accuracy')\n",
    "plt.ylabel('Categorical accuracy')\n",
    "plt.xlabel('epoch')\n",
    "plt.legend(['train', 'test'], loc='upper left')\n",
    "plt.show()\n",
    "# summarize history for loss\n",
    "plt.plot(history.history['loss'])\n",
    "plt.plot(history.history['val_loss'])\n",
    "plt.title('model loss')\n",
    "plt.ylabel('loss')\n",
    "plt.xlabel('epoch')\n",
    "plt.legend(['train', 'test'], loc='upper left')\n",
    "plt.show()\n",
    "'''"
   ]
  },
  {
   "cell_type": "code",
   "execution_count": 13,
   "metadata": {},
   "outputs": [
    {
     "name": "stderr",
     "output_type": "stream",
     "text": [
      "2022-05-18 03:55:00.122597: W tensorflow/core/common_runtime/gpu/gpu_bfc_allocator.cc:39] Overriding allow_growth setting because the TF_FORCE_GPU_ALLOW_GROWTH environment variable is set. Original config value was 0.\n",
      "2022-05-18 03:55:00.122658: I tensorflow/core/common_runtime/gpu/gpu_device.cc:1525] Created device /job:localhost/replica:0/task:0/device:GPU:0 with 14803 MB memory:  -> device: 0, name: Quadro RTX 5000, pci bus id: 0000:1e:00.0, compute capability: 7.5\n"
     ]
    }
   ],
   "source": [
    "# Commenting out this model as I only want to run 3D CNN for now //remember to uncomment\n",
    "\n",
    "video = Input(shape=(30,\n",
    "                     100,\n",
    "                     100,\n",
    "                     3))\n",
    "cnn_base = ResNet50(input_shape=(100,\n",
    "                              100,\n",
    "                              3),\n",
    "                 weights=\"imagenet\",\n",
    "                 include_top=False)\n",
    "\n",
    "##Commented below after suggestion from Harshul\n",
    "cnn_out = GlobalAveragePooling2D()(cnn_base.output)\n",
    "cnn = Model(cnn_base.input,cnn_out)\n",
    "\n",
    "\n",
    "#cnn.trainable = False\n",
    "split_at = 140\n",
    "for layer in cnn.layers[:split_at]: layer.trainable = False\n",
    "for layer in cnn.layers[split_at:]: layer.trainable = True\n",
    "\n",
    "\n",
    "encoded_frames = TimeDistributed(cnn)(video)\n",
    "##Added below after suggestion from Harshul\n",
    "\n",
    "#cnn.add(TimeDistributed(BatchNormalization()))\n",
    "#cnn.add(TimeDistributed(MaxPooling2D((2, 2))))\n",
    "encoded_frames1 = TimeDistributed(Flatten())(encoded_frames)\n",
    "##########\n",
    "encoded_sequence = GRU(4028, return_sequences=True)(encoded_frames1)\n",
    "encoded_sequence1 = GRU(2024,return_sequences=True)(encoded_sequence)\n",
    "encoded_sequence2 = GRU(1012)(encoded_sequence1)\n",
    "hidden_layer = Dense(units=1024, activation=\"relu\")(encoded_sequence2)\n",
    "outputs = Dense(units=5, activation=\"softmax\")(hidden_layer)\n",
    "tl_cnn_lstm = Model([video], outputs)\n"
   ]
  },
  {
   "cell_type": "code",
   "execution_count": 14,
   "metadata": {},
   "outputs": [
    {
     "name": "stdout",
     "output_type": "stream",
     "text": [
      "Model: \"model_1\"\n",
      "_________________________________________________________________\n",
      " Layer (type)                Output Shape              Param #   \n",
      "=================================================================\n",
      " input_1 (InputLayer)        [(None, 30, 100, 100, 3)  0         \n",
      "                             ]                                   \n",
      "                                                                 \n",
      " time_distributed (TimeDistr  (None, 30, 2048)         23587712  \n",
      " ibuted)                                                         \n",
      "                                                                 \n",
      " time_distributed_1 (TimeDis  (None, 30, 2048)         0         \n",
      " tributed)                                                       \n",
      "                                                                 \n",
      " gru (GRU)                   (None, 30, 4028)          73446552  \n",
      "                                                                 \n",
      " gru_1 (GRU)                 (None, 30, 2024)          36759888  \n",
      "                                                                 \n",
      " gru_2 (GRU)                 (None, 1012)              9223368   \n",
      "                                                                 \n",
      " dense (Dense)               (None, 1024)              1037312   \n",
      "                                                                 \n",
      " dense_1 (Dense)             (None, 5)                 5125      \n",
      "                                                                 \n",
      "=================================================================\n",
      "Total params: 144,059,957\n",
      "Trainable params: 135,450,293\n",
      "Non-trainable params: 8,609,664\n",
      "_________________________________________________________________\n",
      "None\n"
     ]
    }
   ],
   "source": [
    "optimiser = Adam()                 \n",
    "tl_cnn_lstm.compile(optimizer=optimiser, loss='categorical_crossentropy', metrics=['categorical_accuracy'])\n",
    "print (tl_cnn_lstm.summary())"
   ]
  },
  {
   "cell_type": "code",
   "execution_count": 15,
   "metadata": {},
   "outputs": [
    {
     "name": "stdout",
     "output_type": "stream",
     "text": [
      "Source path =  /home/datasets/Project_data/train ; batch size = 16\n",
      "Epoch 1/20\n"
     ]
    },
    {
     "name": "stderr",
     "output_type": "stream",
     "text": [
      "2022-05-18 03:55:57.420939: I tensorflow/stream_executor/cuda/cuda_dnn.cc:377] Loaded cuDNN version 8302\n"
     ]
    },
    {
     "name": "stdout",
     "output_type": "stream",
     "text": [
      "42/42 [==============================] - ETA: 0s - loss: 2.3716 - categorical_accuracy: 0.2247Source path =  /home/datasets/Project_data/val ; batch size = 16\n",
      "42/42 [==============================] - 83s 2s/step - loss: 2.3716 - categorical_accuracy: 0.2247 - val_loss: 1.8257 - val_categorical_accuracy: 0.2300 - lr: 0.0010\n",
      "Epoch 2/20\n",
      "42/42 [==============================] - 69s 2s/step - loss: 1.5090 - categorical_accuracy: 0.3092 - val_loss: 1.1832 - val_categorical_accuracy: 0.4200 - lr: 0.0010\n",
      "Epoch 3/20\n",
      "42/42 [==============================] - ETA: 0s - loss: 1.2236 - categorical_accuracy: 0.4042\n",
      "Epoch 00003: val_loss improved from inf to 1.08352, saving model to model_init_2022-05-1803_54_57.601527/model-00003-1.22362-0.40422-1.08352-0.39000.h5\n",
      "42/42 [==============================] - 69s 2s/step - loss: 1.2236 - categorical_accuracy: 0.4042 - val_loss: 1.0835 - val_categorical_accuracy: 0.3900 - lr: 0.0010\n",
      "Epoch 4/20\n",
      "42/42 [==============================] - 67s 2s/step - loss: 0.9913 - categorical_accuracy: 0.5460 - val_loss: 1.0550 - val_categorical_accuracy: 0.6000 - lr: 0.0010\n",
      "Epoch 5/20\n",
      "42/42 [==============================] - 65s 2s/step - loss: 0.7411 - categorical_accuracy: 0.6998 - val_loss: 1.1465 - val_categorical_accuracy: 0.6400 - lr: 0.0010\n",
      "Epoch 6/20\n",
      "42/42 [==============================] - ETA: 0s - loss: 0.6652 - categorical_accuracy: 0.7466\n",
      "Epoch 00006: val_loss improved from 1.08352 to 0.96185, saving model to model_init_2022-05-1803_54_57.601527/model-00006-0.66515-0.74661-0.96185-0.66000.h5\n",
      "42/42 [==============================] - 66s 2s/step - loss: 0.6652 - categorical_accuracy: 0.7466 - val_loss: 0.9618 - val_categorical_accuracy: 0.6600 - lr: 0.0010\n",
      "Epoch 7/20\n",
      "42/42 [==============================] - 67s 2s/step - loss: 0.4510 - categorical_accuracy: 0.8160 - val_loss: 0.3137 - val_categorical_accuracy: 0.8800 - lr: 0.0010\n",
      "Epoch 8/20\n",
      "42/42 [==============================] - 65s 2s/step - loss: 0.3831 - categorical_accuracy: 0.8763 - val_loss: 0.5613 - val_categorical_accuracy: 0.8000 - lr: 0.0010\n",
      "Epoch 9/20\n",
      "42/42 [==============================] - ETA: 0s - loss: 0.4881 - categorical_accuracy: 0.8416\n",
      "Epoch 00009: val_loss improved from 0.96185 to 0.84994, saving model to model_init_2022-05-1803_54_57.601527/model-00009-0.48814-0.84163-0.84994-0.78000.h5\n",
      "42/42 [==============================] - 66s 2s/step - loss: 0.4881 - categorical_accuracy: 0.8416 - val_loss: 0.8499 - val_categorical_accuracy: 0.7800 - lr: 0.0010\n",
      "Epoch 10/20\n",
      "42/42 [==============================] - 69s 2s/step - loss: 0.2807 - categorical_accuracy: 0.9095 - val_loss: 0.4590 - val_categorical_accuracy: 0.8600 - lr: 0.0010\n",
      "Epoch 11/20\n",
      "42/42 [==============================] - ETA: 0s - loss: 0.2359 - categorical_accuracy: 0.9306\n",
      "Epoch 00011: ReduceLROnPlateau reducing learning rate to 0.00020000000949949026.\n",
      "42/42 [==============================] - 71s 2s/step - loss: 0.2359 - categorical_accuracy: 0.9306 - val_loss: 0.8931 - val_categorical_accuracy: 0.7300 - lr: 0.0010\n",
      "Epoch 12/20\n",
      "42/42 [==============================] - ETA: 0s - loss: 0.2425 - categorical_accuracy: 0.9246\n",
      "Epoch 00012: val_loss improved from 0.84994 to 0.25651, saving model to model_init_2022-05-1803_54_57.601527/model-00012-0.24248-0.92459-0.25651-0.92000.h5\n",
      "42/42 [==============================] - 69s 2s/step - loss: 0.2425 - categorical_accuracy: 0.9246 - val_loss: 0.2565 - val_categorical_accuracy: 0.9200 - lr: 2.0000e-04\n",
      "Epoch 13/20\n",
      "42/42 [==============================] - 65s 2s/step - loss: 0.1189 - categorical_accuracy: 0.9668 - val_loss: 0.3116 - val_categorical_accuracy: 0.9100 - lr: 2.0000e-04\n",
      "Epoch 14/20\n",
      "42/42 [==============================] - 65s 2s/step - loss: 0.0882 - categorical_accuracy: 0.9774 - val_loss: 0.2909 - val_categorical_accuracy: 0.9100 - lr: 2.0000e-04\n",
      "Epoch 15/20\n",
      "42/42 [==============================] - ETA: 0s - loss: 0.0855 - categorical_accuracy: 0.9789\n",
      "Epoch 00015: val_loss did not improve from 0.25651\n",
      "42/42 [==============================] - 67s 2s/step - loss: 0.0855 - categorical_accuracy: 0.9789 - val_loss: 0.2892 - val_categorical_accuracy: 0.9000 - lr: 2.0000e-04\n",
      "Epoch 16/20\n",
      "42/42 [==============================] - ETA: 0s - loss: 0.0554 - categorical_accuracy: 0.9894\n",
      "Epoch 00016: ReduceLROnPlateau reducing learning rate to 4.0000001899898055e-05.\n",
      "42/42 [==============================] - 69s 2s/step - loss: 0.0554 - categorical_accuracy: 0.9894 - val_loss: 0.2642 - val_categorical_accuracy: 0.8800 - lr: 2.0000e-04\n",
      "Epoch 17/20\n",
      "42/42 [==============================] - 65s 2s/step - loss: 0.0417 - categorical_accuracy: 0.9894 - val_loss: 0.3473 - val_categorical_accuracy: 0.8700 - lr: 4.0000e-05\n",
      "Epoch 18/20\n",
      "42/42 [==============================] - ETA: 0s - loss: 0.0439 - categorical_accuracy: 0.9894\n",
      "Epoch 00018: val_loss improved from 0.25651 to 0.19215, saving model to model_init_2022-05-1803_54_57.601527/model-00018-0.04394-0.98944-0.19215-0.93000.h5\n",
      "42/42 [==============================] - 71s 2s/step - loss: 0.0439 - categorical_accuracy: 0.9894 - val_loss: 0.1922 - val_categorical_accuracy: 0.9300 - lr: 4.0000e-05\n",
      "Epoch 19/20\n",
      "42/42 [==============================] - 67s 2s/step - loss: 0.0488 - categorical_accuracy: 0.9894 - val_loss: 0.2162 - val_categorical_accuracy: 0.9000 - lr: 4.0000e-05\n",
      "Epoch 20/20\n",
      "42/42 [==============================] - 65s 2s/step - loss: 0.0325 - categorical_accuracy: 0.9925 - val_loss: 0.2470 - val_categorical_accuracy: 0.9100 - lr: 4.0000e-05\n"
     ]
    }
   ],
   "source": [
    "# Commenting out this model as I only want to run 3D CNN for now //remember to uncomment\n",
    "history = tl_cnn_lstm.fit(train_generator, steps_per_epoch=steps_per_epoch, epochs=num_epochs, verbose=1, \n",
    "                    callbacks=callbacks_list, validation_data=val_generator, \n",
    "                    validation_steps=validation_steps, class_weight=None, workers=1, initial_epoch=0)"
   ]
  },
  {
   "cell_type": "markdown",
   "metadata": {},
   "source": [
    "#######################"
   ]
  },
  {
   "cell_type": "code",
   "execution_count": 16,
   "metadata": {},
   "outputs": [
    {
     "data": {
      "image/png": "[encoded data removed]",
      "text/plain": [
       "<Figure size 432x288 with 1 Axes>"
      ]
     },
     "metadata": {
      "needs_background": "light"
     },
     "output_type": "display_data"
    },
    {
     "data": {
      "image/png": "[encoded data removed]",
      "text/plain": [
       "<Figure size 432x288 with 1 Axes>"
      ]
     },
     "metadata": {
      "needs_background": "light"
     },
     "output_type": "display_data"
    }
   ],
   "source": [
    "# summarize history for accuracy\n",
    "plt.plot(history.history['categorical_accuracy'])\n",
    "plt.plot(history.history['val_categorical_accuracy'])\n",
    "plt.title(' CNN_LSTM Model (ResNet50 Transfer Learning) accuracy')\n",
    "plt.ylabel('Categorical accuracy')\n",
    "plt.xlabel('epoch')\n",
    "plt.legend(['train', 'test'], loc='upper left')\n",
    "plt.show()\n",
    "# summarize history for loss\n",
    "plt.plot(history.history['loss'])\n",
    "plt.plot(history.history['val_loss'])\n",
    "plt.title('model loss')\n",
    "plt.ylabel('loss')\n",
    "plt.xlabel('epoch')\n",
    "plt.legend(['train', 'test'], loc='upper left')\n",
    "plt.show()"
   ]
  },
  {
   "cell_type": "code",
   "execution_count": 17,
   "metadata": {},
   "outputs": [],
   "source": [
    "\n",
    "#write your model here\n",
    "\n",
    "threeD_cnn_model = Sequential()\n",
    "\n",
    "threeD_cnn_model.add(Conv3D(16, (3,3,3), padding='same',input_shape=(30,100,100,3)))\n",
    "threeD_cnn_model.add(BatchNormalization())\n",
    "threeD_cnn_model.add(Activation('relu'))\n",
    "threeD_cnn_model.add(MaxPooling3D(pool_size=(2,2,2)))\n",
    "threeD_cnn_model.add(Dropout(0.3))\n",
    "\n",
    "threeD_cnn_model.add(Conv3D(32, (3,3,3), padding='same'))\n",
    "threeD_cnn_model.add(BatchNormalization())\n",
    "threeD_cnn_model.add(Activation('relu'))\n",
    "threeD_cnn_model.add(MaxPooling3D(pool_size=(2,2,2)))\n",
    "threeD_cnn_model.add(Dropout(0.3))\n",
    "\n",
    "\n",
    "threeD_cnn_model.add(Conv3D(64, (3,3,3), padding='same'))\n",
    "threeD_cnn_model.add(BatchNormalization())\n",
    "threeD_cnn_model.add(Activation('relu'))\n",
    "threeD_cnn_model.add(MaxPooling3D(pool_size=(2,2,2)))\n",
    "threeD_cnn_model.add(Dropout(0.3))\n",
    "\n",
    "\n",
    "threeD_cnn_model.add(Conv3D(128, (3,3,3), padding='same'))\n",
    "threeD_cnn_model.add(BatchNormalization())\n",
    "threeD_cnn_model.add(Activation('relu'))\n",
    "threeD_cnn_model.add(MaxPooling3D(pool_size=(2,2,2)))\n",
    "threeD_cnn_model.add(Dropout(0.3))\n",
    "\n",
    "\n",
    "threeD_cnn_model.add(Flatten())\n",
    "threeD_cnn_model.add(Dropout(0.3))\n",
    "threeD_cnn_model.add(Dense(256, activation='relu'))\n",
    "threeD_cnn_model.add(Dropout(0.2))\n",
    "threeD_cnn_model.add(Dense(5, activation='softmax'))"
   ]
  },
  {
   "cell_type": "code",
   "execution_count": 18,
   "metadata": {},
   "outputs": [
    {
     "name": "stdout",
     "output_type": "stream",
     "text": [
      "Model: \"sequential\"\n",
      "_________________________________________________________________\n",
      " Layer (type)                Output Shape              Param #   \n",
      "=================================================================\n",
      " conv3d (Conv3D)             (None, 30, 100, 100, 16)  1312      \n",
      "                                                                 \n",
      " batch_normalization (BatchN  (None, 30, 100, 100, 16)  64       \n",
      " ormalization)                                                   \n",
      "                                                                 \n",
      " activation (Activation)     (None, 30, 100, 100, 16)  0         \n",
      "                                                                 \n",
      " max_pooling3d (MaxPooling3D  (None, 15, 50, 50, 16)   0         \n",
      " )                                                               \n",
      "                                                                 \n",
      " dropout (Dropout)           (None, 15, 50, 50, 16)    0         \n",
      "                                                                 \n",
      " conv3d_1 (Conv3D)           (None, 15, 50, 50, 32)    13856     \n",
      "                                                                 \n",
      " batch_normalization_1 (Batc  (None, 15, 50, 50, 32)   128       \n",
      " hNormalization)                                                 \n",
      "                                                                 \n",
      " activation_1 (Activation)   (None, 15, 50, 50, 32)    0         \n",
      "                                                                 \n",
      " max_pooling3d_1 (MaxPooling  (None, 7, 25, 25, 32)    0         \n",
      " 3D)                                                             \n",
      "                                                                 \n",
      " dropout_1 (Dropout)         (None, 7, 25, 25, 32)     0         \n",
      "                                                                 \n",
      " conv3d_2 (Conv3D)           (None, 7, 25, 25, 64)     55360     \n",
      "                                                                 \n",
      " batch_normalization_2 (Batc  (None, 7, 25, 25, 64)    256       \n",
      " hNormalization)                                                 \n",
      "                                                                 \n",
      " activation_2 (Activation)   (None, 7, 25, 25, 64)     0         \n",
      "                                                                 \n",
      " max_pooling3d_2 (MaxPooling  (None, 3, 12, 12, 64)    0         \n",
      " 3D)                                                             \n",
      "                                                                 \n",
      " dropout_2 (Dropout)         (None, 3, 12, 12, 64)     0         \n",
      "                                                                 \n",
      " conv3d_3 (Conv3D)           (None, 3, 12, 12, 128)    221312    \n",
      "                                                                 \n",
      " batch_normalization_3 (Batc  (None, 3, 12, 12, 128)   512       \n",
      " hNormalization)                                                 \n",
      "                                                                 \n",
      " activation_3 (Activation)   (None, 3, 12, 12, 128)    0         \n",
      "                                                                 \n",
      " max_pooling3d_3 (MaxPooling  (None, 1, 6, 6, 128)     0         \n",
      " 3D)                                                             \n",
      "                                                                 \n",
      " dropout_3 (Dropout)         (None, 1, 6, 6, 128)      0         \n",
      "                                                                 \n",
      " flatten_1 (Flatten)         (None, 4608)              0         \n",
      "                                                                 \n",
      " dropout_4 (Dropout)         (None, 4608)              0         \n",
      "                                                                 \n",
      " dense_2 (Dense)             (None, 256)               1179904   \n",
      "                                                                 \n",
      " dropout_5 (Dropout)         (None, 256)               0         \n",
      "                                                                 \n",
      " dense_3 (Dense)             (None, 5)                 1285      \n",
      "                                                                 \n",
      "=================================================================\n",
      "Total params: 1,473,989\n",
      "Trainable params: 1,473,509\n",
      "Non-trainable params: 480\n",
      "_________________________________________________________________\n",
      "None\n"
     ]
    }
   ],
   "source": [
    "optimiser = Adam()\n",
    "\n",
    "threeD_cnn_model.compile(optimizer=optimiser, loss='categorical_crossentropy', metrics=['categorical_accuracy'])\n",
    "print (threeD_cnn_model.summary())"
   ]
  },
  {
   "cell_type": "code",
   "execution_count": 19,
   "metadata": {},
   "outputs": [
    {
     "name": "stdout",
     "output_type": "stream",
     "text": [
      "Epoch 1/20\n",
      "42/42 [==============================] - ETA: 0s - loss: 2.7374 - categorical_accuracy: 0.2851\n",
      "Epoch 00001: val_loss did not improve from 0.19215\n",
      "42/42 [==============================] - 64s 2s/step - loss: 2.7374 - categorical_accuracy: 0.2851 - val_loss: 8.6933 - val_categorical_accuracy: 0.2200 - lr: 0.0010\n",
      "Epoch 2/20\n",
      "42/42 [==============================] - 66s 2s/step - loss: 1.2799 - categorical_accuracy: 0.4585 - val_loss: 2.5366 - val_categorical_accuracy: 0.3100 - lr: 0.0010\n",
      "Epoch 3/20\n",
      "42/42 [==============================] - 66s 2s/step - loss: 1.1462 - categorical_accuracy: 0.5219 - val_loss: 0.9435 - val_categorical_accuracy: 0.6400 - lr: 0.0010\n",
      "Epoch 4/20\n",
      "42/42 [==============================] - ETA: 0s - loss: 1.0002 - categorical_accuracy: 0.5988\n",
      "Epoch 00004: val_loss did not improve from 0.19215\n",
      "42/42 [==============================] - 64s 2s/step - loss: 1.0002 - categorical_accuracy: 0.5988 - val_loss: 0.8830 - val_categorical_accuracy: 0.7000 - lr: 0.0010\n",
      "Epoch 5/20\n",
      "42/42 [==============================] - 68s 2s/step - loss: 0.8224 - categorical_accuracy: 0.6712 - val_loss: 1.0925 - val_categorical_accuracy: 0.5700 - lr: 0.0010\n",
      "Epoch 6/20\n",
      "42/42 [==============================] - 64s 2s/step - loss: 0.8164 - categorical_accuracy: 0.6893 - val_loss: 1.3516 - val_categorical_accuracy: 0.5300 - lr: 0.0010\n",
      "Epoch 7/20\n",
      "42/42 [==============================] - ETA: 0s - loss: 0.6254 - categorical_accuracy: 0.7677\n",
      "Epoch 00007: val_loss did not improve from 0.19215\n",
      "42/42 [==============================] - 65s 2s/step - loss: 0.6254 - categorical_accuracy: 0.7677 - val_loss: 1.2568 - val_categorical_accuracy: 0.5900 - lr: 0.0010\n",
      "Epoch 8/20\n",
      "42/42 [==============================] - ETA: 0s - loss: 0.6049 - categorical_accuracy: 0.7722\n",
      "Epoch 00008: ReduceLROnPlateau reducing learning rate to 0.00020000000949949026.\n",
      "42/42 [==============================] - 65s 2s/step - loss: 0.6049 - categorical_accuracy: 0.7722 - val_loss: 1.0446 - val_categorical_accuracy: 0.6000 - lr: 0.0010\n",
      "Epoch 9/20\n",
      "42/42 [==============================] - 64s 2s/step - loss: 0.4243 - categorical_accuracy: 0.8446 - val_loss: 1.3012 - val_categorical_accuracy: 0.5900 - lr: 2.0000e-04\n",
      "Epoch 10/20\n",
      "42/42 [==============================] - ETA: 0s - loss: 0.4128 - categorical_accuracy: 0.8522\n",
      "Epoch 00010: val_loss did not improve from 0.19215\n",
      "42/42 [==============================] - 66s 2s/step - loss: 0.4128 - categorical_accuracy: 0.8522 - val_loss: 1.1752 - val_categorical_accuracy: 0.5400 - lr: 2.0000e-04\n",
      "Epoch 11/20\n",
      "42/42 [==============================] - 64s 2s/step - loss: 0.3818 - categorical_accuracy: 0.8552 - val_loss: 1.2017 - val_categorical_accuracy: 0.5700 - lr: 2.0000e-04\n",
      "Epoch 12/20\n",
      "42/42 [==============================] - ETA: 0s - loss: 0.3594 - categorical_accuracy: 0.8627\n",
      "Epoch 00012: ReduceLROnPlateau reducing learning rate to 4.0000001899898055e-05.\n",
      "42/42 [==============================] - 64s 2s/step - loss: 0.3594 - categorical_accuracy: 0.8627 - val_loss: 1.2280 - val_categorical_accuracy: 0.5500 - lr: 2.0000e-04\n",
      "Epoch 13/20\n",
      "42/42 [==============================] - ETA: 0s - loss: 0.3118 - categorical_accuracy: 0.8733\n",
      "Epoch 00013: val_loss did not improve from 0.19215\n",
      "42/42 [==============================] - 65s 2s/step - loss: 0.3118 - categorical_accuracy: 0.8733 - val_loss: 1.3277 - val_categorical_accuracy: 0.5000 - lr: 4.0000e-05\n",
      "Epoch 14/20\n",
      "42/42 [==============================] - 68s 2s/step - loss: 0.2882 - categorical_accuracy: 0.8884 - val_loss: 1.0382 - val_categorical_accuracy: 0.6000 - lr: 4.0000e-05\n"
     ]
    }
   ],
   "source": [
    "history = threeD_cnn_model.fit(train_generator, steps_per_epoch=steps_per_epoch, epochs=num_epochs, verbose=1, \n",
    "                    callbacks=callbacks_list, validation_data=val_generator, \n",
    "                    validation_steps=validation_steps, class_weight=None, workers=1, initial_epoch=0)"
   ]
  },
  {
   "cell_type": "code",
   "execution_count": 20,
   "metadata": {},
   "outputs": [
    {
     "data": {
      "image/png": "[encoded data removed]",
      "text/plain": [
       "<Figure size 432x288 with 1 Axes>"
      ]
     },
     "metadata": {
      "needs_background": "light"
     },
     "output_type": "display_data"
    },
    {
     "data": {
      "image/png": "[encoded data removed]",
      "text/plain": [
       "<Figure size 432x288 with 1 Axes>"
      ]
     },
     "metadata": {
      "needs_background": "light"
     },
     "output_type": "display_data"
    }
   ],
   "source": [
    "plt.plot(history.history['categorical_accuracy'])\n",
    "plt.plot(history.history['val_categorical_accuracy'])\n",
    "plt.title('3D CNN model accuracy')\n",
    "plt.ylabel('accuracy')\n",
    "plt.xlabel('epoch')\n",
    "plt.legend(['train', 'test'], loc='upper left')\n",
    "plt.show()\n",
    "# summarize history for loss\n",
    "plt.plot(history.history['loss'])\n",
    "plt.plot(history.history['val_loss'])\n",
    "plt.title('model loss')\n",
    "plt.ylabel('loss')\n",
    "plt.xlabel('epoch')\n",
    "plt.legend(['train', 'test'], loc='upper left')\n",
    "plt.show()"
   ]
  },
  {
   "cell_type": "code",
   "execution_count": null,
   "metadata": {},
   "outputs": [],
   "source": []
  }
 ],
 "metadata": {
  "kernelspec": {
   "display_name": "Python 3",
   "language": "python",
   "name": "python3"
  },
  "language_info": {
   "codemirror_mode": {
    "name": "ipython",
    "version": 3
   },
   "file_extension": ".py",
   "mimetype": "text/x-python",
   "name": "python",
   "nbconvert_exporter": "python",
   "pygments_lexer": "ipython3",
   "version": "3.6.10"
  }
 },
 "nbformat": 4,
 "nbformat_minor": 4
}
